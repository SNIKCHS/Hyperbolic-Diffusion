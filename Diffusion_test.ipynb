{
 "cells": [
  {
   "cell_type": "code",
   "execution_count": 1,
   "metadata": {
    "collapsed": true,
    "pycharm": {
     "name": "#%%\n"
    }
   },
   "outputs": [],
   "source": [
    "import torch\n",
    "from schnetpack.datasets import QM9\n",
    "import schnetpack as spk\n",
    "import os\n",
    "from my_config import config_args\n",
    "from Model.HGDM import HyperbolicAE,HyperbolicDiffusion\n",
    "import optimizers\n",
    "import numpy as np\n",
    "import logging\n",
    "import time\n",
    "from tqdm import tqdm\n",
    "from Model import Encoders, Decoders"
   ]
  },
  {
   "cell_type": "code",
   "execution_count": 2,
   "outputs": [
    {
     "name": "stdout",
     "output_type": "stream",
     "text": [
      "133885\n",
      "200 200 133485\n"
     ]
    }
   ],
   "source": [
    "qm9data = QM9('./data/qm9.db', download=True,load_only=[QM9.U0])\n",
    "qm9split = './data/qm9split'\n",
    "print(len(qm9data))\n",
    "\n",
    "train, val, test = spk.train_test_split(\n",
    "        data=qm9data,\n",
    "        num_train=200,\n",
    "        num_val=200,\n",
    "        split_file=os.path.join(qm9split, \"split200-200.npz\"),\n",
    "    )\n",
    "print(len(train),len(val),len(test))\n",
    "\n",
    "train_loader = spk.AtomsLoader(train, batch_size=200, shuffle=True)\n",
    "val_loader = spk.AtomsLoader(val, batch_size=200)"
   ],
   "metadata": {
    "collapsed": false,
    "pycharm": {
     "name": "#%%\n"
    }
   }
  },
  {
   "cell_type": "code",
   "execution_count": 3,
   "outputs": [
    {
     "name": "stdout",
     "output_type": "stream",
     "text": [
      "Total number of parameters: 4023\n"
     ]
    }
   ],
   "source": [
    "import json\n",
    "class obj(object):\n",
    "    def __init__(self, dict_):\n",
    "        self.__dict__.update(dict_)\n",
    "args = json.loads(json.dumps(config_args), object_hook=obj)\n",
    "\n",
    "model = HyperbolicAE(args)\n",
    "\n",
    "optimizer = getattr(optimizers, args.optimizer)(params=model.parameters(), lr=args.lr,\n",
    "                                                    weight_decay=args.weight_decay)\n",
    "lr_scheduler = torch.optim.lr_scheduler.StepLR(\n",
    "    optimizer,\n",
    "    step_size=args.lr_reduce_freq,\n",
    "    gamma=float(args.gamma)\n",
    ")\n",
    "tot_params = sum([np.prod(p.size()) for p in model.parameters()])\n",
    "print(f\"Total number of parameters: {tot_params}\")\n",
    "device = torch.device('cuda')\n",
    "# Train model\n",
    "t_total = time.time()"
   ],
   "metadata": {
    "collapsed": false,
    "pycharm": {
     "name": "#%%\n"
    }
   }
  },
  {
   "cell_type": "code",
   "execution_count": 4,
   "outputs": [
    {
     "data": {
      "text/plain": "<All keys matched successfully>"
     },
     "execution_count": 4,
     "metadata": {},
     "output_type": "execute_result"
    }
   ],
   "source": [
    "encoder_path = './saved_model/'+args.model+'-encoder_KL.pt'\n",
    "decoder_path = './saved_model/'+args.model+'-decoder_KL.pt'\n",
    "\n",
    "encoder = getattr(Encoders, args.model)(args)\n",
    "encoder.load_state_dict(torch.load(encoder_path))\n",
    "decoder = Decoders.model2decoder[args.model](None, args)\n",
    "decoder.load_state_dict(torch.load(decoder_path))"
   ],
   "metadata": {
    "collapsed": false,
    "pycharm": {
     "name": "#%%\n"
    }
   }
  },
  {
   "cell_type": "code",
   "execution_count": 5,
   "outputs": [
    {
     "name": "stdout",
     "output_type": "stream",
     "text": [
      "Epoch: 0001 lr: 0.0001 loss: 6.4890 time: 1.4539s\n",
      "val_loss: 6.237513542175293\n",
      "Epoch: 0002 lr: 0.0001 loss: 5.7459 time: 0.0000s\n",
      "val_loss: 5.704923629760742\n",
      "Epoch: 0003 lr: 0.0001 loss: 6.0082 time: 0.0000s\n",
      "val_loss: 5.685283660888672\n",
      "Epoch: 0004 lr: 0.0001 loss: 6.0400 time: 0.0000s\n",
      "val_loss: 6.5147199630737305\n",
      "Epoch: 0005 lr: 0.0001 loss: 6.5222 time: 0.0000s\n",
      "val_loss: 6.390995979309082\n",
      "Epoch: 0006 lr: 0.0001 loss: 5.6397 time: 0.0161s\n",
      "val_loss: 5.744829177856445\n",
      "Epoch: 0007 lr: 0.0001 loss: 6.2601 time: 0.0000s\n",
      "val_loss: 6.43630313873291\n",
      "Epoch: 0008 lr: 0.0001 loss: 5.7188 time: 0.0034s\n"
     ]
    },
    {
     "ename": "KeyboardInterrupt",
     "evalue": "",
     "output_type": "error",
     "traceback": [
      "\u001B[1;31m---------------------------------------------------------------------------\u001B[0m",
      "\u001B[1;31mKeyboardInterrupt\u001B[0m                         Traceback (most recent call last)",
      "Input \u001B[1;32mIn [5]\u001B[0m, in \u001B[0;36m<cell line: 3>\u001B[1;34m()\u001B[0m\n\u001B[0;32m     34\u001B[0m \u001B[38;5;28;01mwith\u001B[39;00m torch\u001B[38;5;241m.\u001B[39mno_grad():\n\u001B[0;32m     35\u001B[0m     loss_sum,n \u001B[38;5;241m=\u001B[39m \u001B[38;5;241m0.0\u001B[39m,\u001B[38;5;241m0\u001B[39m\n\u001B[1;32m---> 36\u001B[0m     \u001B[38;5;28;01mfor\u001B[39;00m \u001B[38;5;28minput\u001B[39m \u001B[38;5;129;01min\u001B[39;00m (val_loader):\n\u001B[0;32m     37\u001B[0m         \u001B[38;5;28;01mfor\u001B[39;00m key \u001B[38;5;129;01min\u001B[39;00m \u001B[38;5;28minput\u001B[39m:\n\u001B[0;32m     38\u001B[0m             \u001B[38;5;28minput\u001B[39m[key] \u001B[38;5;241m=\u001B[39m \u001B[38;5;28minput\u001B[39m[key]\u001B[38;5;241m.\u001B[39mto(torch\u001B[38;5;241m.\u001B[39mdevice(\u001B[38;5;124m'\u001B[39m\u001B[38;5;124mcuda\u001B[39m\u001B[38;5;124m'\u001B[39m))\n",
      "File \u001B[1;32mD:\\Anaconda\\envs\\hdmm\\lib\\site-packages\\torch\\utils\\data\\dataloader.py:681\u001B[0m, in \u001B[0;36m_BaseDataLoaderIter.__next__\u001B[1;34m(self)\u001B[0m\n\u001B[0;32m    678\u001B[0m \u001B[38;5;28;01mif\u001B[39;00m \u001B[38;5;28mself\u001B[39m\u001B[38;5;241m.\u001B[39m_sampler_iter \u001B[38;5;129;01mis\u001B[39;00m \u001B[38;5;28;01mNone\u001B[39;00m:\n\u001B[0;32m    679\u001B[0m     \u001B[38;5;66;03m# TODO(https://github.com/pytorch/pytorch/issues/76750)\u001B[39;00m\n\u001B[0;32m    680\u001B[0m     \u001B[38;5;28mself\u001B[39m\u001B[38;5;241m.\u001B[39m_reset()  \u001B[38;5;66;03m# type: ignore[call-arg]\u001B[39;00m\n\u001B[1;32m--> 681\u001B[0m data \u001B[38;5;241m=\u001B[39m \u001B[38;5;28;43mself\u001B[39;49m\u001B[38;5;241;43m.\u001B[39;49m\u001B[43m_next_data\u001B[49m\u001B[43m(\u001B[49m\u001B[43m)\u001B[49m\n\u001B[0;32m    682\u001B[0m \u001B[38;5;28mself\u001B[39m\u001B[38;5;241m.\u001B[39m_num_yielded \u001B[38;5;241m+\u001B[39m\u001B[38;5;241m=\u001B[39m \u001B[38;5;241m1\u001B[39m\n\u001B[0;32m    683\u001B[0m \u001B[38;5;28;01mif\u001B[39;00m \u001B[38;5;28mself\u001B[39m\u001B[38;5;241m.\u001B[39m_dataset_kind \u001B[38;5;241m==\u001B[39m _DatasetKind\u001B[38;5;241m.\u001B[39mIterable \u001B[38;5;129;01mand\u001B[39;00m \\\n\u001B[0;32m    684\u001B[0m         \u001B[38;5;28mself\u001B[39m\u001B[38;5;241m.\u001B[39m_IterableDataset_len_called \u001B[38;5;129;01mis\u001B[39;00m \u001B[38;5;129;01mnot\u001B[39;00m \u001B[38;5;28;01mNone\u001B[39;00m \u001B[38;5;129;01mand\u001B[39;00m \\\n\u001B[0;32m    685\u001B[0m         \u001B[38;5;28mself\u001B[39m\u001B[38;5;241m.\u001B[39m_num_yielded \u001B[38;5;241m>\u001B[39m \u001B[38;5;28mself\u001B[39m\u001B[38;5;241m.\u001B[39m_IterableDataset_len_called:\n",
      "File \u001B[1;32mD:\\Anaconda\\envs\\hdmm\\lib\\site-packages\\torch\\utils\\data\\dataloader.py:721\u001B[0m, in \u001B[0;36m_SingleProcessDataLoaderIter._next_data\u001B[1;34m(self)\u001B[0m\n\u001B[0;32m    719\u001B[0m \u001B[38;5;28;01mdef\u001B[39;00m \u001B[38;5;21m_next_data\u001B[39m(\u001B[38;5;28mself\u001B[39m):\n\u001B[0;32m    720\u001B[0m     index \u001B[38;5;241m=\u001B[39m \u001B[38;5;28mself\u001B[39m\u001B[38;5;241m.\u001B[39m_next_index()  \u001B[38;5;66;03m# may raise StopIteration\u001B[39;00m\n\u001B[1;32m--> 721\u001B[0m     data \u001B[38;5;241m=\u001B[39m \u001B[38;5;28;43mself\u001B[39;49m\u001B[38;5;241;43m.\u001B[39;49m\u001B[43m_dataset_fetcher\u001B[49m\u001B[38;5;241;43m.\u001B[39;49m\u001B[43mfetch\u001B[49m\u001B[43m(\u001B[49m\u001B[43mindex\u001B[49m\u001B[43m)\u001B[49m  \u001B[38;5;66;03m# may raise StopIteration\u001B[39;00m\n\u001B[0;32m    722\u001B[0m     \u001B[38;5;28;01mif\u001B[39;00m \u001B[38;5;28mself\u001B[39m\u001B[38;5;241m.\u001B[39m_pin_memory:\n\u001B[0;32m    723\u001B[0m         data \u001B[38;5;241m=\u001B[39m _utils\u001B[38;5;241m.\u001B[39mpin_memory\u001B[38;5;241m.\u001B[39mpin_memory(data, \u001B[38;5;28mself\u001B[39m\u001B[38;5;241m.\u001B[39m_pin_memory_device)\n",
      "File \u001B[1;32mD:\\Anaconda\\envs\\hdmm\\lib\\site-packages\\torch\\utils\\data\\_utils\\fetch.py:49\u001B[0m, in \u001B[0;36m_MapDatasetFetcher.fetch\u001B[1;34m(self, possibly_batched_index)\u001B[0m\n\u001B[0;32m     47\u001B[0m \u001B[38;5;28;01mdef\u001B[39;00m \u001B[38;5;21mfetch\u001B[39m(\u001B[38;5;28mself\u001B[39m, possibly_batched_index):\n\u001B[0;32m     48\u001B[0m     \u001B[38;5;28;01mif\u001B[39;00m \u001B[38;5;28mself\u001B[39m\u001B[38;5;241m.\u001B[39mauto_collation:\n\u001B[1;32m---> 49\u001B[0m         data \u001B[38;5;241m=\u001B[39m [\u001B[38;5;28mself\u001B[39m\u001B[38;5;241m.\u001B[39mdataset[idx] \u001B[38;5;28;01mfor\u001B[39;00m idx \u001B[38;5;129;01min\u001B[39;00m possibly_batched_index]\n\u001B[0;32m     50\u001B[0m     \u001B[38;5;28;01melse\u001B[39;00m:\n\u001B[0;32m     51\u001B[0m         data \u001B[38;5;241m=\u001B[39m \u001B[38;5;28mself\u001B[39m\u001B[38;5;241m.\u001B[39mdataset[possibly_batched_index]\n",
      "File \u001B[1;32mD:\\Anaconda\\envs\\hdmm\\lib\\site-packages\\torch\\utils\\data\\_utils\\fetch.py:49\u001B[0m, in \u001B[0;36m<listcomp>\u001B[1;34m(.0)\u001B[0m\n\u001B[0;32m     47\u001B[0m \u001B[38;5;28;01mdef\u001B[39;00m \u001B[38;5;21mfetch\u001B[39m(\u001B[38;5;28mself\u001B[39m, possibly_batched_index):\n\u001B[0;32m     48\u001B[0m     \u001B[38;5;28;01mif\u001B[39;00m \u001B[38;5;28mself\u001B[39m\u001B[38;5;241m.\u001B[39mauto_collation:\n\u001B[1;32m---> 49\u001B[0m         data \u001B[38;5;241m=\u001B[39m [\u001B[38;5;28;43mself\u001B[39;49m\u001B[38;5;241;43m.\u001B[39;49m\u001B[43mdataset\u001B[49m\u001B[43m[\u001B[49m\u001B[43midx\u001B[49m\u001B[43m]\u001B[49m \u001B[38;5;28;01mfor\u001B[39;00m idx \u001B[38;5;129;01min\u001B[39;00m possibly_batched_index]\n\u001B[0;32m     50\u001B[0m     \u001B[38;5;28;01melse\u001B[39;00m:\n\u001B[0;32m     51\u001B[0m         data \u001B[38;5;241m=\u001B[39m \u001B[38;5;28mself\u001B[39m\u001B[38;5;241m.\u001B[39mdataset[possibly_batched_index]\n",
      "File \u001B[1;32mD:\\Anaconda\\envs\\hdmm\\lib\\site-packages\\schnetpack\\data\\atoms.py:634\u001B[0m, in \u001B[0;36mAtomsDataSubset.__getitem__\u001B[1;34m(self, idx)\u001B[0m\n\u001B[0;32m    633\u001B[0m \u001B[38;5;28;01mdef\u001B[39;00m \u001B[38;5;21m__getitem__\u001B[39m(\u001B[38;5;28mself\u001B[39m, idx):\n\u001B[1;32m--> 634\u001B[0m     _, properties \u001B[38;5;241m=\u001B[39m \u001B[38;5;28;43mself\u001B[39;49m\u001B[38;5;241;43m.\u001B[39;49m\u001B[43mget_properties\u001B[49m\u001B[43m(\u001B[49m\u001B[38;5;28;43mself\u001B[39;49m\u001B[38;5;241;43m.\u001B[39;49m\u001B[43mindices\u001B[49m\u001B[43m[\u001B[49m\u001B[43midx\u001B[49m\u001B[43m]\u001B[49m\u001B[43m,\u001B[49m\u001B[43m \u001B[49m\u001B[38;5;28;43mself\u001B[39;49m\u001B[38;5;241;43m.\u001B[39;49m\u001B[43mload_only\u001B[49m\u001B[43m)\u001B[49m\n\u001B[0;32m    635\u001B[0m     properties[\u001B[38;5;124m\"\u001B[39m\u001B[38;5;124m_idx\u001B[39m\u001B[38;5;124m\"\u001B[39m] \u001B[38;5;241m=\u001B[39m np\u001B[38;5;241m.\u001B[39marray([idx], dtype\u001B[38;5;241m=\u001B[39mnp\u001B[38;5;241m.\u001B[39mint)\n\u001B[0;32m    637\u001B[0m     \u001B[38;5;28;01mreturn\u001B[39;00m torchify_dict(properties)\n",
      "File \u001B[1;32mD:\\Anaconda\\envs\\hdmm\\lib\\site-packages\\schnetpack\\data\\atoms.py:608\u001B[0m, in \u001B[0;36mAtomsDataSubset.get_properties\u001B[1;34m(self, idx, load_only)\u001B[0m\n\u001B[0;32m    607\u001B[0m \u001B[38;5;28;01mdef\u001B[39;00m \u001B[38;5;21mget_properties\u001B[39m(\u001B[38;5;28mself\u001B[39m, idx, load_only\u001B[38;5;241m=\u001B[39m\u001B[38;5;28;01mNone\u001B[39;00m):\n\u001B[1;32m--> 608\u001B[0m     \u001B[38;5;28;01mreturn\u001B[39;00m \u001B[38;5;28;43mself\u001B[39;49m\u001B[38;5;241;43m.\u001B[39;49m\u001B[43mdataset\u001B[49m\u001B[38;5;241;43m.\u001B[39;49m\u001B[43mget_properties\u001B[49m\u001B[43m(\u001B[49m\u001B[43midx\u001B[49m\u001B[43m,\u001B[49m\u001B[43m \u001B[49m\u001B[43mload_only\u001B[49m\u001B[43m)\u001B[49m\n",
      "File \u001B[1;32mD:\\Anaconda\\envs\\hdmm\\lib\\site-packages\\schnetpack\\data\\atoms.py:239\u001B[0m, in \u001B[0;36mAtomsData.get_properties\u001B[1;34m(self, idx, load_only)\u001B[0m\n\u001B[0;32m    237\u001B[0m \u001B[38;5;66;03m# read from ase-database\u001B[39;00m\n\u001B[0;32m    238\u001B[0m \u001B[38;5;28;01mwith\u001B[39;00m connect(\u001B[38;5;28mself\u001B[39m\u001B[38;5;241m.\u001B[39mdbpath) \u001B[38;5;28;01mas\u001B[39;00m conn:\n\u001B[1;32m--> 239\u001B[0m     row \u001B[38;5;241m=\u001B[39m \u001B[43mconn\u001B[49m\u001B[38;5;241;43m.\u001B[39;49m\u001B[43mget\u001B[49m\u001B[43m(\u001B[49m\u001B[43midx\u001B[49m\u001B[43m \u001B[49m\u001B[38;5;241;43m+\u001B[39;49m\u001B[43m \u001B[49m\u001B[38;5;241;43m1\u001B[39;49m\u001B[43m)\u001B[49m\n\u001B[0;32m    240\u001B[0m at \u001B[38;5;241m=\u001B[39m row\u001B[38;5;241m.\u001B[39mtoatoms()\n\u001B[0;32m    242\u001B[0m \u001B[38;5;66;03m# extract properties\u001B[39;00m\n",
      "File \u001B[1;32mD:\\Anaconda\\envs\\hdmm\\lib\\site-packages\\ase\\db\\core.py:430\u001B[0m, in \u001B[0;36mDatabase.get\u001B[1;34m(self, selection, **kwargs)\u001B[0m\n\u001B[0;32m    424\u001B[0m \u001B[38;5;28;01mdef\u001B[39;00m \u001B[38;5;21mget\u001B[39m(\u001B[38;5;28mself\u001B[39m, selection\u001B[38;5;241m=\u001B[39m\u001B[38;5;28;01mNone\u001B[39;00m, \u001B[38;5;241m*\u001B[39m\u001B[38;5;241m*\u001B[39mkwargs):\n\u001B[0;32m    425\u001B[0m     \u001B[38;5;124;03m\"\"\"Select a single row and return it as a dictionary.\u001B[39;00m\n\u001B[0;32m    426\u001B[0m \n\u001B[0;32m    427\u001B[0m \u001B[38;5;124;03m    selection: int, str or list\u001B[39;00m\n\u001B[0;32m    428\u001B[0m \u001B[38;5;124;03m        See the select() method.\u001B[39;00m\n\u001B[0;32m    429\u001B[0m \u001B[38;5;124;03m    \"\"\"\u001B[39;00m\n\u001B[1;32m--> 430\u001B[0m     rows \u001B[38;5;241m=\u001B[39m \u001B[38;5;28;43mlist\u001B[39;49m\u001B[43m(\u001B[49m\u001B[38;5;28;43mself\u001B[39;49m\u001B[38;5;241;43m.\u001B[39;49m\u001B[43mselect\u001B[49m\u001B[43m(\u001B[49m\u001B[43mselection\u001B[49m\u001B[43m,\u001B[49m\u001B[43m \u001B[49m\u001B[43mlimit\u001B[49m\u001B[38;5;241;43m=\u001B[39;49m\u001B[38;5;241;43m2\u001B[39;49m\u001B[43m,\u001B[49m\u001B[43m \u001B[49m\u001B[38;5;241;43m*\u001B[39;49m\u001B[38;5;241;43m*\u001B[39;49m\u001B[43mkwargs\u001B[49m\u001B[43m)\u001B[49m\u001B[43m)\u001B[49m\n\u001B[0;32m    431\u001B[0m     \u001B[38;5;28;01mif\u001B[39;00m \u001B[38;5;129;01mnot\u001B[39;00m rows:\n\u001B[0;32m    432\u001B[0m         \u001B[38;5;28;01mraise\u001B[39;00m \u001B[38;5;167;01mKeyError\u001B[39;00m(\u001B[38;5;124m'\u001B[39m\u001B[38;5;124mno match\u001B[39m\u001B[38;5;124m'\u001B[39m)\n",
      "File \u001B[1;32mD:\\Anaconda\\envs\\hdmm\\lib\\site-packages\\ase\\parallel.py:275\u001B[0m, in \u001B[0;36mparallel_generator.<locals>.new_generator\u001B[1;34m(*args, **kwargs)\u001B[0m\n\u001B[0;32m    269\u001B[0m \u001B[38;5;129m@functools\u001B[39m\u001B[38;5;241m.\u001B[39mwraps(generator)\n\u001B[0;32m    270\u001B[0m \u001B[38;5;28;01mdef\u001B[39;00m \u001B[38;5;21mnew_generator\u001B[39m(\u001B[38;5;241m*\u001B[39margs, \u001B[38;5;241m*\u001B[39m\u001B[38;5;241m*\u001B[39mkwargs):\n\u001B[0;32m    271\u001B[0m     \u001B[38;5;28;01mif\u001B[39;00m (world\u001B[38;5;241m.\u001B[39msize \u001B[38;5;241m==\u001B[39m \u001B[38;5;241m1\u001B[39m \u001B[38;5;129;01mor\u001B[39;00m\n\u001B[0;32m    272\u001B[0m         args \u001B[38;5;129;01mand\u001B[39;00m \u001B[38;5;28mgetattr\u001B[39m(args[\u001B[38;5;241m0\u001B[39m], \u001B[38;5;124m'\u001B[39m\u001B[38;5;124mserial\u001B[39m\u001B[38;5;124m'\u001B[39m, \u001B[38;5;28;01mFalse\u001B[39;00m) \u001B[38;5;129;01mor\u001B[39;00m\n\u001B[0;32m    273\u001B[0m         \u001B[38;5;129;01mnot\u001B[39;00m kwargs\u001B[38;5;241m.\u001B[39mpop(\u001B[38;5;124m'\u001B[39m\u001B[38;5;124mparallel\u001B[39m\u001B[38;5;124m'\u001B[39m, \u001B[38;5;28;01mTrue\u001B[39;00m)):\n\u001B[0;32m    274\u001B[0m         \u001B[38;5;66;03m# Disable:\u001B[39;00m\n\u001B[1;32m--> 275\u001B[0m         \u001B[38;5;28;01mfor\u001B[39;00m result \u001B[38;5;129;01min\u001B[39;00m generator(\u001B[38;5;241m*\u001B[39margs, \u001B[38;5;241m*\u001B[39m\u001B[38;5;241m*\u001B[39mkwargs):\n\u001B[0;32m    276\u001B[0m             \u001B[38;5;28;01myield\u001B[39;00m result\n\u001B[0;32m    277\u001B[0m         \u001B[38;5;28;01mreturn\u001B[39;00m\n",
      "File \u001B[1;32mD:\\Anaconda\\envs\\hdmm\\lib\\site-packages\\ase\\db\\core.py:486\u001B[0m, in \u001B[0;36mDatabase.select\u001B[1;34m(self, selection, filter, explain, verbosity, limit, offset, sort, include_data, columns, **kwargs)\u001B[0m\n\u001B[0;32m    483\u001B[0m         sort \u001B[38;5;241m+\u001B[39m\u001B[38;5;241m=\u001B[39m \u001B[38;5;124m'\u001B[39m\u001B[38;5;124mname\u001B[39m\u001B[38;5;124m'\u001B[39m\n\u001B[0;32m    485\u001B[0m keys, cmps \u001B[38;5;241m=\u001B[39m parse_selection(selection, \u001B[38;5;241m*\u001B[39m\u001B[38;5;241m*\u001B[39mkwargs)\n\u001B[1;32m--> 486\u001B[0m \u001B[38;5;28;01mfor\u001B[39;00m row \u001B[38;5;129;01min\u001B[39;00m \u001B[38;5;28mself\u001B[39m\u001B[38;5;241m.\u001B[39m_select(keys, cmps, explain\u001B[38;5;241m=\u001B[39mexplain,\n\u001B[0;32m    487\u001B[0m                         verbosity\u001B[38;5;241m=\u001B[39mverbosity,\n\u001B[0;32m    488\u001B[0m                         limit\u001B[38;5;241m=\u001B[39mlimit, offset\u001B[38;5;241m=\u001B[39moffset, sort\u001B[38;5;241m=\u001B[39msort,\n\u001B[0;32m    489\u001B[0m                         include_data\u001B[38;5;241m=\u001B[39minclude_data,\n\u001B[0;32m    490\u001B[0m                         columns\u001B[38;5;241m=\u001B[39mcolumns):\n\u001B[0;32m    491\u001B[0m     \u001B[38;5;28;01mif\u001B[39;00m \u001B[38;5;28mfilter\u001B[39m \u001B[38;5;129;01mis\u001B[39;00m \u001B[38;5;28;01mNone\u001B[39;00m \u001B[38;5;129;01mor\u001B[39;00m \u001B[38;5;28mfilter\u001B[39m(row):\n\u001B[0;32m    492\u001B[0m         \u001B[38;5;28;01myield\u001B[39;00m row\n",
      "File \u001B[1;32mD:\\Anaconda\\envs\\hdmm\\lib\\site-packages\\ase\\db\\sqlite.py:690\u001B[0m, in \u001B[0;36mSQLite3Database._select\u001B[1;34m(self, keys, cmps, explain, verbosity, limit, offset, sort, include_data, columns)\u001B[0m\n\u001B[0;32m    688\u001B[0m \u001B[38;5;28;01mwith\u001B[39;00m \u001B[38;5;28mself\u001B[39m\u001B[38;5;241m.\u001B[39mmanaged_connection() \u001B[38;5;28;01mas\u001B[39;00m con:\n\u001B[0;32m    689\u001B[0m     cur \u001B[38;5;241m=\u001B[39m con\u001B[38;5;241m.\u001B[39mcursor()\n\u001B[1;32m--> 690\u001B[0m     \u001B[43mcur\u001B[49m\u001B[38;5;241;43m.\u001B[39;49m\u001B[43mexecute\u001B[49m\u001B[43m(\u001B[49m\u001B[43msql\u001B[49m\u001B[43m,\u001B[49m\u001B[43m \u001B[49m\u001B[43margs\u001B[49m\u001B[43m)\u001B[49m\n\u001B[0;32m    691\u001B[0m     \u001B[38;5;28;01mif\u001B[39;00m explain:\n\u001B[0;32m    692\u001B[0m         \u001B[38;5;28;01mfor\u001B[39;00m row \u001B[38;5;129;01min\u001B[39;00m cur\u001B[38;5;241m.\u001B[39mfetchall():\n",
      "\u001B[1;31mKeyboardInterrupt\u001B[0m: "
     ]
    }
   ],
   "source": [
    "model = HyperbolicDiffusion(args,encoder,decoder)\n",
    "model = model.to(device)\n",
    "for epoch in range(args.epochs):\n",
    "    model.train()\n",
    "    counter = 0\n",
    "    loss_sum,n = 0.0,0\n",
    "    for input in (train_loader):\n",
    "        for key in input:\n",
    "            input[key] = input[key].to(torch.device('cuda'))\n",
    "        t = time.time()\n",
    "        model.train()\n",
    "        optimizer.zero_grad()\n",
    "        loss = model(input)\n",
    "        # print(loss.item(),lr_scheduler.get_last_lr())\n",
    "        loss.backward()\n",
    "        loss_sum += loss\n",
    "        n += 1\n",
    "        if args.grad_clip is not None:\n",
    "            grad_clip = float(args.grad_clip)\n",
    "            all_params = list(model.parameters())\n",
    "            for param in all_params:\n",
    "                torch.nn.utils.clip_grad_value_(param, grad_clip)\n",
    "        optimizer.step()\n",
    "        lr_scheduler.step()\n",
    "    if (epoch + 1) % args.log_freq == 0:\n",
    "        str = \" \".join(['Epoch: {:04d}'.format(epoch + 1),\n",
    "                               'lr: {}'.format(lr_scheduler.get_last_lr()[0]),\n",
    "                               'loss: {:.4f}'.format(loss_sum/n),\n",
    "                               'time: {:.4f}s'.format(time.time() - t)\n",
    "                               ])\n",
    "        print(str)\n",
    "\n",
    "    model.eval()\n",
    "    with torch.no_grad():\n",
    "        loss_sum,n = 0.0,0\n",
    "        for input in (val_loader):\n",
    "            for key in input:\n",
    "                input[key] = input[key].to(torch.device('cuda'))\n",
    "            t = time.time()\n",
    "            model.train()\n",
    "            optimizer.zero_grad()\n",
    "            loss = model(input).sum()\n",
    "            n += 1\n",
    "            loss_sum += loss\n",
    "\n",
    "        print('val_loss:',loss_sum.item()/n)\n"
   ],
   "metadata": {
    "collapsed": false,
    "pycharm": {
     "name": "#%%\n"
    }
   }
  },
  {
   "cell_type": "code",
   "execution_count": null,
   "outputs": [],
   "source": [],
   "metadata": {
    "collapsed": false,
    "pycharm": {
     "name": "#%%\n"
    }
   }
  }
 ],
 "metadata": {
  "kernelspec": {
   "display_name": "Python 3",
   "language": "python",
   "name": "python3"
  },
  "language_info": {
   "codemirror_mode": {
    "name": "ipython",
    "version": 2
   },
   "file_extension": ".py",
   "mimetype": "text/x-python",
   "name": "python",
   "nbconvert_exporter": "python",
   "pygments_lexer": "ipython2",
   "version": "2.7.6"
  }
 },
 "nbformat": 4,
 "nbformat_minor": 0
}