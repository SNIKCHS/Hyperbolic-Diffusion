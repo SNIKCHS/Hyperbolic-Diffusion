{
 "cells": [
  {
   "cell_type": "code",
   "execution_count": 1,
   "metadata": {
    "collapsed": true,
    "pycharm": {
     "name": "#%%\n"
    }
   },
   "outputs": [],
   "source": [
    "import torch\n",
    "from manifolds.hyperboloid import Hyperboloid\n",
    "manifold = Hyperboloid()\n",
    "size = (1,3,2)\n",
    "input = torch.tensor(   [[[1., 8.],\n",
    "                          [3., 2.],\n",
    "                          [-1e5, 1e5]]])\n",
    "c = 1e-4   # c约接近0，双曲空间的数据缩放越小，能表示的数字越大\n",
    "input = torch.concat([torch.zeros((1,3,1)),input],dim=2)"
   ]
  },
  {
   "cell_type": "code",
   "execution_count": 4,
   "outputs": [
    {
     "name": "stdout",
     "output_type": "stream",
     "text": [
      "tensor([6, 6, 6])\n"
     ]
    }
   ],
   "source": [
    "tensors = torch.tensor([[1,2,3],\n",
    "                        [1,5,6]])\n",
    "tensors = tensors.unsqueeze(2).expand(-1,-1,3)\n",
    "print(tensors[1,2])"
   ],
   "metadata": {
    "collapsed": false,
    "pycharm": {
     "name": "#%%\n"
    }
   }
  },
  {
   "cell_type": "code",
   "execution_count": 6,
   "outputs": [
    {
     "name": "stdout",
     "output_type": "stream",
     "text": [
      "tensor([-6.6667e+05, -1.0000e-10,  1.0000e+06,  1.0000e-10])\n",
      "tensor([-1.0000e-06, -1.0000e-10,  1.0000e+02,  1.0000e-10])\n"
     ]
    }
   ],
   "source": [
    "t = torch.tensor([-666666,-1e-10,999999,1e-10])\n",
    "print(t)\n",
    "t = torch.clamp(t,min=-1e-6,max=100)\n",
    "print(t)"
   ],
   "metadata": {
    "collapsed": false,
    "pycharm": {
     "name": "#%%\n"
    }
   }
  },
  {
   "cell_type": "code",
   "execution_count": 2,
   "outputs": [
    {
     "name": "stdout",
     "output_type": "stream",
     "text": [
      "tensor([[[ 0.0000e+00,  1.0000e+00,  8.0000e+00],\n",
      "         [ 0.0000e+00,  3.0000e+00,  2.0000e+00],\n",
      "         [ 0.0000e+00, -1.0000e+05,  1.0000e+05]]])\n"
     ]
    }
   ],
   "source": [
    "input = manifold.proj_tan0(input,c)\n",
    "print(input)"
   ],
   "metadata": {
    "collapsed": false,
    "pycharm": {
     "name": "#%%\n"
    }
   }
  },
  {
   "cell_type": "code",
   "execution_count": 3,
   "outputs": [
    {
     "name": "stdout",
     "output_type": "stream",
     "text": [
      "tensor([[[ 1.0033e+02,  1.0011e+00,  8.0087e+00],\n",
      "         [ 1.0007e+02,  3.0006e+00,  2.0004e+00],\n",
      "         [ 1.6345e+08, -1.1558e+08,  1.1558e+08]]])\n"
     ]
    }
   ],
   "source": [
    "input_H0 = manifold.expmap0(input,c)\n",
    "print(input_H0)"
   ],
   "metadata": {
    "collapsed": false,
    "pycharm": {
     "name": "#%%\n"
    }
   }
  },
  {
   "cell_type": "code",
   "execution_count": 4,
   "outputs": [
    {
     "name": "stdout",
     "output_type": "stream",
     "text": [
      "tensor([[[ 0.0000e+00,  9.9999e-01,  7.9999e+00],\n",
      "         [ 0.0000e+00,  2.9999e+00,  2.0000e+00],\n",
      "         [ 0.0000e+00, -1.0607e+03,  1.0607e+03]]])\n"
     ]
    }
   ],
   "source": [
    "input_tan0 = manifold.logmap0(input_H0,c)\n",
    "print(input_tan0)\n"
   ],
   "metadata": {
    "collapsed": false,
    "pycharm": {
     "name": "#%%\n"
    }
   }
  },
  {
   "cell_type": "code",
   "execution_count": 5,
   "outputs": [
    {
     "name": "stdout",
     "output_type": "stream",
     "text": [
      "tensor([[[100.,   0.,   0.],\n",
      "         [100.,   0.,   0.],\n",
      "         [100.,   0.,   0.]]])\n"
     ]
    }
   ],
   "source": [
    "o = torch.zeros(size)\n",
    "o = torch.concat([torch.zeros((1,3,1)),o],dim=2)\n",
    "o = manifold.proj_tan0(o,c)\n",
    "o = manifold.expmap0(o,c)\n",
    "print(o)  # 原点是[1/根号k,0,...,0]"
   ],
   "metadata": {
    "collapsed": false,
    "pycharm": {
     "name": "#%%\n"
    }
   }
  },
  {
   "cell_type": "code",
   "execution_count": 6,
   "outputs": [
    {
     "name": "stdout",
     "output_type": "stream",
     "text": [
      "tensor([[[ 0.0000,  0.8771,  7.0165],\n",
      "         [ 0.0000,  2.9999,  2.0000],\n",
      "         [ 0.0000, -5.0000,  5.0000]]])\n"
     ]
    }
   ],
   "source": [
    "input_t = manifold.logmap(o,input_H0,c)\n",
    "print(input_t)"
   ],
   "metadata": {
    "collapsed": false,
    "pycharm": {
     "name": "#%%\n"
    }
   }
  },
  {
   "cell_type": "code",
   "execution_count": 7,
   "outputs": [
    {
     "name": "stdout",
     "output_type": "stream",
     "text": [
      "tensor([[[100.2501,   0.8778,   7.0223],\n",
      "         [100.0650,   3.0006,   2.0004],\n",
      "         [100.2501,  -5.0042,   5.0042]]])\n"
     ]
    }
   ],
   "source": [
    "input_t = manifold.expmap(input_t,o,c)\n",
    "print(input_t)"
   ],
   "metadata": {
    "collapsed": false,
    "pycharm": {
     "name": "#%%\n"
    }
   }
  },
  {
   "cell_type": "code",
   "execution_count": 8,
   "outputs": [
    {
     "name": "stdout",
     "output_type": "stream",
     "text": [
      "tensor([[[ 0.0000,  0.8771,  7.0165],\n",
      "         [ 0.0000,  2.9999,  2.0000],\n",
      "         [ 0.0000, -5.0000,  5.0000]]])\n"
     ]
    }
   ],
   "source": [
    "input_H0_tan = manifold.logmap(o,input_H0,c)\n",
    "print(input_H0_tan)"
   ],
   "metadata": {
    "collapsed": false,
    "pycharm": {
     "name": "#%%\n"
    }
   }
  },
  {
   "cell_type": "code",
   "execution_count": 8,
   "outputs": [],
   "source": [],
   "metadata": {
    "collapsed": false,
    "pycharm": {
     "name": "#%%\n"
    }
   }
  }
 ],
 "metadata": {
  "kernelspec": {
   "display_name": "Python 3",
   "language": "python",
   "name": "python3"
  },
  "language_info": {
   "codemirror_mode": {
    "name": "ipython",
    "version": 2
   },
   "file_extension": ".py",
   "mimetype": "text/x-python",
   "name": "python",
   "nbconvert_exporter": "python",
   "pygments_lexer": "ipython2",
   "version": "2.7.6"
  }
 },
 "nbformat": 4,
 "nbformat_minor": 0
}