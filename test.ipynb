{
 "cells": [
  {
   "cell_type": "code",
   "execution_count": 81,
   "metadata": {
    "collapsed": true,
    "pycharm": {
     "name": "#%%\n"
    }
   },
   "outputs": [],
   "source": [
    "import torch\n",
    "from manifolds.hyperboloid import Hyperboloid\n",
    "manifold = Hyperboloid()\n",
    "size = (1,3,2)\n",
    "input = torch.tensor(   [[[1., 1.],\n",
    "                          [2., 2.],\n",
    "                          [6, 6]]])\n",
    "c = 1\n",
    "input = torch.concat([torch.zeros((1,3,1)),input],dim=2)"
   ]
  },
  {
   "cell_type": "code",
   "execution_count": 82,
   "outputs": [
    {
     "name": "stdout",
     "output_type": "stream",
     "text": [
      "tensor([[[0., 1., 1.],\n",
      "         [0., 2., 2.],\n",
      "         [0., 6., 6.]]])\n"
     ]
    }
   ],
   "source": [
    "input = manifold.proj_tan0(input,c)\n",
    "print(input)"
   ],
   "metadata": {
    "collapsed": false,
    "pycharm": {
     "name": "#%%\n"
    }
   }
  },
  {
   "cell_type": "code",
   "execution_count": 83,
   "outputs": [
    {
     "name": "stdout",
     "output_type": "stream",
     "text": [
      "tensor([[[2.1782e+00, 1.3683e+00, 1.3683e+00],\n",
      "         [8.4890e+00, 5.9608e+00, 5.9608e+00],\n",
      "         [2.4215e+03, 1.7122e+03, 1.7122e+03]]])\n"
     ]
    }
   ],
   "source": [
    "input_H0 = manifold.expmap0(input,c)\n",
    "print(input_H0)"
   ],
   "metadata": {
    "collapsed": false,
    "pycharm": {
     "name": "#%%\n"
    }
   }
  },
  {
   "cell_type": "code",
   "execution_count": 84,
   "outputs": [
    {
     "name": "stdout",
     "output_type": "stream",
     "text": [
      "tensor([[[0., 1., 1.],\n",
      "         [0., 2., 2.],\n",
      "         [0., 6., 6.]]])\n"
     ]
    }
   ],
   "source": [
    "input_tan0 = manifold.logmap0(input_H0,c)\n",
    "print(input_tan0)\n"
   ],
   "metadata": {
    "collapsed": false,
    "pycharm": {
     "name": "#%%\n"
    }
   }
  },
  {
   "cell_type": "code",
   "execution_count": 85,
   "outputs": [
    {
     "name": "stdout",
     "output_type": "stream",
     "text": [
      "tensor([[[1., 0., 0.],\n",
      "         [1., 0., 0.],\n",
      "         [1., 0., 0.]]])\n"
     ]
    }
   ],
   "source": [
    "o = torch.zeros(size)\n",
    "o = torch.concat([torch.zeros((1,3,1)),o],dim=2)\n",
    "o = manifold.proj_tan0(o,c)\n",
    "o = manifold.expmap0(o,c)\n",
    "print(o)  # 原点是[1/根号k,0,...,0]"
   ],
   "metadata": {
    "collapsed": false,
    "pycharm": {
     "name": "#%%\n"
    }
   }
  },
  {
   "cell_type": "code",
   "execution_count": 86,
   "outputs": [
    {
     "name": "stdout",
     "output_type": "stream",
     "text": [
      "tensor([[[0., 1., 1.],\n",
      "         [0., 2., 2.],\n",
      "         [0., 5., 5.]]])\n"
     ]
    }
   ],
   "source": [
    "input_t = manifold.logmap(o,input_H0,c)\n",
    "print(input_t)"
   ],
   "metadata": {
    "collapsed": false,
    "pycharm": {
     "name": "#%%\n"
    }
   }
  },
  {
   "cell_type": "code",
   "execution_count": 87,
   "outputs": [
    {
     "name": "stdout",
     "output_type": "stream",
     "text": [
      "tensor([[[  2.1782,   1.3683,   1.3683],\n",
      "         [  8.4890,   5.9608,   5.9608],\n",
      "         [588.7028, 416.2751, 416.2751]]])\n"
     ]
    }
   ],
   "source": [
    "input_t = manifold.expmap(input_t,o,c)\n",
    "print(input_t)"
   ],
   "metadata": {
    "collapsed": false,
    "pycharm": {
     "name": "#%%\n"
    }
   }
  },
  {
   "cell_type": "code",
   "execution_count": 88,
   "outputs": [
    {
     "name": "stdout",
     "output_type": "stream",
     "text": [
      "tensor([[[0., 1., 1.],\n",
      "         [0., 2., 2.],\n",
      "         [0., 5., 5.]]])\n"
     ]
    }
   ],
   "source": [
    "input_H0_tan = manifold.logmap(o,input_H0,c)\n",
    "print(input_H0_tan)"
   ],
   "metadata": {
    "collapsed": false,
    "pycharm": {
     "name": "#%%\n"
    }
   }
  },
  {
   "cell_type": "code",
   "execution_count": 88,
   "outputs": [],
   "source": [],
   "metadata": {
    "collapsed": false,
    "pycharm": {
     "name": "#%%\n"
    }
   }
  }
 ],
 "metadata": {
  "kernelspec": {
   "display_name": "Python 3",
   "language": "python",
   "name": "python3"
  },
  "language_info": {
   "codemirror_mode": {
    "name": "ipython",
    "version": 2
   },
   "file_extension": ".py",
   "mimetype": "text/x-python",
   "name": "python",
   "nbconvert_exporter": "python",
   "pygments_lexer": "ipython2",
   "version": "2.7.6"
  }
 },
 "nbformat": 4,
 "nbformat_minor": 0
}