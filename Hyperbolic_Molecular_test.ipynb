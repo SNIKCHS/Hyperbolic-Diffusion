{
 "cells": [
  {
   "cell_type": "code",
   "execution_count": 1,
   "outputs": [],
   "source": [
    "import torch\n",
    "from schnetpack.datasets import QM9\n",
    "import schnetpack as spk\n",
    "import os\n",
    "from my_config import config_args\n",
    "from Model.HGDM import HyperbolicAE,HyperbolicDiffusion\n",
    "import optimizers\n",
    "import numpy as np\n",
    "import logging\n",
    "import time\n",
    "from tqdm import tqdm"
   ],
   "metadata": {
    "collapsed": false,
    "pycharm": {
     "name": "#%%\n"
    }
   }
  },
  {
   "cell_type": "markdown",
   "source": [
    "# 获得训练数据"
   ],
   "metadata": {
    "collapsed": false,
    "pycharm": {
     "name": "#%% md\n"
    }
   }
  },
  {
   "cell_type": "code",
   "execution_count": 2,
   "outputs": [
    {
     "name": "stdout",
     "output_type": "stream",
     "text": [
      "133885\n"
     ]
    }
   ],
   "source": [
    "qm9data = QM9('./data/qm9.db', download=True,load_only=[QM9.U0])\n",
    "qm9split = './data/qm9split'\n",
    "print(len(qm9data))"
   ],
   "metadata": {
    "collapsed": false,
    "pycharm": {
     "name": "#%%\n"
    }
   }
  },
  {
   "cell_type": "code",
   "execution_count": 3,
   "outputs": [
    {
     "name": "stdout",
     "output_type": "stream",
     "text": [
      "30000 10000 93885\n"
     ]
    }
   ],
   "source": [
    "train, val, test = spk.train_test_split(\n",
    "        data=qm9data,\n",
    "        num_train=30000,\n",
    "        num_val=10000,\n",
    "        split_file=os.path.join(qm9split, \"split30000-10000.npz\"),\n",
    "    )\n",
    "print(len(train),len(val),len(test))"
   ],
   "metadata": {
    "collapsed": false,
    "pycharm": {
     "name": "#%%\n"
    }
   }
  },
  {
   "cell_type": "code",
   "execution_count": 4,
   "outputs": [],
   "source": [
    "train_loader = spk.AtomsLoader(train, batch_size=256, shuffle=True)\n",
    "val_loader = spk.AtomsLoader(val, batch_size=256)"
   ],
   "metadata": {
    "collapsed": false,
    "pycharm": {
     "name": "#%%\n"
    }
   }
  },
  {
   "cell_type": "code",
   "execution_count": 5,
   "outputs": [
    {
     "data": {
      "text/plain": "HyperbolicAE(\n  (embedding): Embedding(100, 11, padding_idx=0)\n  (encoder): HNN(\n    (curvatures): ParameterList(\n        (0): Parameter containing: [torch.cuda.FloatTensor of size 1 (GPU 0)]\n        (1): Parameter containing: [torch.cuda.FloatTensor of size 1 (GPU 0)]\n        (2): Parameter containing: [torch.cuda.FloatTensor of size 1 (GPU 0)]\n        (3): Parameter containing: [torch.cuda.FloatTensor of size 1 (GPU 0)]\n        (4): Parameter containing: [torch.cuda.FloatTensor of size 1 (GPU 0)]\n        (5): Parameter containing: [torch.cuda.FloatTensor of size 1 (GPU 0)]\n        (6): Parameter containing: [torch.cuda.FloatTensor of size 1 (GPU 0)]\n        (7): Parameter containing: [torch.cuda.FloatTensor of size 1 (GPU 0)]\n        (8): Parameter containing: [torch.cuda.FloatTensor of size 1 (GPU 0)]\n    )\n    (layers): Sequential(\n      (0): HNNLayer(\n        (linear): HypLinear(\n          in_features=15, out_features=20, c=Parameter containing:\n          tensor([1.], device='cuda:0', requires_grad=True)\n        )\n        (hyp_act): HypAct(\n          c_in=Parameter containing:\n          tensor([1.], device='cuda:0', requires_grad=True), c_out=Parameter containing:\n          tensor([1.], device='cuda:0', requires_grad=True)\n        )\n      )\n      (1): HNNLayer(\n        (linear): HypLinear(\n          in_features=20, out_features=20, c=Parameter containing:\n          tensor([1.], device='cuda:0', requires_grad=True)\n        )\n        (hyp_act): HypAct(\n          c_in=Parameter containing:\n          tensor([1.], device='cuda:0', requires_grad=True), c_out=Parameter containing:\n          tensor([1.], device='cuda:0', requires_grad=True)\n        )\n      )\n      (2): HNNLayer(\n        (linear): HypLinear(\n          in_features=20, out_features=20, c=Parameter containing:\n          tensor([1.], device='cuda:0', requires_grad=True)\n        )\n        (hyp_act): HypAct(\n          c_in=Parameter containing:\n          tensor([1.], device='cuda:0', requires_grad=True), c_out=Parameter containing:\n          tensor([1.], device='cuda:0', requires_grad=True)\n        )\n      )\n      (3): HNNLayer(\n        (linear): HypLinear(\n          in_features=20, out_features=20, c=Parameter containing:\n          tensor([1.], device='cuda:0', requires_grad=True)\n        )\n        (hyp_act): HypAct(\n          c_in=Parameter containing:\n          tensor([1.], device='cuda:0', requires_grad=True), c_out=Parameter containing:\n          tensor([1.], device='cuda:0', requires_grad=True)\n        )\n      )\n      (4): HNNLayer(\n        (linear): HypLinear(\n          in_features=20, out_features=20, c=Parameter containing:\n          tensor([1.], device='cuda:0', requires_grad=True)\n        )\n        (hyp_act): HypAct(\n          c_in=Parameter containing:\n          tensor([1.], device='cuda:0', requires_grad=True), c_out=Parameter containing:\n          tensor([1.], device='cuda:0', requires_grad=True)\n        )\n      )\n      (5): HNNLayer(\n        (linear): HypLinear(\n          in_features=20, out_features=20, c=Parameter containing:\n          tensor([1.], device='cuda:0', requires_grad=True)\n        )\n        (hyp_act): HypAct(\n          c_in=Parameter containing:\n          tensor([1.], device='cuda:0', requires_grad=True), c_out=Parameter containing:\n          tensor([1.], device='cuda:0', requires_grad=True)\n        )\n      )\n      (6): HNNLayer(\n        (linear): HypLinear(\n          in_features=20, out_features=20, c=Parameter containing:\n          tensor([1.], device='cuda:0', requires_grad=True)\n        )\n        (hyp_act): HypAct(\n          c_in=Parameter containing:\n          tensor([1.], device='cuda:0', requires_grad=True), c_out=Parameter containing:\n          tensor([1.], device='cuda:0', requires_grad=True)\n        )\n      )\n      (7): HNNLayer(\n        (linear): HypLinear(\n          in_features=20, out_features=20, c=Parameter containing:\n          tensor([1.], device='cuda:0', requires_grad=True)\n        )\n        (hyp_act): HypAct(\n          c_in=Parameter containing:\n          tensor([1.], device='cuda:0', requires_grad=True), c_out=Parameter containing:\n          tensor([1.], device='cuda:0', requires_grad=True)\n        )\n      )\n    )\n  )\n  (decoder): HNNDecoder(\n    (c): ParameterList(\n        (0): Parameter containing: [torch.cuda.FloatTensor of size 1 (GPU 0)]\n        (1): Parameter containing: [torch.cuda.FloatTensor of size 1 (GPU 0)]\n        (2): Parameter containing: [torch.cuda.FloatTensor of size 1 (GPU 0)]\n        (3): Parameter containing: [torch.cuda.FloatTensor of size 1 (GPU 0)]\n        (4): Parameter containing: [torch.cuda.FloatTensor of size 1 (GPU 0)]\n        (5): Parameter containing: [torch.cuda.FloatTensor of size 1 (GPU 0)]\n        (6): Parameter containing: [torch.cuda.FloatTensor of size 1 (GPU 0)]\n        (7): Parameter containing: [torch.cuda.FloatTensor of size 1 (GPU 0)]\n        (8): Parameter containing: [torch.cuda.FloatTensor of size 1 (GPU 0)]\n    )\n    (out): Linear(\n      (linear): Linear(in_features=15, out_features=23, bias=True)\n    )\n    (curvatures): ParameterList(\n        (0): Parameter containing: [torch.cuda.FloatTensor of size 1 (GPU 0)]\n        (1): Parameter containing: [torch.cuda.FloatTensor of size 1 (GPU 0)]\n        (2): Parameter containing: [torch.cuda.FloatTensor of size 1 (GPU 0)]\n        (3): Parameter containing: [torch.cuda.FloatTensor of size 1 (GPU 0)]\n        (4): Parameter containing: [torch.cuda.FloatTensor of size 1 (GPU 0)]\n        (5): Parameter containing: [torch.cuda.FloatTensor of size 1 (GPU 0)]\n        (6): Parameter containing: [torch.cuda.FloatTensor of size 1 (GPU 0)]\n        (7): Parameter containing: [torch.cuda.FloatTensor of size 1 (GPU 0)]\n        (8): Parameter containing: [torch.cuda.FloatTensor of size 1 (GPU 0)]\n    )\n    (decoder): Sequential(\n      (0): HNNLayer(\n        (linear): HypLinear(\n          in_features=20, out_features=20, c=Parameter containing:\n          tensor([1.], device='cuda:0', requires_grad=True)\n        )\n        (hyp_act): HypAct(\n          c_in=Parameter containing:\n          tensor([1.], device='cuda:0', requires_grad=True), c_out=Parameter containing:\n          tensor([1.], device='cuda:0', requires_grad=True)\n        )\n      )\n      (1): HNNLayer(\n        (linear): HypLinear(\n          in_features=20, out_features=20, c=Parameter containing:\n          tensor([1.], device='cuda:0', requires_grad=True)\n        )\n        (hyp_act): HypAct(\n          c_in=Parameter containing:\n          tensor([1.], device='cuda:0', requires_grad=True), c_out=Parameter containing:\n          tensor([1.], device='cuda:0', requires_grad=True)\n        )\n      )\n      (2): HNNLayer(\n        (linear): HypLinear(\n          in_features=20, out_features=20, c=Parameter containing:\n          tensor([1.], device='cuda:0', requires_grad=True)\n        )\n        (hyp_act): HypAct(\n          c_in=Parameter containing:\n          tensor([1.], device='cuda:0', requires_grad=True), c_out=Parameter containing:\n          tensor([1.], device='cuda:0', requires_grad=True)\n        )\n      )\n      (3): HNNLayer(\n        (linear): HypLinear(\n          in_features=20, out_features=20, c=Parameter containing:\n          tensor([1.], device='cuda:0', requires_grad=True)\n        )\n        (hyp_act): HypAct(\n          c_in=Parameter containing:\n          tensor([1.], device='cuda:0', requires_grad=True), c_out=Parameter containing:\n          tensor([1.], device='cuda:0', requires_grad=True)\n        )\n      )\n      (4): HNNLayer(\n        (linear): HypLinear(\n          in_features=20, out_features=20, c=Parameter containing:\n          tensor([1.], device='cuda:0', requires_grad=True)\n        )\n        (hyp_act): HypAct(\n          c_in=Parameter containing:\n          tensor([1.], device='cuda:0', requires_grad=True), c_out=Parameter containing:\n          tensor([1.], device='cuda:0', requires_grad=True)\n        )\n      )\n      (5): HNNLayer(\n        (linear): HypLinear(\n          in_features=20, out_features=20, c=Parameter containing:\n          tensor([1.], device='cuda:0', requires_grad=True)\n        )\n        (hyp_act): HypAct(\n          c_in=Parameter containing:\n          tensor([1.], device='cuda:0', requires_grad=True), c_out=Parameter containing:\n          tensor([1.], device='cuda:0', requires_grad=True)\n        )\n      )\n      (6): HNNLayer(\n        (linear): HypLinear(\n          in_features=20, out_features=20, c=Parameter containing:\n          tensor([1.], device='cuda:0', requires_grad=True)\n        )\n        (hyp_act): HypAct(\n          c_in=Parameter containing:\n          tensor([1.], device='cuda:0', requires_grad=True), c_out=Parameter containing:\n          tensor([1.], device='cuda:0', requires_grad=True)\n        )\n      )\n      (7): HNNLayer(\n        (linear): HypLinear(\n          in_features=20, out_features=15, c=Parameter containing:\n          tensor([1.], device='cuda:0', requires_grad=True)\n        )\n        (hyp_act): HypAct(\n          c_in=Parameter containing:\n          tensor([1.], device='cuda:0', requires_grad=True), c_out=Parameter containing:\n          tensor([1.], device='cuda:0', requires_grad=True)\n        )\n      )\n    )\n  )\n)"
     },
     "execution_count": 5,
     "metadata": {},
     "output_type": "execute_result"
    }
   ],
   "source": [
    "import sys\n",
    "import json\n",
    "class obj(object):\n",
    "    def __init__(self, dict_):\n",
    "        self.__dict__.update(dict_)\n",
    "args = json.loads(json.dumps(config_args), object_hook=obj)\n",
    "\n",
    "model = HyperbolicAE(args)\n",
    "\n",
    "optimizer = getattr(optimizers, args.optimizer)(params=model.parameters(), lr=args.lr,\n",
    "                                                    weight_decay=args.weight_decay)\n",
    "lr_scheduler = torch.optim.lr_scheduler.StepLR(\n",
    "    optimizer,\n",
    "    step_size=args.lr_reduce_freq,\n",
    "    gamma=float(args.gamma)\n",
    ")\n",
    "tot_params = sum([np.prod(p.size()) for p in model.parameters()])\n",
    "logging.info(f\"Total number of parameters: {tot_params}\")\n",
    "device = torch.device('cuda')\n",
    "# Train model\n",
    "t_total = time.time()\n",
    "\n",
    "model = model.to(device)\n",
    "# loss_fun = torch.nn.MSELoss()\n",
    "# torch.set_printoptions(threshold=np.inf)\n",
    "model.train()"
   ],
   "metadata": {
    "collapsed": false,
    "pycharm": {
     "name": "#%%\n"
    }
   }
  },
  {
   "cell_type": "code",
   "execution_count": 6,
   "outputs": [
    {
     "name": "stderr",
     "output_type": "stream",
     "text": [
      "100%|██████████| 118/118 [00:47<00:00,  2.51it/s]\n"
     ]
    },
    {
     "name": "stdout",
     "output_type": "stream",
     "text": [
      "Epoch: 0001 lr: 0.01 loss: 101.8151 time: 0.1134s\n"
     ]
    },
    {
     "name": "stderr",
     "output_type": "stream",
     "text": [
      "100%|██████████| 40/40 [00:13<00:00,  2.93it/s]\n"
     ]
    },
    {
     "name": "stdout",
     "output_type": "stream",
     "text": [
      "val_loss: 80.836376953125\n"
     ]
    },
    {
     "name": "stderr",
     "output_type": "stream",
     "text": [
      "100%|██████████| 118/118 [00:45<00:00,  2.58it/s]\n"
     ]
    },
    {
     "name": "stdout",
     "output_type": "stream",
     "text": [
      "Epoch: 0002 lr: 0.01 loss: 76.4348 time: 0.1134s\n"
     ]
    },
    {
     "name": "stderr",
     "output_type": "stream",
     "text": [
      " 25%|██▌       | 10/40 [00:03<00:09,  3.04it/s]\n"
     ]
    },
    {
     "ename": "KeyboardInterrupt",
     "evalue": "",
     "output_type": "error",
     "traceback": [
      "\u001B[1;31m---------------------------------------------------------------------------\u001B[0m",
      "\u001B[1;31mKeyboardInterrupt\u001B[0m                         Traceback (most recent call last)",
      "Input \u001B[1;32mIn [6]\u001B[0m, in \u001B[0;36m<cell line: 1>\u001B[1;34m()\u001B[0m\n\u001B[0;32m     44\u001B[0m \u001B[38;5;28;01mwith\u001B[39;00m torch\u001B[38;5;241m.\u001B[39mno_grad():\n\u001B[0;32m     45\u001B[0m     loss_sum,n \u001B[38;5;241m=\u001B[39m \u001B[38;5;241m0.0\u001B[39m,\u001B[38;5;241m0\u001B[39m\n\u001B[1;32m---> 46\u001B[0m     \u001B[38;5;28;01mfor\u001B[39;00m \u001B[38;5;28minput\u001B[39m \u001B[38;5;129;01min\u001B[39;00m tqdm(val_loader):\n\u001B[0;32m     47\u001B[0m         \u001B[38;5;28;01mfor\u001B[39;00m key \u001B[38;5;129;01min\u001B[39;00m \u001B[38;5;28minput\u001B[39m:\n\u001B[0;32m     48\u001B[0m             \u001B[38;5;28minput\u001B[39m[key] \u001B[38;5;241m=\u001B[39m \u001B[38;5;28minput\u001B[39m[key]\u001B[38;5;241m.\u001B[39mto(torch\u001B[38;5;241m.\u001B[39mdevice(\u001B[38;5;124m'\u001B[39m\u001B[38;5;124mcuda\u001B[39m\u001B[38;5;124m'\u001B[39m))\n",
      "File \u001B[1;32mD:\\Anaconda\\envs\\hdmm\\lib\\site-packages\\tqdm\\std.py:1195\u001B[0m, in \u001B[0;36mtqdm.__iter__\u001B[1;34m(self)\u001B[0m\n\u001B[0;32m   1192\u001B[0m time \u001B[38;5;241m=\u001B[39m \u001B[38;5;28mself\u001B[39m\u001B[38;5;241m.\u001B[39m_time\n\u001B[0;32m   1194\u001B[0m \u001B[38;5;28;01mtry\u001B[39;00m:\n\u001B[1;32m-> 1195\u001B[0m     \u001B[38;5;28;01mfor\u001B[39;00m obj \u001B[38;5;129;01min\u001B[39;00m iterable:\n\u001B[0;32m   1196\u001B[0m         \u001B[38;5;28;01myield\u001B[39;00m obj\n\u001B[0;32m   1197\u001B[0m         \u001B[38;5;66;03m# Update and possibly print the progressbar.\u001B[39;00m\n\u001B[0;32m   1198\u001B[0m         \u001B[38;5;66;03m# Note: does not call self.update(1) for speed optimisation.\u001B[39;00m\n",
      "File \u001B[1;32mD:\\Anaconda\\envs\\hdmm\\lib\\site-packages\\torch\\utils\\data\\dataloader.py:681\u001B[0m, in \u001B[0;36m_BaseDataLoaderIter.__next__\u001B[1;34m(self)\u001B[0m\n\u001B[0;32m    678\u001B[0m \u001B[38;5;28;01mif\u001B[39;00m \u001B[38;5;28mself\u001B[39m\u001B[38;5;241m.\u001B[39m_sampler_iter \u001B[38;5;129;01mis\u001B[39;00m \u001B[38;5;28;01mNone\u001B[39;00m:\n\u001B[0;32m    679\u001B[0m     \u001B[38;5;66;03m# TODO(https://github.com/pytorch/pytorch/issues/76750)\u001B[39;00m\n\u001B[0;32m    680\u001B[0m     \u001B[38;5;28mself\u001B[39m\u001B[38;5;241m.\u001B[39m_reset()  \u001B[38;5;66;03m# type: ignore[call-arg]\u001B[39;00m\n\u001B[1;32m--> 681\u001B[0m data \u001B[38;5;241m=\u001B[39m \u001B[38;5;28;43mself\u001B[39;49m\u001B[38;5;241;43m.\u001B[39;49m\u001B[43m_next_data\u001B[49m\u001B[43m(\u001B[49m\u001B[43m)\u001B[49m\n\u001B[0;32m    682\u001B[0m \u001B[38;5;28mself\u001B[39m\u001B[38;5;241m.\u001B[39m_num_yielded \u001B[38;5;241m+\u001B[39m\u001B[38;5;241m=\u001B[39m \u001B[38;5;241m1\u001B[39m\n\u001B[0;32m    683\u001B[0m \u001B[38;5;28;01mif\u001B[39;00m \u001B[38;5;28mself\u001B[39m\u001B[38;5;241m.\u001B[39m_dataset_kind \u001B[38;5;241m==\u001B[39m _DatasetKind\u001B[38;5;241m.\u001B[39mIterable \u001B[38;5;129;01mand\u001B[39;00m \\\n\u001B[0;32m    684\u001B[0m         \u001B[38;5;28mself\u001B[39m\u001B[38;5;241m.\u001B[39m_IterableDataset_len_called \u001B[38;5;129;01mis\u001B[39;00m \u001B[38;5;129;01mnot\u001B[39;00m \u001B[38;5;28;01mNone\u001B[39;00m \u001B[38;5;129;01mand\u001B[39;00m \\\n\u001B[0;32m    685\u001B[0m         \u001B[38;5;28mself\u001B[39m\u001B[38;5;241m.\u001B[39m_num_yielded \u001B[38;5;241m>\u001B[39m \u001B[38;5;28mself\u001B[39m\u001B[38;5;241m.\u001B[39m_IterableDataset_len_called:\n",
      "File \u001B[1;32mD:\\Anaconda\\envs\\hdmm\\lib\\site-packages\\torch\\utils\\data\\dataloader.py:721\u001B[0m, in \u001B[0;36m_SingleProcessDataLoaderIter._next_data\u001B[1;34m(self)\u001B[0m\n\u001B[0;32m    719\u001B[0m \u001B[38;5;28;01mdef\u001B[39;00m \u001B[38;5;21m_next_data\u001B[39m(\u001B[38;5;28mself\u001B[39m):\n\u001B[0;32m    720\u001B[0m     index \u001B[38;5;241m=\u001B[39m \u001B[38;5;28mself\u001B[39m\u001B[38;5;241m.\u001B[39m_next_index()  \u001B[38;5;66;03m# may raise StopIteration\u001B[39;00m\n\u001B[1;32m--> 721\u001B[0m     data \u001B[38;5;241m=\u001B[39m \u001B[38;5;28;43mself\u001B[39;49m\u001B[38;5;241;43m.\u001B[39;49m\u001B[43m_dataset_fetcher\u001B[49m\u001B[38;5;241;43m.\u001B[39;49m\u001B[43mfetch\u001B[49m\u001B[43m(\u001B[49m\u001B[43mindex\u001B[49m\u001B[43m)\u001B[49m  \u001B[38;5;66;03m# may raise StopIteration\u001B[39;00m\n\u001B[0;32m    722\u001B[0m     \u001B[38;5;28;01mif\u001B[39;00m \u001B[38;5;28mself\u001B[39m\u001B[38;5;241m.\u001B[39m_pin_memory:\n\u001B[0;32m    723\u001B[0m         data \u001B[38;5;241m=\u001B[39m _utils\u001B[38;5;241m.\u001B[39mpin_memory\u001B[38;5;241m.\u001B[39mpin_memory(data, \u001B[38;5;28mself\u001B[39m\u001B[38;5;241m.\u001B[39m_pin_memory_device)\n",
      "File \u001B[1;32mD:\\Anaconda\\envs\\hdmm\\lib\\site-packages\\torch\\utils\\data\\_utils\\fetch.py:49\u001B[0m, in \u001B[0;36m_MapDatasetFetcher.fetch\u001B[1;34m(self, possibly_batched_index)\u001B[0m\n\u001B[0;32m     47\u001B[0m \u001B[38;5;28;01mdef\u001B[39;00m \u001B[38;5;21mfetch\u001B[39m(\u001B[38;5;28mself\u001B[39m, possibly_batched_index):\n\u001B[0;32m     48\u001B[0m     \u001B[38;5;28;01mif\u001B[39;00m \u001B[38;5;28mself\u001B[39m\u001B[38;5;241m.\u001B[39mauto_collation:\n\u001B[1;32m---> 49\u001B[0m         data \u001B[38;5;241m=\u001B[39m [\u001B[38;5;28mself\u001B[39m\u001B[38;5;241m.\u001B[39mdataset[idx] \u001B[38;5;28;01mfor\u001B[39;00m idx \u001B[38;5;129;01min\u001B[39;00m possibly_batched_index]\n\u001B[0;32m     50\u001B[0m     \u001B[38;5;28;01melse\u001B[39;00m:\n\u001B[0;32m     51\u001B[0m         data \u001B[38;5;241m=\u001B[39m \u001B[38;5;28mself\u001B[39m\u001B[38;5;241m.\u001B[39mdataset[possibly_batched_index]\n",
      "File \u001B[1;32mD:\\Anaconda\\envs\\hdmm\\lib\\site-packages\\torch\\utils\\data\\_utils\\fetch.py:49\u001B[0m, in \u001B[0;36m<listcomp>\u001B[1;34m(.0)\u001B[0m\n\u001B[0;32m     47\u001B[0m \u001B[38;5;28;01mdef\u001B[39;00m \u001B[38;5;21mfetch\u001B[39m(\u001B[38;5;28mself\u001B[39m, possibly_batched_index):\n\u001B[0;32m     48\u001B[0m     \u001B[38;5;28;01mif\u001B[39;00m \u001B[38;5;28mself\u001B[39m\u001B[38;5;241m.\u001B[39mauto_collation:\n\u001B[1;32m---> 49\u001B[0m         data \u001B[38;5;241m=\u001B[39m [\u001B[38;5;28;43mself\u001B[39;49m\u001B[38;5;241;43m.\u001B[39;49m\u001B[43mdataset\u001B[49m\u001B[43m[\u001B[49m\u001B[43midx\u001B[49m\u001B[43m]\u001B[49m \u001B[38;5;28;01mfor\u001B[39;00m idx \u001B[38;5;129;01min\u001B[39;00m possibly_batched_index]\n\u001B[0;32m     50\u001B[0m     \u001B[38;5;28;01melse\u001B[39;00m:\n\u001B[0;32m     51\u001B[0m         data \u001B[38;5;241m=\u001B[39m \u001B[38;5;28mself\u001B[39m\u001B[38;5;241m.\u001B[39mdataset[possibly_batched_index]\n",
      "File \u001B[1;32mD:\\Anaconda\\envs\\hdmm\\lib\\site-packages\\schnetpack\\data\\atoms.py:634\u001B[0m, in \u001B[0;36mAtomsDataSubset.__getitem__\u001B[1;34m(self, idx)\u001B[0m\n\u001B[0;32m    633\u001B[0m \u001B[38;5;28;01mdef\u001B[39;00m \u001B[38;5;21m__getitem__\u001B[39m(\u001B[38;5;28mself\u001B[39m, idx):\n\u001B[1;32m--> 634\u001B[0m     _, properties \u001B[38;5;241m=\u001B[39m \u001B[38;5;28;43mself\u001B[39;49m\u001B[38;5;241;43m.\u001B[39;49m\u001B[43mget_properties\u001B[49m\u001B[43m(\u001B[49m\u001B[38;5;28;43mself\u001B[39;49m\u001B[38;5;241;43m.\u001B[39;49m\u001B[43mindices\u001B[49m\u001B[43m[\u001B[49m\u001B[43midx\u001B[49m\u001B[43m]\u001B[49m\u001B[43m,\u001B[49m\u001B[43m \u001B[49m\u001B[38;5;28;43mself\u001B[39;49m\u001B[38;5;241;43m.\u001B[39;49m\u001B[43mload_only\u001B[49m\u001B[43m)\u001B[49m\n\u001B[0;32m    635\u001B[0m     properties[\u001B[38;5;124m\"\u001B[39m\u001B[38;5;124m_idx\u001B[39m\u001B[38;5;124m\"\u001B[39m] \u001B[38;5;241m=\u001B[39m np\u001B[38;5;241m.\u001B[39marray([idx], dtype\u001B[38;5;241m=\u001B[39mnp\u001B[38;5;241m.\u001B[39mint)\n\u001B[0;32m    637\u001B[0m     \u001B[38;5;28;01mreturn\u001B[39;00m torchify_dict(properties)\n",
      "File \u001B[1;32mD:\\Anaconda\\envs\\hdmm\\lib\\site-packages\\schnetpack\\data\\atoms.py:608\u001B[0m, in \u001B[0;36mAtomsDataSubset.get_properties\u001B[1;34m(self, idx, load_only)\u001B[0m\n\u001B[0;32m    607\u001B[0m \u001B[38;5;28;01mdef\u001B[39;00m \u001B[38;5;21mget_properties\u001B[39m(\u001B[38;5;28mself\u001B[39m, idx, load_only\u001B[38;5;241m=\u001B[39m\u001B[38;5;28;01mNone\u001B[39;00m):\n\u001B[1;32m--> 608\u001B[0m     \u001B[38;5;28;01mreturn\u001B[39;00m \u001B[38;5;28;43mself\u001B[39;49m\u001B[38;5;241;43m.\u001B[39;49m\u001B[43mdataset\u001B[49m\u001B[38;5;241;43m.\u001B[39;49m\u001B[43mget_properties\u001B[49m\u001B[43m(\u001B[49m\u001B[43midx\u001B[49m\u001B[43m,\u001B[49m\u001B[43m \u001B[49m\u001B[43mload_only\u001B[49m\u001B[43m)\u001B[49m\n",
      "File \u001B[1;32mD:\\Anaconda\\envs\\hdmm\\lib\\site-packages\\schnetpack\\data\\atoms.py:238\u001B[0m, in \u001B[0;36mAtomsData.get_properties\u001B[1;34m(self, idx, load_only)\u001B[0m\n\u001B[0;32m    235\u001B[0m     load_only \u001B[38;5;241m=\u001B[39m \u001B[38;5;28mself\u001B[39m\u001B[38;5;241m.\u001B[39mavailable_properties\n\u001B[0;32m    237\u001B[0m \u001B[38;5;66;03m# read from ase-database\u001B[39;00m\n\u001B[1;32m--> 238\u001B[0m \u001B[38;5;28;01mwith\u001B[39;00m connect(\u001B[38;5;28mself\u001B[39m\u001B[38;5;241m.\u001B[39mdbpath) \u001B[38;5;28;01mas\u001B[39;00m conn:\n\u001B[0;32m    239\u001B[0m     row \u001B[38;5;241m=\u001B[39m conn\u001B[38;5;241m.\u001B[39mget(idx \u001B[38;5;241m+\u001B[39m \u001B[38;5;241m1\u001B[39m)\n\u001B[0;32m    240\u001B[0m at \u001B[38;5;241m=\u001B[39m row\u001B[38;5;241m.\u001B[39mtoatoms()\n",
      "File \u001B[1;32mD:\\Anaconda\\envs\\hdmm\\lib\\site-packages\\ase\\db\\sqlite.py:178\u001B[0m, in \u001B[0;36mSQLite3Database.__enter__\u001B[1;34m(self)\u001B[0m\n\u001B[0;32m    176\u001B[0m \u001B[38;5;28;01massert\u001B[39;00m \u001B[38;5;28mself\u001B[39m\u001B[38;5;241m.\u001B[39mconnection \u001B[38;5;129;01mis\u001B[39;00m \u001B[38;5;28;01mNone\u001B[39;00m\n\u001B[0;32m    177\u001B[0m \u001B[38;5;28mself\u001B[39m\u001B[38;5;241m.\u001B[39mchange_count \u001B[38;5;241m=\u001B[39m \u001B[38;5;241m0\u001B[39m\n\u001B[1;32m--> 178\u001B[0m \u001B[38;5;28mself\u001B[39m\u001B[38;5;241m.\u001B[39mconnection \u001B[38;5;241m=\u001B[39m \u001B[38;5;28;43mself\u001B[39;49m\u001B[38;5;241;43m.\u001B[39;49m\u001B[43m_connect\u001B[49m\u001B[43m(\u001B[49m\u001B[43m)\u001B[49m\n\u001B[0;32m    179\u001B[0m \u001B[38;5;28;01mreturn\u001B[39;00m \u001B[38;5;28mself\u001B[39m\n",
      "File \u001B[1;32mD:\\Anaconda\\envs\\hdmm\\lib\\site-packages\\ase\\db\\sqlite.py:173\u001B[0m, in \u001B[0;36mSQLite3Database._connect\u001B[1;34m(self)\u001B[0m\n\u001B[0;32m    172\u001B[0m \u001B[38;5;28;01mdef\u001B[39;00m \u001B[38;5;21m_connect\u001B[39m(\u001B[38;5;28mself\u001B[39m):\n\u001B[1;32m--> 173\u001B[0m     \u001B[38;5;28;01mreturn\u001B[39;00m \u001B[43msqlite3\u001B[49m\u001B[38;5;241;43m.\u001B[39;49m\u001B[43mconnect\u001B[49m\u001B[43m(\u001B[49m\u001B[38;5;28;43mself\u001B[39;49m\u001B[38;5;241;43m.\u001B[39;49m\u001B[43mfilename\u001B[49m\u001B[43m,\u001B[49m\u001B[43m \u001B[49m\u001B[43mtimeout\u001B[49m\u001B[38;5;241;43m=\u001B[39;49m\u001B[38;5;241;43m20\u001B[39;49m\u001B[43m)\u001B[49m\n",
      "\u001B[1;31mKeyboardInterrupt\u001B[0m: "
     ]
    }
   ],
   "source": [
    "\n",
    "for epoch in range(args.epochs):\n",
    "\n",
    "    loss_sum,n,t = 0,0,0.0\n",
    "    counter = 0\n",
    "    for input in tqdm(train_loader):\n",
    "        # counter+=1\n",
    "        # if counter>10:\n",
    "        #     sys.exit(0)\n",
    "        for key in input:\n",
    "            input[key] = input[key].to(torch.device('cuda'))\n",
    "        t = time.time()\n",
    "        model.train()\n",
    "        optimizer.zero_grad()\n",
    "        loss = model(input)\n",
    "        # print('y_hat',y_hat[:2])\n",
    "        # print('input[QM9.U0]',input[QM9.U0][:2])\n",
    "        # loss = loss_fun(y_hat,input[QM9.U0])\n",
    "        # curvatures = list(model.get_submodule('curvatures'))\n",
    "        # print(curvatures)\n",
    "\n",
    "        # print(loss)\n",
    "        loss.backward()\n",
    "        loss_sum += loss\n",
    "        n += 1\n",
    "        if args.grad_clip is not None:\n",
    "            max_norm = float(args.grad_clip)\n",
    "            all_params = list(model.parameters())\n",
    "            for param in all_params:\n",
    "                torch.nn.utils.clip_grad_norm_(param, max_norm)\n",
    "        optimizer.step()\n",
    "    lr_scheduler.step()\n",
    "    if (epoch + 1) % args.log_freq == 0:\n",
    "        str = \" \".join(['Epoch: {:04d}'.format(epoch + 1),\n",
    "                               'lr: {}'.format(lr_scheduler.get_last_lr()[0]),\n",
    "                               'loss: {:.4f}'.format(loss_sum/n),\n",
    "                               'time: {:.4f}s'.format(time.time() - t)\n",
    "                               ])\n",
    "        print(str)\n",
    "        # logging.info(str)\n",
    "        # curvatures = list(model.get_submodule('encoder.curvatures'))\n",
    "        # print(curvatures)\n",
    "\n",
    "    model.eval()\n",
    "    with torch.no_grad():\n",
    "        loss_sum,n = 0.0,0\n",
    "        for input in tqdm(val_loader):\n",
    "            for key in input:\n",
    "                input[key] = input[key].to(torch.device('cuda'))\n",
    "            t = time.time()\n",
    "            model.train()\n",
    "            optimizer.zero_grad()\n",
    "            loss = model(input)\n",
    "            n += 1\n",
    "            loss_sum += loss\n",
    "\n",
    "        print('val_loss:',loss_sum.item()/n)\n",
    "\n",
    "\"\"\"\n",
    "Epoch: 0020 lr: 0.0025 loss: 24.7880 time: 0.0977s\n",
    "Epoch: 0020 lr: 0.0025 loss: 13.2554 time: 0.0969s\n",
    "\"\"\""
   ],
   "metadata": {
    "collapsed": false,
    "pycharm": {
     "name": "#%%\n"
    }
   }
  },
  {
   "cell_type": "code",
   "execution_count": null,
   "outputs": [],
   "source": [
    "\n",
    "model.eval()\n",
    "with torch.no_grad():\n",
    "    loss_sum,n = 0.0,0\n",
    "    for input in tqdm(val_loader):\n",
    "        for key in input:\n",
    "            input[key] = input[key].to(torch.device('cuda'))\n",
    "        t = time.time()\n",
    "        model.train()\n",
    "        optimizer.zero_grad()\n",
    "        loss = model(input)\n",
    "        n += 1\n",
    "        loss_sum += loss\n",
    "\n",
    "    print('val_loss:',loss_sum/n)\n",
    "\n",
    "    # if (epoch + 1) % args.eval_freq == 0:\n",
    "    #     model.eval()\n",
    "    #     embeddings = model.encode(data['features'], data['adj_train_norm'])\n",
    "    #     val_metrics = model.compute_metrics(embeddings, data, 'val')\n",
    "    #     if (epoch + 1) % args.log_freq == 0:\n",
    "    #         logging.info(\" \".join(['Epoch: {:04d}'.format(epoch + 1), format_metrics(val_metrics, 'val')]))\n",
    "    #     if model.has_improved(best_val_metrics, val_metrics):\n",
    "    #         best_test_metrics = model.compute_metrics(embeddings, data, 'test')\n",
    "    #         best_emb = embeddings.cpu()\n",
    "    #         if args.save:\n",
    "    #             np.save(os.path.join(save_dir, 'embeddings.npy'), best_emb.detach().numpy())\n",
    "    #         best_val_metrics = val_metrics\n",
    "    #         counter = 0\n",
    "    #     else:\n",
    "    #         counter += 1\n",
    "    #         if counter == args.patience and epoch > args.min_epochs:\n",
    "    #             logging.info(\"Early stopping\")\n",
    "    #             break\n",
    "\n",
    "\n",
    "\n",
    "\"\"\"\n",
    "hyperbolid\n",
    "val_loss: tensor(0.0009, device='cuda:0') encoder结束后投影到欧氏空间\n",
    "val_loss: tensor(1.5983e-05, device='cuda:0') encoder结束后保持在双曲空间\n",
    "欧氏空间：\n",
    "val_loss: tensor(0.1687, device='cuda:0')\n",
    "\n",
    "val_loss: tensor(0.2672, device='cuda:0') 坐标在双曲空间 encoder结束后保持在双曲空间\n",
    "val_loss: tensor(0.0075, device='cuda:0') 坐标在双曲空间 encoder结束后投影到欧氏空间\n",
    "\"\"\""
   ],
   "metadata": {
    "collapsed": false,
    "pycharm": {
     "name": "#%%\n"
    }
   }
  },
  {
   "cell_type": "code",
   "execution_count": null,
   "outputs": [],
   "source": [
    "torch.save(model.encoder.state_dict(), './saved_model/HNN-encoder.pt')\n",
    "encoder_path = './saved_model/HNN-encoder.pt'\n",
    "torch.save(model.decoder.state_dict(), './saved_model/HNN-decoder.pt')\n",
    "decoder_path = './saved_model/HNN-decoder.pt'"
   ],
   "metadata": {
    "collapsed": false,
    "pycharm": {
     "name": "#%%\n"
    }
   }
  },
  {
   "cell_type": "code",
   "execution_count": null,
   "outputs": [],
   "source": [
    "from Model import Encoders, Decoders\n",
    "\n",
    "encoder = getattr(Encoders, args.model)(1, args)\n",
    "encoder.load_state_dict(torch.load(encoder_path))\n",
    "decoder = Decoders.model2decoder[args.model](encoder.curvatures, args)\n",
    "decoder.load_state_dict(torch.load(decoder_path))"
   ],
   "metadata": {
    "collapsed": false,
    "pycharm": {
     "name": "#%%\n"
    }
   }
  },
  {
   "cell_type": "code",
   "execution_count": null,
   "outputs": [],
   "source": [
    "from Model.HGDM import HyperbolicDiffusion\n",
    "model = HyperbolicDiffusion(args,encoder,decoder)\n",
    "model = model.to(device)\n",
    "model.eval()\n",
    "with torch.no_grad():\n",
    "    loss_sum,n = 0.0,0\n",
    "    for input in tqdm(val_loader):\n",
    "        for key in input:\n",
    "            input[key] = input[key].to(torch.device('cuda'))\n",
    "        t = time.time()\n",
    "        model.train()\n",
    "        optimizer.zero_grad()\n",
    "        loss = model(input)\n",
    "        n += 1\n",
    "        loss_sum += loss\n",
    "\n",
    "    print('val_loss:',loss_sum/n)"
   ],
   "metadata": {
    "collapsed": false,
    "pycharm": {
     "name": "#%%\n"
    }
   }
  },
  {
   "cell_type": "code",
   "execution_count": null,
   "outputs": [],
   "source": [],
   "metadata": {
    "collapsed": false,
    "pycharm": {
     "name": "#%%\n"
    }
   }
  }
 ],
 "metadata": {
  "kernelspec": {
   "display_name": "Python 3",
   "language": "python",
   "name": "python3"
  },
  "language_info": {
   "codemirror_mode": {
    "name": "ipython",
    "version": 2
   },
   "file_extension": ".py",
   "mimetype": "text/x-python",
   "name": "python",
   "nbconvert_exporter": "python",
   "pygments_lexer": "ipython2",
   "version": "2.7.6"
  }
 },
 "nbformat": 4,
 "nbformat_minor": 0
}