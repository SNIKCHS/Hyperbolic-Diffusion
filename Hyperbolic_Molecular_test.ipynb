{
 "cells": [
  {
   "cell_type": "code",
   "execution_count": 1,
   "metadata": {
    "collapsed": true,
    "pycharm": {
     "name": "#%%\n"
    }
   },
   "outputs": [],
   "source": [
    "import torch\n",
    "from schnetpack.datasets import QM9\n",
    "import schnetpack as spk\n",
    "import os\n",
    "from my_config import config_args\n",
    "from MyModel.HGCN import RegModel\n",
    "import optimizers\n",
    "import numpy as np\n",
    "import logging\n",
    "import time\n",
    "from tqdm import tqdm"
   ]
  },
  {
   "cell_type": "markdown",
   "source": [
    "# 获得训练数据"
   ],
   "metadata": {
    "collapsed": false,
    "pycharm": {
     "name": "#%% md\n"
    }
   }
  },
  {
   "cell_type": "code",
   "execution_count": 2,
   "outputs": [
    {
     "name": "stdout",
     "output_type": "stream",
     "text": [
      "133885\n"
     ]
    }
   ],
   "source": [
    "qm9data = QM9('./data/qm9.db', download=True,load_only=[QM9.U0])\n",
    "qm9split = './data/qm9split'\n",
    "print(len(qm9data))"
   ],
   "metadata": {
    "collapsed": false,
    "pycharm": {
     "name": "#%%\n"
    }
   }
  },
  {
   "cell_type": "code",
   "execution_count": 3,
   "outputs": [
    {
     "name": "stdout",
     "output_type": "stream",
     "text": [
      "20000 103885 10000\n"
     ]
    }
   ],
   "source": [
    "train, val, test = spk.train_test_split(\n",
    "        data=qm9data,\n",
    "        num_train=20000,\n",
    "        num_val=10000,\n",
    "        split_file=os.path.join(qm9split, \"split20000.npz\"),\n",
    "    )\n",
    "print(len(train),len(test),len(val))"
   ],
   "metadata": {
    "collapsed": false,
    "pycharm": {
     "name": "#%%\n"
    }
   }
  },
  {
   "cell_type": "code",
   "execution_count": 4,
   "outputs": [],
   "source": [
    "train_loader = spk.AtomsLoader(train, batch_size=400, shuffle=False)\n",
    "val_loader = spk.AtomsLoader(val, batch_size=10)"
   ],
   "metadata": {
    "collapsed": false,
    "pycharm": {
     "name": "#%%\n"
    }
   }
  },
  {
   "cell_type": "code",
   "execution_count": 5,
   "outputs": [
    {
     "name": "stdout",
     "output_type": "stream",
     "text": [
      "tensor([[[0., 1., 1.],\n",
      "         [0., 1., 1.],\n",
      "         [0., 1., 1.]]])\n"
     ]
    }
   ],
   "source": [
    "from manifolds.hyperboloid import Hyperboloid\n",
    "manifold = Hyperboloid()\n",
    "size = (1,3,2)\n",
    "input = torch.ones(size)\n",
    "c = 1\n",
    "input = torch.concat([torch.zeros((1,3,1)),input],dim=2)\n",
    "input = manifold.proj_tan0(input,c)\n",
    "print(input)"
   ],
   "metadata": {
    "collapsed": false,
    "pycharm": {
     "name": "#%%\n"
    }
   }
  },
  {
   "cell_type": "code",
   "execution_count": 6,
   "outputs": [],
   "source": [
    "input = manifold.expmap0(input,c)"
   ],
   "metadata": {
    "collapsed": false,
    "pycharm": {
     "name": "#%%\n"
    }
   }
  },
  {
   "cell_type": "code",
   "execution_count": 7,
   "outputs": [
    {
     "name": "stderr",
     "output_type": "stream",
     "text": [
      "100%|██████████| 50/50 [00:28<00:00,  1.78it/s]\n"
     ]
    },
    {
     "name": "stdout",
     "output_type": "stream",
     "text": [
      "Epoch: 0001 lr: 0.01 loss: 51961592.0000 time: 0.0675s\n",
      "[Parameter containing:\n",
      "tensor([1.0640], device='cuda:0', requires_grad=True), Parameter containing:\n",
      "tensor([0.9447], device='cuda:0', requires_grad=True), Parameter containing:\n",
      "tensor([0.9659], device='cuda:0', requires_grad=True), Parameter containing:\n",
      "tensor([1.0014], device='cuda:0', requires_grad=True), Parameter containing:\n",
      "tensor([1.0280], device='cuda:0', requires_grad=True), Parameter containing:\n",
      "tensor([1.0337], device='cuda:0', requires_grad=True), Parameter containing:\n",
      "tensor([1.0220], device='cuda:0', requires_grad=True), Parameter containing:\n",
      "tensor([0.8107], device='cuda:0', requires_grad=True), Parameter containing:\n",
      "tensor([0.9005], device='cuda:0', requires_grad=True)]\n"
     ]
    },
    {
     "name": "stderr",
     "output_type": "stream",
     "text": [
      "100%|██████████| 50/50 [00:26<00:00,  1.90it/s]\n"
     ]
    },
    {
     "name": "stdout",
     "output_type": "stream",
     "text": [
      "Epoch: 0002 lr: 0.01 loss: 5395310.5000 time: 0.0674s\n",
      "[Parameter containing:\n",
      "tensor([1.0635], device='cuda:0', requires_grad=True), Parameter containing:\n",
      "tensor([0.9426], device='cuda:0', requires_grad=True), Parameter containing:\n",
      "tensor([0.9663], device='cuda:0', requires_grad=True), Parameter containing:\n",
      "tensor([1.0762], device='cuda:0', requires_grad=True), Parameter containing:\n",
      "tensor([0.9837], device='cuda:0', requires_grad=True), Parameter containing:\n",
      "tensor([1.0745], device='cuda:0', requires_grad=True), Parameter containing:\n",
      "tensor([0.9929], device='cuda:0', requires_grad=True), Parameter containing:\n",
      "tensor([0.8082], device='cuda:0', requires_grad=True), Parameter containing:\n",
      "tensor([0.9121], device='cuda:0', requires_grad=True)]\n"
     ]
    },
    {
     "name": "stderr",
     "output_type": "stream",
     "text": [
      "100%|██████████| 50/50 [00:26<00:00,  1.89it/s]\n"
     ]
    },
    {
     "name": "stdout",
     "output_type": "stream",
     "text": [
      "Epoch: 0003 lr: 0.01 loss: 5256723.5000 time: 0.0973s\n",
      "[Parameter containing:\n",
      "tensor([1.0667], device='cuda:0', requires_grad=True), Parameter containing:\n",
      "tensor([0.9639], device='cuda:0', requires_grad=True), Parameter containing:\n",
      "tensor([0.9593], device='cuda:0', requires_grad=True), Parameter containing:\n",
      "tensor([1.0965], device='cuda:0', requires_grad=True), Parameter containing:\n",
      "tensor([0.9628], device='cuda:0', requires_grad=True), Parameter containing:\n",
      "tensor([1.0210], device='cuda:0', requires_grad=True), Parameter containing:\n",
      "tensor([1.0432], device='cuda:0', requires_grad=True), Parameter containing:\n",
      "tensor([0.8081], device='cuda:0', requires_grad=True), Parameter containing:\n",
      "tensor([0.9106], device='cuda:0', requires_grad=True)]\n"
     ]
    },
    {
     "name": "stderr",
     "output_type": "stream",
     "text": [
      "100%|██████████| 50/50 [00:26<00:00,  1.88it/s]\n"
     ]
    },
    {
     "name": "stdout",
     "output_type": "stream",
     "text": [
      "Epoch: 0004 lr: 0.01 loss: 3669008.5000 time: 0.1218s\n",
      "[Parameter containing:\n",
      "tensor([1.0607], device='cuda:0', requires_grad=True), Parameter containing:\n",
      "tensor([0.9988], device='cuda:0', requires_grad=True), Parameter containing:\n",
      "tensor([0.8704], device='cuda:0', requires_grad=True), Parameter containing:\n",
      "tensor([1.1097], device='cuda:0', requires_grad=True), Parameter containing:\n",
      "tensor([0.9383], device='cuda:0', requires_grad=True), Parameter containing:\n",
      "tensor([0.9237], device='cuda:0', requires_grad=True), Parameter containing:\n",
      "tensor([1.0323], device='cuda:0', requires_grad=True), Parameter containing:\n",
      "tensor([0.8732], device='cuda:0', requires_grad=True), Parameter containing:\n",
      "tensor([0.8623], device='cuda:0', requires_grad=True)]\n"
     ]
    },
    {
     "name": "stderr",
     "output_type": "stream",
     "text": [
      "100%|██████████| 50/50 [00:26<00:00,  1.91it/s]\n"
     ]
    },
    {
     "name": "stdout",
     "output_type": "stream",
     "text": [
      "Epoch: 0005 lr: 0.01 loss: 938591.5000 time: 0.0954s\n",
      "[Parameter containing:\n",
      "tensor([1.1821], device='cuda:0', requires_grad=True), Parameter containing:\n",
      "tensor([0.9528], device='cuda:0', requires_grad=True), Parameter containing:\n",
      "tensor([0.9018], device='cuda:0', requires_grad=True), Parameter containing:\n",
      "tensor([0.9607], device='cuda:0', requires_grad=True), Parameter containing:\n",
      "tensor([1.0617], device='cuda:0', requires_grad=True), Parameter containing:\n",
      "tensor([0.8756], device='cuda:0', requires_grad=True), Parameter containing:\n",
      "tensor([1.1289], device='cuda:0', requires_grad=True), Parameter containing:\n",
      "tensor([0.8041], device='cuda:0', requires_grad=True), Parameter containing:\n",
      "tensor([0.8514], device='cuda:0', requires_grad=True)]\n"
     ]
    },
    {
     "name": "stderr",
     "output_type": "stream",
     "text": [
      "100%|██████████| 50/50 [00:26<00:00,  1.90it/s]\n"
     ]
    },
    {
     "name": "stdout",
     "output_type": "stream",
     "text": [
      "Epoch: 0006 lr: 0.01 loss: 490984.0625 time: 0.1157s\n",
      "[Parameter containing:\n",
      "tensor([1.3043], device='cuda:0', requires_grad=True), Parameter containing:\n",
      "tensor([0.9348], device='cuda:0', requires_grad=True), Parameter containing:\n",
      "tensor([0.8980], device='cuda:0', requires_grad=True), Parameter containing:\n",
      "tensor([0.8146], device='cuda:0', requires_grad=True), Parameter containing:\n",
      "tensor([1.1834], device='cuda:0', requires_grad=True), Parameter containing:\n",
      "tensor([0.8589], device='cuda:0', requires_grad=True), Parameter containing:\n",
      "tensor([1.2048], device='cuda:0', requires_grad=True), Parameter containing:\n",
      "tensor([0.7778], device='cuda:0', requires_grad=True), Parameter containing:\n",
      "tensor([0.8558], device='cuda:0', requires_grad=True)]\n"
     ]
    },
    {
     "name": "stderr",
     "output_type": "stream",
     "text": [
      "100%|██████████| 50/50 [00:26<00:00,  1.90it/s]\n"
     ]
    },
    {
     "name": "stdout",
     "output_type": "stream",
     "text": [
      "Epoch: 0007 lr: 0.01 loss: 234344.7500 time: 0.0724s\n",
      "[Parameter containing:\n",
      "tensor([1.3830], device='cuda:0', requires_grad=True), Parameter containing:\n",
      "tensor([0.8855], device='cuda:0', requires_grad=True), Parameter containing:\n",
      "tensor([0.8650], device='cuda:0', requires_grad=True), Parameter containing:\n",
      "tensor([0.7223], device='cuda:0', requires_grad=True), Parameter containing:\n",
      "tensor([1.2818], device='cuda:0', requires_grad=True), Parameter containing:\n",
      "tensor([0.9782], device='cuda:0', requires_grad=True), Parameter containing:\n",
      "tensor([1.1752], device='cuda:0', requires_grad=True), Parameter containing:\n",
      "tensor([0.7779], device='cuda:0', requires_grad=True), Parameter containing:\n",
      "tensor([0.8557], device='cuda:0', requires_grad=True)]\n"
     ]
    },
    {
     "name": "stderr",
     "output_type": "stream",
     "text": [
      "100%|██████████| 50/50 [00:26<00:00,  1.91it/s]\n"
     ]
    },
    {
     "name": "stdout",
     "output_type": "stream",
     "text": [
      "Epoch: 0008 lr: 0.01 loss: 82450.2812 time: 0.0706s\n",
      "[Parameter containing:\n",
      "tensor([1.4222], device='cuda:0', requires_grad=True), Parameter containing:\n",
      "tensor([0.8236], device='cuda:0', requires_grad=True), Parameter containing:\n",
      "tensor([0.7450], device='cuda:0', requires_grad=True), Parameter containing:\n",
      "tensor([0.7441], device='cuda:0', requires_grad=True), Parameter containing:\n",
      "tensor([1.2804], device='cuda:0', requires_grad=True), Parameter containing:\n",
      "tensor([1.0054], device='cuda:0', requires_grad=True), Parameter containing:\n",
      "tensor([0.9964], device='cuda:0', requires_grad=True), Parameter containing:\n",
      "tensor([0.8015], device='cuda:0', requires_grad=True), Parameter containing:\n",
      "tensor([0.8420], device='cuda:0', requires_grad=True)]\n"
     ]
    },
    {
     "name": "stderr",
     "output_type": "stream",
     "text": [
      "100%|██████████| 50/50 [00:26<00:00,  1.92it/s]\n"
     ]
    },
    {
     "name": "stdout",
     "output_type": "stream",
     "text": [
      "Epoch: 0009 lr: 0.01 loss: 19665.3633 time: 0.0694s\n",
      "[Parameter containing:\n",
      "tensor([1.4188], device='cuda:0', requires_grad=True), Parameter containing:\n",
      "tensor([0.8235], device='cuda:0', requires_grad=True), Parameter containing:\n",
      "tensor([0.7188], device='cuda:0', requires_grad=True), Parameter containing:\n",
      "tensor([0.7011], device='cuda:0', requires_grad=True), Parameter containing:\n",
      "tensor([1.3032], device='cuda:0', requires_grad=True), Parameter containing:\n",
      "tensor([1.0171], device='cuda:0', requires_grad=True), Parameter containing:\n",
      "tensor([0.9936], device='cuda:0', requires_grad=True), Parameter containing:\n",
      "tensor([0.8024], device='cuda:0', requires_grad=True), Parameter containing:\n",
      "tensor([0.8396], device='cuda:0', requires_grad=True)]\n"
     ]
    },
    {
     "name": "stderr",
     "output_type": "stream",
     "text": [
      "100%|██████████| 50/50 [00:26<00:00,  1.91it/s]\n"
     ]
    },
    {
     "name": "stdout",
     "output_type": "stream",
     "text": [
      "Epoch: 0010 lr: 0.01 loss: 14339.8213 time: 0.0720s\n",
      "[Parameter containing:\n",
      "tensor([1.4057], device='cuda:0', requires_grad=True), Parameter containing:\n",
      "tensor([0.8186], device='cuda:0', requires_grad=True), Parameter containing:\n",
      "tensor([0.7122], device='cuda:0', requires_grad=True), Parameter containing:\n",
      "tensor([0.6959], device='cuda:0', requires_grad=True), Parameter containing:\n",
      "tensor([1.3198], device='cuda:0', requires_grad=True), Parameter containing:\n",
      "tensor([0.9945], device='cuda:0', requires_grad=True), Parameter containing:\n",
      "tensor([0.8459], device='cuda:0', requires_grad=True), Parameter containing:\n",
      "tensor([0.8018], device='cuda:0', requires_grad=True), Parameter containing:\n",
      "tensor([0.8362], device='cuda:0', requires_grad=True)]\n"
     ]
    },
    {
     "name": "stderr",
     "output_type": "stream",
     "text": [
      "100%|██████████| 50/50 [00:26<00:00,  1.90it/s]\n"
     ]
    },
    {
     "name": "stdout",
     "output_type": "stream",
     "text": [
      "Epoch: 0011 lr: 0.01 loss: 10043.6562 time: 0.0768s\n",
      "[Parameter containing:\n",
      "tensor([1.3904], device='cuda:0', requires_grad=True), Parameter containing:\n",
      "tensor([0.8230], device='cuda:0', requires_grad=True), Parameter containing:\n",
      "tensor([0.7476], device='cuda:0', requires_grad=True), Parameter containing:\n",
      "tensor([0.6514], device='cuda:0', requires_grad=True), Parameter containing:\n",
      "tensor([1.3446], device='cuda:0', requires_grad=True), Parameter containing:\n",
      "tensor([0.9941], device='cuda:0', requires_grad=True), Parameter containing:\n",
      "tensor([0.8013], device='cuda:0', requires_grad=True), Parameter containing:\n",
      "tensor([0.7998], device='cuda:0', requires_grad=True), Parameter containing:\n",
      "tensor([0.8332], device='cuda:0', requires_grad=True)]\n"
     ]
    },
    {
     "name": "stderr",
     "output_type": "stream",
     "text": [
      "100%|██████████| 50/50 [00:26<00:00,  1.91it/s]\n"
     ]
    },
    {
     "name": "stdout",
     "output_type": "stream",
     "text": [
      "Epoch: 0012 lr: 0.01 loss: 7194.0205 time: 0.0820s\n",
      "[Parameter containing:\n",
      "tensor([1.3899], device='cuda:0', requires_grad=True), Parameter containing:\n",
      "tensor([0.8419], device='cuda:0', requires_grad=True), Parameter containing:\n",
      "tensor([0.7209], device='cuda:0', requires_grad=True), Parameter containing:\n",
      "tensor([0.6019], device='cuda:0', requires_grad=True), Parameter containing:\n",
      "tensor([1.3637], device='cuda:0', requires_grad=True), Parameter containing:\n",
      "tensor([1.0059], device='cuda:0', requires_grad=True), Parameter containing:\n",
      "tensor([0.8011], device='cuda:0', requires_grad=True), Parameter containing:\n",
      "tensor([0.7930], device='cuda:0', requires_grad=True), Parameter containing:\n",
      "tensor([0.8311], device='cuda:0', requires_grad=True)]\n"
     ]
    },
    {
     "name": "stderr",
     "output_type": "stream",
     "text": [
      "100%|██████████| 50/50 [00:25<00:00,  1.92it/s]\n"
     ]
    },
    {
     "name": "stdout",
     "output_type": "stream",
     "text": [
      "Epoch: 0013 lr: 0.01 loss: 5018.5815 time: 0.0640s\n",
      "[Parameter containing:\n",
      "tensor([1.3881], device='cuda:0', requires_grad=True), Parameter containing:\n",
      "tensor([0.8465], device='cuda:0', requires_grad=True), Parameter containing:\n",
      "tensor([0.6964], device='cuda:0', requires_grad=True), Parameter containing:\n",
      "tensor([0.5824], device='cuda:0', requires_grad=True), Parameter containing:\n",
      "tensor([1.3524], device='cuda:0', requires_grad=True), Parameter containing:\n",
      "tensor([1.0220], device='cuda:0', requires_grad=True), Parameter containing:\n",
      "tensor([0.8011], device='cuda:0', requires_grad=True), Parameter containing:\n",
      "tensor([0.7822], device='cuda:0', requires_grad=True), Parameter containing:\n",
      "tensor([0.8298], device='cuda:0', requires_grad=True)]\n"
     ]
    },
    {
     "name": "stderr",
     "output_type": "stream",
     "text": [
      "100%|██████████| 50/50 [00:26<00:00,  1.91it/s]\n"
     ]
    },
    {
     "name": "stdout",
     "output_type": "stream",
     "text": [
      "Epoch: 0014 lr: 0.01 loss: 3277.6233 time: 0.0745s\n",
      "[Parameter containing:\n",
      "tensor([1.4009], device='cuda:0', requires_grad=True), Parameter containing:\n",
      "tensor([0.8352], device='cuda:0', requires_grad=True), Parameter containing:\n",
      "tensor([0.6886], device='cuda:0', requires_grad=True), Parameter containing:\n",
      "tensor([0.6121], device='cuda:0', requires_grad=True), Parameter containing:\n",
      "tensor([1.3455], device='cuda:0', requires_grad=True), Parameter containing:\n",
      "tensor([1.0415], device='cuda:0', requires_grad=True), Parameter containing:\n",
      "tensor([0.8011], device='cuda:0', requires_grad=True), Parameter containing:\n",
      "tensor([0.7764], device='cuda:0', requires_grad=True), Parameter containing:\n",
      "tensor([0.8283], device='cuda:0', requires_grad=True)]\n"
     ]
    },
    {
     "name": "stderr",
     "output_type": "stream",
     "text": [
      "100%|██████████| 50/50 [00:26<00:00,  1.92it/s]\n"
     ]
    },
    {
     "name": "stdout",
     "output_type": "stream",
     "text": [
      "Epoch: 0015 lr: 0.01 loss: 1851.2947 time: 0.0796s\n",
      "[Parameter containing:\n",
      "tensor([1.3975], device='cuda:0', requires_grad=True), Parameter containing:\n",
      "tensor([0.8350], device='cuda:0', requires_grad=True), Parameter containing:\n",
      "tensor([0.6817], device='cuda:0', requires_grad=True), Parameter containing:\n",
      "tensor([0.5779], device='cuda:0', requires_grad=True), Parameter containing:\n",
      "tensor([1.3593], device='cuda:0', requires_grad=True), Parameter containing:\n",
      "tensor([1.0273], device='cuda:0', requires_grad=True), Parameter containing:\n",
      "tensor([0.8011], device='cuda:0', requires_grad=True), Parameter containing:\n",
      "tensor([0.7750], device='cuda:0', requires_grad=True), Parameter containing:\n",
      "tensor([0.8266], device='cuda:0', requires_grad=True)]\n"
     ]
    },
    {
     "name": "stderr",
     "output_type": "stream",
     "text": [
      "100%|██████████| 50/50 [00:26<00:00,  1.91it/s]\n"
     ]
    },
    {
     "name": "stdout",
     "output_type": "stream",
     "text": [
      "Epoch: 0016 lr: 0.01 loss: 950.5666 time: 0.0855s\n",
      "[Parameter containing:\n",
      "tensor([1.3959], device='cuda:0', requires_grad=True), Parameter containing:\n",
      "tensor([0.8382], device='cuda:0', requires_grad=True), Parameter containing:\n",
      "tensor([0.6910], device='cuda:0', requires_grad=True), Parameter containing:\n",
      "tensor([0.5731], device='cuda:0', requires_grad=True), Parameter containing:\n",
      "tensor([1.3627], device='cuda:0', requires_grad=True), Parameter containing:\n",
      "tensor([1.0227], device='cuda:0', requires_grad=True), Parameter containing:\n",
      "tensor([0.8011], device='cuda:0', requires_grad=True), Parameter containing:\n",
      "tensor([0.7766], device='cuda:0', requires_grad=True), Parameter containing:\n",
      "tensor([0.8250], device='cuda:0', requires_grad=True)]\n"
     ]
    },
    {
     "name": "stderr",
     "output_type": "stream",
     "text": [
      "100%|██████████| 50/50 [00:26<00:00,  1.91it/s]\n"
     ]
    },
    {
     "name": "stdout",
     "output_type": "stream",
     "text": [
      "Epoch: 0017 lr: 0.01 loss: 520.9180 time: 0.0742s\n",
      "[Parameter containing:\n",
      "tensor([1.4010], device='cuda:0', requires_grad=True), Parameter containing:\n",
      "tensor([0.8248], device='cuda:0', requires_grad=True), Parameter containing:\n",
      "tensor([0.6879], device='cuda:0', requires_grad=True), Parameter containing:\n",
      "tensor([0.5747], device='cuda:0', requires_grad=True), Parameter containing:\n",
      "tensor([1.3722], device='cuda:0', requires_grad=True), Parameter containing:\n",
      "tensor([1.0178], device='cuda:0', requires_grad=True), Parameter containing:\n",
      "tensor([0.8011], device='cuda:0', requires_grad=True), Parameter containing:\n",
      "tensor([0.7777], device='cuda:0', requires_grad=True), Parameter containing:\n",
      "tensor([0.8237], device='cuda:0', requires_grad=True)]\n"
     ]
    },
    {
     "name": "stderr",
     "output_type": "stream",
     "text": [
      "100%|██████████| 50/50 [00:26<00:00,  1.90it/s]\n"
     ]
    },
    {
     "name": "stdout",
     "output_type": "stream",
     "text": [
      "Epoch: 0018 lr: 0.01 loss: 252.7327 time: 0.0705s\n",
      "[Parameter containing:\n",
      "tensor([1.4044], device='cuda:0', requires_grad=True), Parameter containing:\n",
      "tensor([0.8243], device='cuda:0', requires_grad=True), Parameter containing:\n",
      "tensor([0.6863], device='cuda:0', requires_grad=True), Parameter containing:\n",
      "tensor([0.5715], device='cuda:0', requires_grad=True), Parameter containing:\n",
      "tensor([1.3656], device='cuda:0', requires_grad=True), Parameter containing:\n",
      "tensor([1.0212], device='cuda:0', requires_grad=True), Parameter containing:\n",
      "tensor([0.8011], device='cuda:0', requires_grad=True), Parameter containing:\n",
      "tensor([0.7783], device='cuda:0', requires_grad=True), Parameter containing:\n",
      "tensor([0.8229], device='cuda:0', requires_grad=True)]\n"
     ]
    },
    {
     "name": "stderr",
     "output_type": "stream",
     "text": [
      "100%|██████████| 50/50 [00:27<00:00,  1.80it/s]\n"
     ]
    },
    {
     "name": "stdout",
     "output_type": "stream",
     "text": [
      "Epoch: 0019 lr: 0.01 loss: 144.3450 time: 0.1211s\n",
      "[Parameter containing:\n",
      "tensor([1.4076], device='cuda:0', requires_grad=True), Parameter containing:\n",
      "tensor([0.8218], device='cuda:0', requires_grad=True), Parameter containing:\n",
      "tensor([0.6938], device='cuda:0', requires_grad=True), Parameter containing:\n",
      "tensor([0.5624], device='cuda:0', requires_grad=True), Parameter containing:\n",
      "tensor([1.3639], device='cuda:0', requires_grad=True), Parameter containing:\n",
      "tensor([1.0263], device='cuda:0', requires_grad=True), Parameter containing:\n",
      "tensor([0.8011], device='cuda:0', requires_grad=True), Parameter containing:\n",
      "tensor([0.7791], device='cuda:0', requires_grad=True), Parameter containing:\n",
      "tensor([0.8225], device='cuda:0', requires_grad=True)]\n"
     ]
    },
    {
     "name": "stderr",
     "output_type": "stream",
     "text": [
      "100%|██████████| 50/50 [00:26<00:00,  1.89it/s]\n"
     ]
    },
    {
     "name": "stdout",
     "output_type": "stream",
     "text": [
      "Epoch: 0020 lr: 0.005 loss: 91.6831 time: 0.0760s\n",
      "[Parameter containing:\n",
      "tensor([1.4098], device='cuda:0', requires_grad=True), Parameter containing:\n",
      "tensor([0.8178], device='cuda:0', requires_grad=True), Parameter containing:\n",
      "tensor([0.6979], device='cuda:0', requires_grad=True), Parameter containing:\n",
      "tensor([0.5628], device='cuda:0', requires_grad=True), Parameter containing:\n",
      "tensor([1.3649], device='cuda:0', requires_grad=True), Parameter containing:\n",
      "tensor([1.0222], device='cuda:0', requires_grad=True), Parameter containing:\n",
      "tensor([0.8011], device='cuda:0', requires_grad=True), Parameter containing:\n",
      "tensor([0.7797], device='cuda:0', requires_grad=True), Parameter containing:\n",
      "tensor([0.8221], device='cuda:0', requires_grad=True)]\n"
     ]
    },
    {
     "name": "stderr",
     "output_type": "stream",
     "text": [
      "100%|██████████| 50/50 [00:26<00:00,  1.90it/s]\n"
     ]
    },
    {
     "name": "stdout",
     "output_type": "stream",
     "text": [
      "Epoch: 0021 lr: 0.005 loss: 55.5648 time: 0.1204s\n",
      "[Parameter containing:\n",
      "tensor([1.4086], device='cuda:0', requires_grad=True), Parameter containing:\n",
      "tensor([0.8185], device='cuda:0', requires_grad=True), Parameter containing:\n",
      "tensor([0.6977], device='cuda:0', requires_grad=True), Parameter containing:\n",
      "tensor([0.5619], device='cuda:0', requires_grad=True), Parameter containing:\n",
      "tensor([1.3657], device='cuda:0', requires_grad=True), Parameter containing:\n",
      "tensor([1.0213], device='cuda:0', requires_grad=True), Parameter containing:\n",
      "tensor([0.8011], device='cuda:0', requires_grad=True), Parameter containing:\n",
      "tensor([0.7800], device='cuda:0', requires_grad=True), Parameter containing:\n",
      "tensor([0.8220], device='cuda:0', requires_grad=True)]\n"
     ]
    },
    {
     "name": "stderr",
     "output_type": "stream",
     "text": [
      "100%|██████████| 50/50 [00:26<00:00,  1.92it/s]\n"
     ]
    },
    {
     "name": "stdout",
     "output_type": "stream",
     "text": [
      "Epoch: 0022 lr: 0.005 loss: 43.7010 time: 0.0891s\n",
      "[Parameter containing:\n",
      "tensor([1.4100], device='cuda:0', requires_grad=True), Parameter containing:\n",
      "tensor([0.8168], device='cuda:0', requires_grad=True), Parameter containing:\n",
      "tensor([0.6990], device='cuda:0', requires_grad=True), Parameter containing:\n",
      "tensor([0.5616], device='cuda:0', requires_grad=True), Parameter containing:\n",
      "tensor([1.3652], device='cuda:0', requires_grad=True), Parameter containing:\n",
      "tensor([1.0235], device='cuda:0', requires_grad=True), Parameter containing:\n",
      "tensor([0.8011], device='cuda:0', requires_grad=True), Parameter containing:\n",
      "tensor([0.7801], device='cuda:0', requires_grad=True), Parameter containing:\n",
      "tensor([0.8219], device='cuda:0', requires_grad=True)]\n"
     ]
    },
    {
     "name": "stderr",
     "output_type": "stream",
     "text": [
      "100%|██████████| 50/50 [00:26<00:00,  1.91it/s]\n"
     ]
    },
    {
     "name": "stdout",
     "output_type": "stream",
     "text": [
      "Epoch: 0023 lr: 0.005 loss: 34.9663 time: 0.0771s\n",
      "[Parameter containing:\n",
      "tensor([1.4098], device='cuda:0', requires_grad=True), Parameter containing:\n",
      "tensor([0.8178], device='cuda:0', requires_grad=True), Parameter containing:\n",
      "tensor([0.7000], device='cuda:0', requires_grad=True), Parameter containing:\n",
      "tensor([0.5619], device='cuda:0', requires_grad=True), Parameter containing:\n",
      "tensor([1.3658], device='cuda:0', requires_grad=True), Parameter containing:\n",
      "tensor([1.0258], device='cuda:0', requires_grad=True), Parameter containing:\n",
      "tensor([0.8011], device='cuda:0', requires_grad=True), Parameter containing:\n",
      "tensor([0.7803], device='cuda:0', requires_grad=True), Parameter containing:\n",
      "tensor([0.8218], device='cuda:0', requires_grad=True)]\n"
     ]
    },
    {
     "name": "stderr",
     "output_type": "stream",
     "text": [
      "100%|██████████| 50/50 [00:26<00:00,  1.90it/s]\n"
     ]
    },
    {
     "name": "stdout",
     "output_type": "stream",
     "text": [
      "Epoch: 0024 lr: 0.005 loss: 28.3694 time: 0.0643s\n",
      "[Parameter containing:\n",
      "tensor([1.4099], device='cuda:0', requires_grad=True), Parameter containing:\n",
      "tensor([0.8182], device='cuda:0', requires_grad=True), Parameter containing:\n",
      "tensor([0.6993], device='cuda:0', requires_grad=True), Parameter containing:\n",
      "tensor([0.5615], device='cuda:0', requires_grad=True), Parameter containing:\n",
      "tensor([1.3657], device='cuda:0', requires_grad=True), Parameter containing:\n",
      "tensor([1.0245], device='cuda:0', requires_grad=True), Parameter containing:\n",
      "tensor([0.8011], device='cuda:0', requires_grad=True), Parameter containing:\n",
      "tensor([0.7804], device='cuda:0', requires_grad=True), Parameter containing:\n",
      "tensor([0.8217], device='cuda:0', requires_grad=True)]\n"
     ]
    },
    {
     "name": "stderr",
     "output_type": "stream",
     "text": [
      "100%|██████████| 50/50 [00:26<00:00,  1.90it/s]\n"
     ]
    },
    {
     "name": "stdout",
     "output_type": "stream",
     "text": [
      "Epoch: 0025 lr: 0.005 loss: 23.0853 time: 0.0885s\n",
      "[Parameter containing:\n",
      "tensor([1.4100], device='cuda:0', requires_grad=True), Parameter containing:\n",
      "tensor([0.8184], device='cuda:0', requires_grad=True), Parameter containing:\n",
      "tensor([0.6973], device='cuda:0', requires_grad=True), Parameter containing:\n",
      "tensor([0.5629], device='cuda:0', requires_grad=True), Parameter containing:\n",
      "tensor([1.3665], device='cuda:0', requires_grad=True), Parameter containing:\n",
      "tensor([1.0267], device='cuda:0', requires_grad=True), Parameter containing:\n",
      "tensor([0.8011], device='cuda:0', requires_grad=True), Parameter containing:\n",
      "tensor([0.7805], device='cuda:0', requires_grad=True), Parameter containing:\n",
      "tensor([0.8216], device='cuda:0', requires_grad=True)]\n"
     ]
    },
    {
     "name": "stderr",
     "output_type": "stream",
     "text": [
      "100%|██████████| 50/50 [00:26<00:00,  1.90it/s]\n"
     ]
    },
    {
     "name": "stdout",
     "output_type": "stream",
     "text": [
      "Epoch: 0026 lr: 0.005 loss: 18.6058 time: 0.0760s\n",
      "[Parameter containing:\n",
      "tensor([1.4101], device='cuda:0', requires_grad=True), Parameter containing:\n",
      "tensor([0.8176], device='cuda:0', requires_grad=True), Parameter containing:\n",
      "tensor([0.6969], device='cuda:0', requires_grad=True), Parameter containing:\n",
      "tensor([0.5640], device='cuda:0', requires_grad=True), Parameter containing:\n",
      "tensor([1.3664], device='cuda:0', requires_grad=True), Parameter containing:\n",
      "tensor([1.0249], device='cuda:0', requires_grad=True), Parameter containing:\n",
      "tensor([0.8011], device='cuda:0', requires_grad=True), Parameter containing:\n",
      "tensor([0.7806], device='cuda:0', requires_grad=True), Parameter containing:\n",
      "tensor([0.8215], device='cuda:0', requires_grad=True)]\n"
     ]
    },
    {
     "name": "stderr",
     "output_type": "stream",
     "text": [
      "100%|██████████| 50/50 [00:26<00:00,  1.90it/s]\n"
     ]
    },
    {
     "name": "stdout",
     "output_type": "stream",
     "text": [
      "Epoch: 0027 lr: 0.005 loss: 15.2358 time: 0.1217s\n",
      "[Parameter containing:\n",
      "tensor([1.4103], device='cuda:0', requires_grad=True), Parameter containing:\n",
      "tensor([0.8168], device='cuda:0', requires_grad=True), Parameter containing:\n",
      "tensor([0.6975], device='cuda:0', requires_grad=True), Parameter containing:\n",
      "tensor([0.5639], device='cuda:0', requires_grad=True), Parameter containing:\n",
      "tensor([1.3658], device='cuda:0', requires_grad=True), Parameter containing:\n",
      "tensor([1.0227], device='cuda:0', requires_grad=True), Parameter containing:\n",
      "tensor([0.8011], device='cuda:0', requires_grad=True), Parameter containing:\n",
      "tensor([0.7807], device='cuda:0', requires_grad=True), Parameter containing:\n",
      "tensor([0.8215], device='cuda:0', requires_grad=True)]\n"
     ]
    },
    {
     "name": "stderr",
     "output_type": "stream",
     "text": [
      "100%|██████████| 50/50 [00:26<00:00,  1.90it/s]\n"
     ]
    },
    {
     "name": "stdout",
     "output_type": "stream",
     "text": [
      "Epoch: 0028 lr: 0.005 loss: 12.8558 time: 0.0818s\n",
      "[Parameter containing:\n",
      "tensor([1.4102], device='cuda:0', requires_grad=True), Parameter containing:\n",
      "tensor([0.8176], device='cuda:0', requires_grad=True), Parameter containing:\n",
      "tensor([0.6973], device='cuda:0', requires_grad=True), Parameter containing:\n",
      "tensor([0.5643], device='cuda:0', requires_grad=True), Parameter containing:\n",
      "tensor([1.3669], device='cuda:0', requires_grad=True), Parameter containing:\n",
      "tensor([1.0226], device='cuda:0', requires_grad=True), Parameter containing:\n",
      "tensor([0.8011], device='cuda:0', requires_grad=True), Parameter containing:\n",
      "tensor([0.7807], device='cuda:0', requires_grad=True), Parameter containing:\n",
      "tensor([0.8214], device='cuda:0', requires_grad=True)]\n"
     ]
    },
    {
     "name": "stderr",
     "output_type": "stream",
     "text": [
      "100%|██████████| 50/50 [00:26<00:00,  1.91it/s]\n"
     ]
    },
    {
     "name": "stdout",
     "output_type": "stream",
     "text": [
      "Epoch: 0029 lr: 0.005 loss: 11.1428 time: 0.1202s\n",
      "[Parameter containing:\n",
      "tensor([1.4103], device='cuda:0', requires_grad=True), Parameter containing:\n",
      "tensor([0.8183], device='cuda:0', requires_grad=True), Parameter containing:\n",
      "tensor([0.6973], device='cuda:0', requires_grad=True), Parameter containing:\n",
      "tensor([0.5641], device='cuda:0', requires_grad=True), Parameter containing:\n",
      "tensor([1.3666], device='cuda:0', requires_grad=True), Parameter containing:\n",
      "tensor([1.0230], device='cuda:0', requires_grad=True), Parameter containing:\n",
      "tensor([0.8011], device='cuda:0', requires_grad=True), Parameter containing:\n",
      "tensor([0.7808], device='cuda:0', requires_grad=True), Parameter containing:\n",
      "tensor([0.8214], device='cuda:0', requires_grad=True)]\n"
     ]
    },
    {
     "name": "stderr",
     "output_type": "stream",
     "text": [
      "100%|██████████| 50/50 [00:26<00:00,  1.88it/s]\n"
     ]
    },
    {
     "name": "stdout",
     "output_type": "stream",
     "text": [
      "Epoch: 0030 lr: 0.005 loss: 9.8900 time: 0.1209s\n",
      "[Parameter containing:\n",
      "tensor([1.4107], device='cuda:0', requires_grad=True), Parameter containing:\n",
      "tensor([0.8183], device='cuda:0', requires_grad=True), Parameter containing:\n",
      "tensor([0.6971], device='cuda:0', requires_grad=True), Parameter containing:\n",
      "tensor([0.5640], device='cuda:0', requires_grad=True), Parameter containing:\n",
      "tensor([1.3662], device='cuda:0', requires_grad=True), Parameter containing:\n",
      "tensor([1.0209], device='cuda:0', requires_grad=True), Parameter containing:\n",
      "tensor([0.8011], device='cuda:0', requires_grad=True), Parameter containing:\n",
      "tensor([0.7808], device='cuda:0', requires_grad=True), Parameter containing:\n",
      "tensor([0.8213], device='cuda:0', requires_grad=True)]\n"
     ]
    },
    {
     "name": "stderr",
     "output_type": "stream",
     "text": [
      "100%|██████████| 50/50 [00:26<00:00,  1.90it/s]\n"
     ]
    },
    {
     "name": "stdout",
     "output_type": "stream",
     "text": [
      "Epoch: 0031 lr: 0.005 loss: 8.9367 time: 0.0838s\n",
      "[Parameter containing:\n",
      "tensor([1.4110], device='cuda:0', requires_grad=True), Parameter containing:\n",
      "tensor([0.8186], device='cuda:0', requires_grad=True), Parameter containing:\n",
      "tensor([0.6975], device='cuda:0', requires_grad=True), Parameter containing:\n",
      "tensor([0.5640], device='cuda:0', requires_grad=True), Parameter containing:\n",
      "tensor([1.3657], device='cuda:0', requires_grad=True), Parameter containing:\n",
      "tensor([1.0222], device='cuda:0', requires_grad=True), Parameter containing:\n",
      "tensor([0.8011], device='cuda:0', requires_grad=True), Parameter containing:\n",
      "tensor([0.7808], device='cuda:0', requires_grad=True), Parameter containing:\n",
      "tensor([0.8213], device='cuda:0', requires_grad=True)]\n"
     ]
    },
    {
     "name": "stderr",
     "output_type": "stream",
     "text": [
      "100%|██████████| 50/50 [00:26<00:00,  1.90it/s]\n"
     ]
    },
    {
     "name": "stdout",
     "output_type": "stream",
     "text": [
      "Epoch: 0032 lr: 0.005 loss: 8.2241 time: 0.0849s\n",
      "[Parameter containing:\n",
      "tensor([1.4105], device='cuda:0', requires_grad=True), Parameter containing:\n",
      "tensor([0.8182], device='cuda:0', requires_grad=True), Parameter containing:\n",
      "tensor([0.6976], device='cuda:0', requires_grad=True), Parameter containing:\n",
      "tensor([0.5643], device='cuda:0', requires_grad=True), Parameter containing:\n",
      "tensor([1.3660], device='cuda:0', requires_grad=True), Parameter containing:\n",
      "tensor([1.0213], device='cuda:0', requires_grad=True), Parameter containing:\n",
      "tensor([0.8011], device='cuda:0', requires_grad=True), Parameter containing:\n",
      "tensor([0.7809], device='cuda:0', requires_grad=True), Parameter containing:\n",
      "tensor([0.8213], device='cuda:0', requires_grad=True)]\n"
     ]
    },
    {
     "name": "stderr",
     "output_type": "stream",
     "text": [
      "100%|██████████| 50/50 [00:26<00:00,  1.87it/s]\n"
     ]
    },
    {
     "name": "stdout",
     "output_type": "stream",
     "text": [
      "Epoch: 0033 lr: 0.005 loss: 7.6886 time: 0.0870s\n",
      "[Parameter containing:\n",
      "tensor([1.4106], device='cuda:0', requires_grad=True), Parameter containing:\n",
      "tensor([0.8183], device='cuda:0', requires_grad=True), Parameter containing:\n",
      "tensor([0.6975], device='cuda:0', requires_grad=True), Parameter containing:\n",
      "tensor([0.5641], device='cuda:0', requires_grad=True), Parameter containing:\n",
      "tensor([1.3666], device='cuda:0', requires_grad=True), Parameter containing:\n",
      "tensor([1.0204], device='cuda:0', requires_grad=True), Parameter containing:\n",
      "tensor([0.8011], device='cuda:0', requires_grad=True), Parameter containing:\n",
      "tensor([0.7809], device='cuda:0', requires_grad=True), Parameter containing:\n",
      "tensor([0.8213], device='cuda:0', requires_grad=True)]\n"
     ]
    },
    {
     "name": "stderr",
     "output_type": "stream",
     "text": [
      "100%|██████████| 50/50 [00:26<00:00,  1.91it/s]\n"
     ]
    },
    {
     "name": "stdout",
     "output_type": "stream",
     "text": [
      "Epoch: 0034 lr: 0.005 loss: 7.2637 time: 0.0775s\n",
      "[Parameter containing:\n",
      "tensor([1.4106], device='cuda:0', requires_grad=True), Parameter containing:\n",
      "tensor([0.8184], device='cuda:0', requires_grad=True), Parameter containing:\n",
      "tensor([0.6971], device='cuda:0', requires_grad=True), Parameter containing:\n",
      "tensor([0.5646], device='cuda:0', requires_grad=True), Parameter containing:\n",
      "tensor([1.3664], device='cuda:0', requires_grad=True), Parameter containing:\n",
      "tensor([1.0200], device='cuda:0', requires_grad=True), Parameter containing:\n",
      "tensor([0.8011], device='cuda:0', requires_grad=True), Parameter containing:\n",
      "tensor([0.7809], device='cuda:0', requires_grad=True), Parameter containing:\n",
      "tensor([0.8212], device='cuda:0', requires_grad=True)]\n"
     ]
    },
    {
     "name": "stderr",
     "output_type": "stream",
     "text": [
      "100%|██████████| 50/50 [00:26<00:00,  1.91it/s]\n"
     ]
    },
    {
     "name": "stdout",
     "output_type": "stream",
     "text": [
      "Epoch: 0035 lr: 0.005 loss: 6.8913 time: 0.0729s\n",
      "[Parameter containing:\n",
      "tensor([1.4103], device='cuda:0', requires_grad=True), Parameter containing:\n",
      "tensor([0.8180], device='cuda:0', requires_grad=True), Parameter containing:\n",
      "tensor([0.6972], device='cuda:0', requires_grad=True), Parameter containing:\n",
      "tensor([0.5648], device='cuda:0', requires_grad=True), Parameter containing:\n",
      "tensor([1.3667], device='cuda:0', requires_grad=True), Parameter containing:\n",
      "tensor([1.0207], device='cuda:0', requires_grad=True), Parameter containing:\n",
      "tensor([0.8011], device='cuda:0', requires_grad=True), Parameter containing:\n",
      "tensor([0.7809], device='cuda:0', requires_grad=True), Parameter containing:\n",
      "tensor([0.8212], device='cuda:0', requires_grad=True)]\n"
     ]
    },
    {
     "name": "stderr",
     "output_type": "stream",
     "text": [
      "100%|██████████| 50/50 [00:26<00:00,  1.90it/s]\n"
     ]
    },
    {
     "name": "stdout",
     "output_type": "stream",
     "text": [
      "Epoch: 0036 lr: 0.005 loss: 6.5820 time: 0.0852s\n",
      "[Parameter containing:\n",
      "tensor([1.4104], device='cuda:0', requires_grad=True), Parameter containing:\n",
      "tensor([0.8178], device='cuda:0', requires_grad=True), Parameter containing:\n",
      "tensor([0.6975], device='cuda:0', requires_grad=True), Parameter containing:\n",
      "tensor([0.5650], device='cuda:0', requires_grad=True), Parameter containing:\n",
      "tensor([1.3674], device='cuda:0', requires_grad=True), Parameter containing:\n",
      "tensor([1.0215], device='cuda:0', requires_grad=True), Parameter containing:\n",
      "tensor([0.8011], device='cuda:0', requires_grad=True), Parameter containing:\n",
      "tensor([0.7809], device='cuda:0', requires_grad=True), Parameter containing:\n",
      "tensor([0.8212], device='cuda:0', requires_grad=True)]\n"
     ]
    },
    {
     "name": "stderr",
     "output_type": "stream",
     "text": [
      "100%|██████████| 50/50 [00:26<00:00,  1.89it/s]\n"
     ]
    },
    {
     "name": "stdout",
     "output_type": "stream",
     "text": [
      "Epoch: 0037 lr: 0.005 loss: 6.3720 time: 0.0723s\n",
      "[Parameter containing:\n",
      "tensor([1.4105], device='cuda:0', requires_grad=True), Parameter containing:\n",
      "tensor([0.8180], device='cuda:0', requires_grad=True), Parameter containing:\n",
      "tensor([0.6962], device='cuda:0', requires_grad=True), Parameter containing:\n",
      "tensor([0.5650], device='cuda:0', requires_grad=True), Parameter containing:\n",
      "tensor([1.3676], device='cuda:0', requires_grad=True), Parameter containing:\n",
      "tensor([1.0212], device='cuda:0', requires_grad=True), Parameter containing:\n",
      "tensor([0.8011], device='cuda:0', requires_grad=True), Parameter containing:\n",
      "tensor([0.7809], device='cuda:0', requires_grad=True), Parameter containing:\n",
      "tensor([0.8212], device='cuda:0', requires_grad=True)]\n"
     ]
    },
    {
     "name": "stderr",
     "output_type": "stream",
     "text": [
      "100%|██████████| 50/50 [00:26<00:00,  1.90it/s]\n"
     ]
    },
    {
     "name": "stdout",
     "output_type": "stream",
     "text": [
      "Epoch: 0038 lr: 0.005 loss: 6.2069 time: 0.1267s\n",
      "[Parameter containing:\n",
      "tensor([1.4107], device='cuda:0', requires_grad=True), Parameter containing:\n",
      "tensor([0.8176], device='cuda:0', requires_grad=True), Parameter containing:\n",
      "tensor([0.6949], device='cuda:0', requires_grad=True), Parameter containing:\n",
      "tensor([0.5658], device='cuda:0', requires_grad=True), Parameter containing:\n",
      "tensor([1.3677], device='cuda:0', requires_grad=True), Parameter containing:\n",
      "tensor([1.0243], device='cuda:0', requires_grad=True), Parameter containing:\n",
      "tensor([0.8011], device='cuda:0', requires_grad=True), Parameter containing:\n",
      "tensor([0.7809], device='cuda:0', requires_grad=True), Parameter containing:\n",
      "tensor([0.8212], device='cuda:0', requires_grad=True)]\n"
     ]
    },
    {
     "name": "stderr",
     "output_type": "stream",
     "text": [
      "100%|██████████| 50/50 [00:26<00:00,  1.90it/s]\n"
     ]
    },
    {
     "name": "stdout",
     "output_type": "stream",
     "text": [
      "Epoch: 0039 lr: 0.005 loss: 5.9804 time: 0.1084s\n",
      "[Parameter containing:\n",
      "tensor([1.4111], device='cuda:0', requires_grad=True), Parameter containing:\n",
      "tensor([0.8176], device='cuda:0', requires_grad=True), Parameter containing:\n",
      "tensor([0.6960], device='cuda:0', requires_grad=True), Parameter containing:\n",
      "tensor([0.5653], device='cuda:0', requires_grad=True), Parameter containing:\n",
      "tensor([1.3675], device='cuda:0', requires_grad=True), Parameter containing:\n",
      "tensor([1.0244], device='cuda:0', requires_grad=True), Parameter containing:\n",
      "tensor([0.8011], device='cuda:0', requires_grad=True), Parameter containing:\n",
      "tensor([0.7809], device='cuda:0', requires_grad=True), Parameter containing:\n",
      "tensor([0.8212], device='cuda:0', requires_grad=True)]\n"
     ]
    },
    {
     "name": "stderr",
     "output_type": "stream",
     "text": [
      "100%|██████████| 50/50 [00:26<00:00,  1.89it/s]\n"
     ]
    },
    {
     "name": "stdout",
     "output_type": "stream",
     "text": [
      "Epoch: 0040 lr: 0.0025 loss: 5.7917 time: 0.0740s\n",
      "[Parameter containing:\n",
      "tensor([1.4110], device='cuda:0', requires_grad=True), Parameter containing:\n",
      "tensor([0.8170], device='cuda:0', requires_grad=True), Parameter containing:\n",
      "tensor([0.6941], device='cuda:0', requires_grad=True), Parameter containing:\n",
      "tensor([0.5668], device='cuda:0', requires_grad=True), Parameter containing:\n",
      "tensor([1.3677], device='cuda:0', requires_grad=True), Parameter containing:\n",
      "tensor([1.0250], device='cuda:0', requires_grad=True), Parameter containing:\n",
      "tensor([0.8011], device='cuda:0', requires_grad=True), Parameter containing:\n",
      "tensor([0.7809], device='cuda:0', requires_grad=True), Parameter containing:\n",
      "tensor([0.8212], device='cuda:0', requires_grad=True)]\n"
     ]
    },
    {
     "name": "stderr",
     "output_type": "stream",
     "text": [
      "100%|██████████| 50/50 [00:26<00:00,  1.89it/s]\n"
     ]
    },
    {
     "name": "stdout",
     "output_type": "stream",
     "text": [
      "Epoch: 0041 lr: 0.0025 loss: 5.3276 time: 0.0642s\n",
      "[Parameter containing:\n",
      "tensor([1.4110], device='cuda:0', requires_grad=True), Parameter containing:\n",
      "tensor([0.8166], device='cuda:0', requires_grad=True), Parameter containing:\n",
      "tensor([0.6944], device='cuda:0', requires_grad=True), Parameter containing:\n",
      "tensor([0.5667], device='cuda:0', requires_grad=True), Parameter containing:\n",
      "tensor([1.3677], device='cuda:0', requires_grad=True), Parameter containing:\n",
      "tensor([1.0247], device='cuda:0', requires_grad=True), Parameter containing:\n",
      "tensor([0.8011], device='cuda:0', requires_grad=True), Parameter containing:\n",
      "tensor([0.7809], device='cuda:0', requires_grad=True), Parameter containing:\n",
      "tensor([0.8212], device='cuda:0', requires_grad=True)]\n"
     ]
    },
    {
     "name": "stderr",
     "output_type": "stream",
     "text": [
      "100%|██████████| 50/50 [00:26<00:00,  1.90it/s]\n"
     ]
    },
    {
     "name": "stdout",
     "output_type": "stream",
     "text": [
      "Epoch: 0042 lr: 0.0025 loss: 5.3354 time: 0.1209s\n",
      "[Parameter containing:\n",
      "tensor([1.4112], device='cuda:0', requires_grad=True), Parameter containing:\n",
      "tensor([0.8168], device='cuda:0', requires_grad=True), Parameter containing:\n",
      "tensor([0.6948], device='cuda:0', requires_grad=True), Parameter containing:\n",
      "tensor([0.5663], device='cuda:0', requires_grad=True), Parameter containing:\n",
      "tensor([1.3675], device='cuda:0', requires_grad=True), Parameter containing:\n",
      "tensor([1.0268], device='cuda:0', requires_grad=True), Parameter containing:\n",
      "tensor([0.8011], device='cuda:0', requires_grad=True), Parameter containing:\n",
      "tensor([0.7809], device='cuda:0', requires_grad=True), Parameter containing:\n",
      "tensor([0.8212], device='cuda:0', requires_grad=True)]\n"
     ]
    },
    {
     "name": "stderr",
     "output_type": "stream",
     "text": [
      "100%|██████████| 50/50 [00:26<00:00,  1.89it/s]\n"
     ]
    },
    {
     "name": "stdout",
     "output_type": "stream",
     "text": [
      "Epoch: 0043 lr: 0.0025 loss: 5.2844 time: 0.0841s\n",
      "[Parameter containing:\n",
      "tensor([1.4111], device='cuda:0', requires_grad=True), Parameter containing:\n",
      "tensor([0.8168], device='cuda:0', requires_grad=True), Parameter containing:\n",
      "tensor([0.6946], device='cuda:0', requires_grad=True), Parameter containing:\n",
      "tensor([0.5665], device='cuda:0', requires_grad=True), Parameter containing:\n",
      "tensor([1.3678], device='cuda:0', requires_grad=True), Parameter containing:\n",
      "tensor([1.0268], device='cuda:0', requires_grad=True), Parameter containing:\n",
      "tensor([0.8011], device='cuda:0', requires_grad=True), Parameter containing:\n",
      "tensor([0.7809], device='cuda:0', requires_grad=True), Parameter containing:\n",
      "tensor([0.8212], device='cuda:0', requires_grad=True)]\n"
     ]
    },
    {
     "name": "stderr",
     "output_type": "stream",
     "text": [
      "100%|██████████| 50/50 [00:26<00:00,  1.90it/s]\n"
     ]
    },
    {
     "name": "stdout",
     "output_type": "stream",
     "text": [
      "Epoch: 0044 lr: 0.0025 loss: 5.2363 time: 0.0772s\n",
      "[Parameter containing:\n",
      "tensor([1.4108], device='cuda:0', requires_grad=True), Parameter containing:\n",
      "tensor([0.8160], device='cuda:0', requires_grad=True), Parameter containing:\n",
      "tensor([0.6947], device='cuda:0', requires_grad=True), Parameter containing:\n",
      "tensor([0.5667], device='cuda:0', requires_grad=True), Parameter containing:\n",
      "tensor([1.3673], device='cuda:0', requires_grad=True), Parameter containing:\n",
      "tensor([1.0267], device='cuda:0', requires_grad=True), Parameter containing:\n",
      "tensor([0.8011], device='cuda:0', requires_grad=True), Parameter containing:\n",
      "tensor([0.7809], device='cuda:0', requires_grad=True), Parameter containing:\n",
      "tensor([0.8212], device='cuda:0', requires_grad=True)]\n"
     ]
    },
    {
     "name": "stderr",
     "output_type": "stream",
     "text": [
      "100%|██████████| 50/50 [00:26<00:00,  1.91it/s]\n"
     ]
    },
    {
     "name": "stdout",
     "output_type": "stream",
     "text": [
      "Epoch: 0045 lr: 0.0025 loss: 5.2160 time: 0.0832s\n",
      "[Parameter containing:\n",
      "tensor([1.4110], device='cuda:0', requires_grad=True), Parameter containing:\n",
      "tensor([0.8161], device='cuda:0', requires_grad=True), Parameter containing:\n",
      "tensor([0.6944], device='cuda:0', requires_grad=True), Parameter containing:\n",
      "tensor([0.5670], device='cuda:0', requires_grad=True), Parameter containing:\n",
      "tensor([1.3674], device='cuda:0', requires_grad=True), Parameter containing:\n",
      "tensor([1.0278], device='cuda:0', requires_grad=True), Parameter containing:\n",
      "tensor([0.8011], device='cuda:0', requires_grad=True), Parameter containing:\n",
      "tensor([0.7809], device='cuda:0', requires_grad=True), Parameter containing:\n",
      "tensor([0.8212], device='cuda:0', requires_grad=True)]\n"
     ]
    },
    {
     "name": "stderr",
     "output_type": "stream",
     "text": [
      "100%|██████████| 50/50 [00:26<00:00,  1.89it/s]\n"
     ]
    },
    {
     "name": "stdout",
     "output_type": "stream",
     "text": [
      "Epoch: 0046 lr: 0.0025 loss: 5.2207 time: 0.0842s\n",
      "[Parameter containing:\n",
      "tensor([1.4113], device='cuda:0', requires_grad=True), Parameter containing:\n",
      "tensor([0.8161], device='cuda:0', requires_grad=True), Parameter containing:\n",
      "tensor([0.6945], device='cuda:0', requires_grad=True), Parameter containing:\n",
      "tensor([0.5669], device='cuda:0', requires_grad=True), Parameter containing:\n",
      "tensor([1.3678], device='cuda:0', requires_grad=True), Parameter containing:\n",
      "tensor([1.0294], device='cuda:0', requires_grad=True), Parameter containing:\n",
      "tensor([0.8011], device='cuda:0', requires_grad=True), Parameter containing:\n",
      "tensor([0.7809], device='cuda:0', requires_grad=True), Parameter containing:\n",
      "tensor([0.8212], device='cuda:0', requires_grad=True)]\n"
     ]
    },
    {
     "name": "stderr",
     "output_type": "stream",
     "text": [
      "100%|██████████| 50/50 [00:26<00:00,  1.89it/s]\n"
     ]
    },
    {
     "name": "stdout",
     "output_type": "stream",
     "text": [
      "Epoch: 0047 lr: 0.0025 loss: 5.2163 time: 0.1210s\n",
      "[Parameter containing:\n",
      "tensor([1.4113], device='cuda:0', requires_grad=True), Parameter containing:\n",
      "tensor([0.8163], device='cuda:0', requires_grad=True), Parameter containing:\n",
      "tensor([0.6942], device='cuda:0', requires_grad=True), Parameter containing:\n",
      "tensor([0.5673], device='cuda:0', requires_grad=True), Parameter containing:\n",
      "tensor([1.3675], device='cuda:0', requires_grad=True), Parameter containing:\n",
      "tensor([1.0310], device='cuda:0', requires_grad=True), Parameter containing:\n",
      "tensor([0.8011], device='cuda:0', requires_grad=True), Parameter containing:\n",
      "tensor([0.7809], device='cuda:0', requires_grad=True), Parameter containing:\n",
      "tensor([0.8212], device='cuda:0', requires_grad=True)]\n"
     ]
    },
    {
     "name": "stderr",
     "output_type": "stream",
     "text": [
      "100%|██████████| 50/50 [00:26<00:00,  1.89it/s]\n"
     ]
    },
    {
     "name": "stdout",
     "output_type": "stream",
     "text": [
      "Epoch: 0048 lr: 0.0025 loss: 5.1293 time: 0.0839s\n",
      "[Parameter containing:\n",
      "tensor([1.4110], device='cuda:0', requires_grad=True), Parameter containing:\n",
      "tensor([0.8161], device='cuda:0', requires_grad=True), Parameter containing:\n",
      "tensor([0.6937], device='cuda:0', requires_grad=True), Parameter containing:\n",
      "tensor([0.5674], device='cuda:0', requires_grad=True), Parameter containing:\n",
      "tensor([1.3677], device='cuda:0', requires_grad=True), Parameter containing:\n",
      "tensor([1.0308], device='cuda:0', requires_grad=True), Parameter containing:\n",
      "tensor([0.8011], device='cuda:0', requires_grad=True), Parameter containing:\n",
      "tensor([0.7809], device='cuda:0', requires_grad=True), Parameter containing:\n",
      "tensor([0.8212], device='cuda:0', requires_grad=True)]\n"
     ]
    },
    {
     "name": "stderr",
     "output_type": "stream",
     "text": [
      "100%|██████████| 50/50 [00:26<00:00,  1.91it/s]\n"
     ]
    },
    {
     "name": "stdout",
     "output_type": "stream",
     "text": [
      "Epoch: 0049 lr: 0.0025 loss: 4.9542 time: 0.0728s\n",
      "[Parameter containing:\n",
      "tensor([1.4111], device='cuda:0', requires_grad=True), Parameter containing:\n",
      "tensor([0.8162], device='cuda:0', requires_grad=True), Parameter containing:\n",
      "tensor([0.6939], device='cuda:0', requires_grad=True), Parameter containing:\n",
      "tensor([0.5670], device='cuda:0', requires_grad=True), Parameter containing:\n",
      "tensor([1.3682], device='cuda:0', requires_grad=True), Parameter containing:\n",
      "tensor([1.0319], device='cuda:0', requires_grad=True), Parameter containing:\n",
      "tensor([0.8011], device='cuda:0', requires_grad=True), Parameter containing:\n",
      "tensor([0.7809], device='cuda:0', requires_grad=True), Parameter containing:\n",
      "tensor([0.8212], device='cuda:0', requires_grad=True)]\n"
     ]
    },
    {
     "name": "stderr",
     "output_type": "stream",
     "text": [
      "100%|██████████| 50/50 [00:26<00:00,  1.89it/s]\n"
     ]
    },
    {
     "name": "stdout",
     "output_type": "stream",
     "text": [
      "Epoch: 0050 lr: 0.0025 loss: 4.7889 time: 0.0787s\n",
      "[Parameter containing:\n",
      "tensor([1.4115], device='cuda:0', requires_grad=True), Parameter containing:\n",
      "tensor([0.8161], device='cuda:0', requires_grad=True), Parameter containing:\n",
      "tensor([0.6942], device='cuda:0', requires_grad=True), Parameter containing:\n",
      "tensor([0.5673], device='cuda:0', requires_grad=True), Parameter containing:\n",
      "tensor([1.3684], device='cuda:0', requires_grad=True), Parameter containing:\n",
      "tensor([1.0308], device='cuda:0', requires_grad=True), Parameter containing:\n",
      "tensor([0.8011], device='cuda:0', requires_grad=True), Parameter containing:\n",
      "tensor([0.7809], device='cuda:0', requires_grad=True), Parameter containing:\n",
      "tensor([0.8212], device='cuda:0', requires_grad=True)]\n"
     ]
    },
    {
     "name": "stderr",
     "output_type": "stream",
     "text": [
      "100%|██████████| 50/50 [00:26<00:00,  1.90it/s]\n"
     ]
    },
    {
     "name": "stdout",
     "output_type": "stream",
     "text": [
      "Epoch: 0051 lr: 0.0025 loss: 4.6736 time: 0.0852s\n",
      "[Parameter containing:\n",
      "tensor([1.4120], device='cuda:0', requires_grad=True), Parameter containing:\n",
      "tensor([0.8164], device='cuda:0', requires_grad=True), Parameter containing:\n",
      "tensor([0.6943], device='cuda:0', requires_grad=True), Parameter containing:\n",
      "tensor([0.5671], device='cuda:0', requires_grad=True), Parameter containing:\n",
      "tensor([1.3683], device='cuda:0', requires_grad=True), Parameter containing:\n",
      "tensor([1.0301], device='cuda:0', requires_grad=True), Parameter containing:\n",
      "tensor([0.8011], device='cuda:0', requires_grad=True), Parameter containing:\n",
      "tensor([0.7809], device='cuda:0', requires_grad=True), Parameter containing:\n",
      "tensor([0.8212], device='cuda:0', requires_grad=True)]\n"
     ]
    },
    {
     "name": "stderr",
     "output_type": "stream",
     "text": [
      "100%|██████████| 50/50 [00:26<00:00,  1.90it/s]\n"
     ]
    },
    {
     "name": "stdout",
     "output_type": "stream",
     "text": [
      "Epoch: 0052 lr: 0.0025 loss: 4.5949 time: 0.1218s\n",
      "[Parameter containing:\n",
      "tensor([1.4119], device='cuda:0', requires_grad=True), Parameter containing:\n",
      "tensor([0.8167], device='cuda:0', requires_grad=True), Parameter containing:\n",
      "tensor([0.6935], device='cuda:0', requires_grad=True), Parameter containing:\n",
      "tensor([0.5674], device='cuda:0', requires_grad=True), Parameter containing:\n",
      "tensor([1.3682], device='cuda:0', requires_grad=True), Parameter containing:\n",
      "tensor([1.0284], device='cuda:0', requires_grad=True), Parameter containing:\n",
      "tensor([0.8011], device='cuda:0', requires_grad=True), Parameter containing:\n",
      "tensor([0.7809], device='cuda:0', requires_grad=True), Parameter containing:\n",
      "tensor([0.8212], device='cuda:0', requires_grad=True)]\n"
     ]
    },
    {
     "name": "stderr",
     "output_type": "stream",
     "text": [
      "100%|██████████| 50/50 [00:26<00:00,  1.88it/s]\n"
     ]
    },
    {
     "name": "stdout",
     "output_type": "stream",
     "text": [
      "Epoch: 0053 lr: 0.0025 loss: 4.5285 time: 0.0732s\n",
      "[Parameter containing:\n",
      "tensor([1.4120], device='cuda:0', requires_grad=True), Parameter containing:\n",
      "tensor([0.8170], device='cuda:0', requires_grad=True), Parameter containing:\n",
      "tensor([0.6929], device='cuda:0', requires_grad=True), Parameter containing:\n",
      "tensor([0.5678], device='cuda:0', requires_grad=True), Parameter containing:\n",
      "tensor([1.3678], device='cuda:0', requires_grad=True), Parameter containing:\n",
      "tensor([1.0281], device='cuda:0', requires_grad=True), Parameter containing:\n",
      "tensor([0.8011], device='cuda:0', requires_grad=True), Parameter containing:\n",
      "tensor([0.7809], device='cuda:0', requires_grad=True), Parameter containing:\n",
      "tensor([0.8212], device='cuda:0', requires_grad=True)]\n"
     ]
    },
    {
     "name": "stderr",
     "output_type": "stream",
     "text": [
      "100%|██████████| 50/50 [00:26<00:00,  1.89it/s]\n"
     ]
    },
    {
     "name": "stdout",
     "output_type": "stream",
     "text": [
      "Epoch: 0054 lr: 0.0025 loss: 4.4545 time: 0.1360s\n",
      "[Parameter containing:\n",
      "tensor([1.4117], device='cuda:0', requires_grad=True), Parameter containing:\n",
      "tensor([0.8176], device='cuda:0', requires_grad=True), Parameter containing:\n",
      "tensor([0.6923], device='cuda:0', requires_grad=True), Parameter containing:\n",
      "tensor([0.5682], device='cuda:0', requires_grad=True), Parameter containing:\n",
      "tensor([1.3674], device='cuda:0', requires_grad=True), Parameter containing:\n",
      "tensor([1.0280], device='cuda:0', requires_grad=True), Parameter containing:\n",
      "tensor([0.8011], device='cuda:0', requires_grad=True), Parameter containing:\n",
      "tensor([0.7809], device='cuda:0', requires_grad=True), Parameter containing:\n",
      "tensor([0.8212], device='cuda:0', requires_grad=True)]\n"
     ]
    },
    {
     "name": "stderr",
     "output_type": "stream",
     "text": [
      "100%|██████████| 50/50 [00:26<00:00,  1.89it/s]\n"
     ]
    },
    {
     "name": "stdout",
     "output_type": "stream",
     "text": [
      "Epoch: 0055 lr: 0.0025 loss: 4.3653 time: 0.0734s\n",
      "[Parameter containing:\n",
      "tensor([1.4115], device='cuda:0', requires_grad=True), Parameter containing:\n",
      "tensor([0.8174], device='cuda:0', requires_grad=True), Parameter containing:\n",
      "tensor([0.6929], device='cuda:0', requires_grad=True), Parameter containing:\n",
      "tensor([0.5679], device='cuda:0', requires_grad=True), Parameter containing:\n",
      "tensor([1.3670], device='cuda:0', requires_grad=True), Parameter containing:\n",
      "tensor([1.0269], device='cuda:0', requires_grad=True), Parameter containing:\n",
      "tensor([0.8011], device='cuda:0', requires_grad=True), Parameter containing:\n",
      "tensor([0.7809], device='cuda:0', requires_grad=True), Parameter containing:\n",
      "tensor([0.8212], device='cuda:0', requires_grad=True)]\n"
     ]
    },
    {
     "name": "stderr",
     "output_type": "stream",
     "text": [
      "100%|██████████| 50/50 [00:26<00:00,  1.89it/s]\n"
     ]
    },
    {
     "name": "stdout",
     "output_type": "stream",
     "text": [
      "Epoch: 0056 lr: 0.0025 loss: 4.2785 time: 0.0768s\n",
      "[Parameter containing:\n",
      "tensor([1.4118], device='cuda:0', requires_grad=True), Parameter containing:\n",
      "tensor([0.8172], device='cuda:0', requires_grad=True), Parameter containing:\n",
      "tensor([0.6929], device='cuda:0', requires_grad=True), Parameter containing:\n",
      "tensor([0.5680], device='cuda:0', requires_grad=True), Parameter containing:\n",
      "tensor([1.3672], device='cuda:0', requires_grad=True), Parameter containing:\n",
      "tensor([1.0267], device='cuda:0', requires_grad=True), Parameter containing:\n",
      "tensor([0.8011], device='cuda:0', requires_grad=True), Parameter containing:\n",
      "tensor([0.7809], device='cuda:0', requires_grad=True), Parameter containing:\n",
      "tensor([0.8212], device='cuda:0', requires_grad=True)]\n"
     ]
    },
    {
     "name": "stderr",
     "output_type": "stream",
     "text": [
      "100%|██████████| 50/50 [00:26<00:00,  1.90it/s]\n"
     ]
    },
    {
     "name": "stdout",
     "output_type": "stream",
     "text": [
      "Epoch: 0057 lr: 0.0025 loss: 4.2069 time: 0.1210s\n",
      "[Parameter containing:\n",
      "tensor([1.4120], device='cuda:0', requires_grad=True), Parameter containing:\n",
      "tensor([0.8174], device='cuda:0', requires_grad=True), Parameter containing:\n",
      "tensor([0.6928], device='cuda:0', requires_grad=True), Parameter containing:\n",
      "tensor([0.5683], device='cuda:0', requires_grad=True), Parameter containing:\n",
      "tensor([1.3674], device='cuda:0', requires_grad=True), Parameter containing:\n",
      "tensor([1.0255], device='cuda:0', requires_grad=True), Parameter containing:\n",
      "tensor([0.8011], device='cuda:0', requires_grad=True), Parameter containing:\n",
      "tensor([0.7809], device='cuda:0', requires_grad=True), Parameter containing:\n",
      "tensor([0.8212], device='cuda:0', requires_grad=True)]\n"
     ]
    },
    {
     "name": "stderr",
     "output_type": "stream",
     "text": [
      "100%|██████████| 50/50 [00:26<00:00,  1.90it/s]\n"
     ]
    },
    {
     "name": "stdout",
     "output_type": "stream",
     "text": [
      "Epoch: 0058 lr: 0.0025 loss: 4.1461 time: 0.0725s\n",
      "[Parameter containing:\n",
      "tensor([1.4119], device='cuda:0', requires_grad=True), Parameter containing:\n",
      "tensor([0.8177], device='cuda:0', requires_grad=True), Parameter containing:\n",
      "tensor([0.6927], device='cuda:0', requires_grad=True), Parameter containing:\n",
      "tensor([0.5685], device='cuda:0', requires_grad=True), Parameter containing:\n",
      "tensor([1.3678], device='cuda:0', requires_grad=True), Parameter containing:\n",
      "tensor([1.0247], device='cuda:0', requires_grad=True), Parameter containing:\n",
      "tensor([0.8011], device='cuda:0', requires_grad=True), Parameter containing:\n",
      "tensor([0.7809], device='cuda:0', requires_grad=True), Parameter containing:\n",
      "tensor([0.8212], device='cuda:0', requires_grad=True)]\n"
     ]
    },
    {
     "name": "stderr",
     "output_type": "stream",
     "text": [
      "100%|██████████| 50/50 [00:26<00:00,  1.88it/s]\n"
     ]
    },
    {
     "name": "stdout",
     "output_type": "stream",
     "text": [
      "Epoch: 0059 lr: 0.0025 loss: 4.0888 time: 0.1198s\n",
      "[Parameter containing:\n",
      "tensor([1.4122], device='cuda:0', requires_grad=True), Parameter containing:\n",
      "tensor([0.8175], device='cuda:0', requires_grad=True), Parameter containing:\n",
      "tensor([0.6922], device='cuda:0', requires_grad=True), Parameter containing:\n",
      "tensor([0.5690], device='cuda:0', requires_grad=True), Parameter containing:\n",
      "tensor([1.3676], device='cuda:0', requires_grad=True), Parameter containing:\n",
      "tensor([1.0228], device='cuda:0', requires_grad=True), Parameter containing:\n",
      "tensor([0.8011], device='cuda:0', requires_grad=True), Parameter containing:\n",
      "tensor([0.7809], device='cuda:0', requires_grad=True), Parameter containing:\n",
      "tensor([0.8212], device='cuda:0', requires_grad=True)]\n"
     ]
    },
    {
     "name": "stderr",
     "output_type": "stream",
     "text": [
      "100%|██████████| 50/50 [00:26<00:00,  1.89it/s]\n"
     ]
    },
    {
     "name": "stdout",
     "output_type": "stream",
     "text": [
      "Epoch: 0060 lr: 0.00125 loss: 4.0359 time: 0.0889s\n",
      "[Parameter containing:\n",
      "tensor([1.4124], device='cuda:0', requires_grad=True), Parameter containing:\n",
      "tensor([0.8172], device='cuda:0', requires_grad=True), Parameter containing:\n",
      "tensor([0.6918], device='cuda:0', requires_grad=True), Parameter containing:\n",
      "tensor([0.5692], device='cuda:0', requires_grad=True), Parameter containing:\n",
      "tensor([1.3675], device='cuda:0', requires_grad=True), Parameter containing:\n",
      "tensor([1.0218], device='cuda:0', requires_grad=True), Parameter containing:\n",
      "tensor([0.8011], device='cuda:0', requires_grad=True), Parameter containing:\n",
      "tensor([0.7809], device='cuda:0', requires_grad=True), Parameter containing:\n",
      "tensor([0.8212], device='cuda:0', requires_grad=True)]\n"
     ]
    },
    {
     "name": "stderr",
     "output_type": "stream",
     "text": [
      "100%|██████████| 50/50 [00:27<00:00,  1.79it/s]\n"
     ]
    },
    {
     "name": "stdout",
     "output_type": "stream",
     "text": [
      "Epoch: 0061 lr: 0.00125 loss: 3.9604 time: 0.0721s\n",
      "[Parameter containing:\n",
      "tensor([1.4125], device='cuda:0', requires_grad=True), Parameter containing:\n",
      "tensor([0.8173], device='cuda:0', requires_grad=True), Parameter containing:\n",
      "tensor([0.6914], device='cuda:0', requires_grad=True), Parameter containing:\n",
      "tensor([0.5693], device='cuda:0', requires_grad=True), Parameter containing:\n",
      "tensor([1.3675], device='cuda:0', requires_grad=True), Parameter containing:\n",
      "tensor([1.0217], device='cuda:0', requires_grad=True), Parameter containing:\n",
      "tensor([0.8011], device='cuda:0', requires_grad=True), Parameter containing:\n",
      "tensor([0.7809], device='cuda:0', requires_grad=True), Parameter containing:\n",
      "tensor([0.8212], device='cuda:0', requires_grad=True)]\n"
     ]
    },
    {
     "name": "stderr",
     "output_type": "stream",
     "text": [
      "100%|██████████| 50/50 [00:26<00:00,  1.90it/s]\n"
     ]
    },
    {
     "name": "stdout",
     "output_type": "stream",
     "text": [
      "Epoch: 0062 lr: 0.00125 loss: 3.8647 time: 0.0990s\n",
      "[Parameter containing:\n",
      "tensor([1.4124], device='cuda:0', requires_grad=True), Parameter containing:\n",
      "tensor([0.8171], device='cuda:0', requires_grad=True), Parameter containing:\n",
      "tensor([0.6918], device='cuda:0', requires_grad=True), Parameter containing:\n",
      "tensor([0.5693], device='cuda:0', requires_grad=True), Parameter containing:\n",
      "tensor([1.3675], device='cuda:0', requires_grad=True), Parameter containing:\n",
      "tensor([1.0215], device='cuda:0', requires_grad=True), Parameter containing:\n",
      "tensor([0.8011], device='cuda:0', requires_grad=True), Parameter containing:\n",
      "tensor([0.7809], device='cuda:0', requires_grad=True), Parameter containing:\n",
      "tensor([0.8212], device='cuda:0', requires_grad=True)]\n"
     ]
    },
    {
     "name": "stderr",
     "output_type": "stream",
     "text": [
      "100%|██████████| 50/50 [00:26<00:00,  1.90it/s]\n"
     ]
    },
    {
     "name": "stdout",
     "output_type": "stream",
     "text": [
      "Epoch: 0063 lr: 0.00125 loss: 3.8427 time: 0.1362s\n",
      "[Parameter containing:\n",
      "tensor([1.4124], device='cuda:0', requires_grad=True), Parameter containing:\n",
      "tensor([0.8169], device='cuda:0', requires_grad=True), Parameter containing:\n",
      "tensor([0.6919], device='cuda:0', requires_grad=True), Parameter containing:\n",
      "tensor([0.5693], device='cuda:0', requires_grad=True), Parameter containing:\n",
      "tensor([1.3672], device='cuda:0', requires_grad=True), Parameter containing:\n",
      "tensor([1.0208], device='cuda:0', requires_grad=True), Parameter containing:\n",
      "tensor([0.8011], device='cuda:0', requires_grad=True), Parameter containing:\n",
      "tensor([0.7809], device='cuda:0', requires_grad=True), Parameter containing:\n",
      "tensor([0.8212], device='cuda:0', requires_grad=True)]\n"
     ]
    },
    {
     "name": "stderr",
     "output_type": "stream",
     "text": [
      "100%|██████████| 50/50 [00:26<00:00,  1.91it/s]\n"
     ]
    },
    {
     "name": "stdout",
     "output_type": "stream",
     "text": [
      "Epoch: 0064 lr: 0.00125 loss: 3.8190 time: 0.0675s\n",
      "[Parameter containing:\n",
      "tensor([1.4124], device='cuda:0', requires_grad=True), Parameter containing:\n",
      "tensor([0.8171], device='cuda:0', requires_grad=True), Parameter containing:\n",
      "tensor([0.6919], device='cuda:0', requires_grad=True), Parameter containing:\n",
      "tensor([0.5695], device='cuda:0', requires_grad=True), Parameter containing:\n",
      "tensor([1.3673], device='cuda:0', requires_grad=True), Parameter containing:\n",
      "tensor([1.0217], device='cuda:0', requires_grad=True), Parameter containing:\n",
      "tensor([0.8011], device='cuda:0', requires_grad=True), Parameter containing:\n",
      "tensor([0.7809], device='cuda:0', requires_grad=True), Parameter containing:\n",
      "tensor([0.8212], device='cuda:0', requires_grad=True)]\n"
     ]
    },
    {
     "name": "stderr",
     "output_type": "stream",
     "text": [
      "100%|██████████| 50/50 [00:26<00:00,  1.89it/s]\n"
     ]
    },
    {
     "name": "stdout",
     "output_type": "stream",
     "text": [
      "Epoch: 0065 lr: 0.00125 loss: 3.7973 time: 0.1134s\n",
      "[Parameter containing:\n",
      "tensor([1.4122], device='cuda:0', requires_grad=True), Parameter containing:\n",
      "tensor([0.8175], device='cuda:0', requires_grad=True), Parameter containing:\n",
      "tensor([0.6920], device='cuda:0', requires_grad=True), Parameter containing:\n",
      "tensor([0.5694], device='cuda:0', requires_grad=True), Parameter containing:\n",
      "tensor([1.3669], device='cuda:0', requires_grad=True), Parameter containing:\n",
      "tensor([1.0215], device='cuda:0', requires_grad=True), Parameter containing:\n",
      "tensor([0.8011], device='cuda:0', requires_grad=True), Parameter containing:\n",
      "tensor([0.7809], device='cuda:0', requires_grad=True), Parameter containing:\n",
      "tensor([0.8212], device='cuda:0', requires_grad=True)]\n"
     ]
    },
    {
     "name": "stderr",
     "output_type": "stream",
     "text": [
      "100%|██████████| 50/50 [00:26<00:00,  1.91it/s]\n"
     ]
    },
    {
     "name": "stdout",
     "output_type": "stream",
     "text": [
      "Epoch: 0066 lr: 0.00125 loss: 3.7765 time: 0.0865s\n",
      "[Parameter containing:\n",
      "tensor([1.4122], device='cuda:0', requires_grad=True), Parameter containing:\n",
      "tensor([0.8181], device='cuda:0', requires_grad=True), Parameter containing:\n",
      "tensor([0.6920], device='cuda:0', requires_grad=True), Parameter containing:\n",
      "tensor([0.5693], device='cuda:0', requires_grad=True), Parameter containing:\n",
      "tensor([1.3667], device='cuda:0', requires_grad=True), Parameter containing:\n",
      "tensor([1.0215], device='cuda:0', requires_grad=True), Parameter containing:\n",
      "tensor([0.8011], device='cuda:0', requires_grad=True), Parameter containing:\n",
      "tensor([0.7809], device='cuda:0', requires_grad=True), Parameter containing:\n",
      "tensor([0.8212], device='cuda:0', requires_grad=True)]\n"
     ]
    },
    {
     "name": "stderr",
     "output_type": "stream",
     "text": [
      "100%|██████████| 50/50 [00:26<00:00,  1.90it/s]\n"
     ]
    },
    {
     "name": "stdout",
     "output_type": "stream",
     "text": [
      "Epoch: 0067 lr: 0.00125 loss: 3.7545 time: 0.0811s\n",
      "[Parameter containing:\n",
      "tensor([1.4120], device='cuda:0', requires_grad=True), Parameter containing:\n",
      "tensor([0.8183], device='cuda:0', requires_grad=True), Parameter containing:\n",
      "tensor([0.6921], device='cuda:0', requires_grad=True), Parameter containing:\n",
      "tensor([0.5693], device='cuda:0', requires_grad=True), Parameter containing:\n",
      "tensor([1.3667], device='cuda:0', requires_grad=True), Parameter containing:\n",
      "tensor([1.0216], device='cuda:0', requires_grad=True), Parameter containing:\n",
      "tensor([0.8011], device='cuda:0', requires_grad=True), Parameter containing:\n",
      "tensor([0.7809], device='cuda:0', requires_grad=True), Parameter containing:\n",
      "tensor([0.8212], device='cuda:0', requires_grad=True)]\n"
     ]
    },
    {
     "name": "stderr",
     "output_type": "stream",
     "text": [
      "100%|██████████| 50/50 [00:26<00:00,  1.90it/s]\n"
     ]
    },
    {
     "name": "stdout",
     "output_type": "stream",
     "text": [
      "Epoch: 0068 lr: 0.00125 loss: 3.7267 time: 0.0836s\n",
      "[Parameter containing:\n",
      "tensor([1.4122], device='cuda:0', requires_grad=True), Parameter containing:\n",
      "tensor([0.8184], device='cuda:0', requires_grad=True), Parameter containing:\n",
      "tensor([0.6919], device='cuda:0', requires_grad=True), Parameter containing:\n",
      "tensor([0.5692], device='cuda:0', requires_grad=True), Parameter containing:\n",
      "tensor([1.3665], device='cuda:0', requires_grad=True), Parameter containing:\n",
      "tensor([1.0224], device='cuda:0', requires_grad=True), Parameter containing:\n",
      "tensor([0.8011], device='cuda:0', requires_grad=True), Parameter containing:\n",
      "tensor([0.7809], device='cuda:0', requires_grad=True), Parameter containing:\n",
      "tensor([0.8212], device='cuda:0', requires_grad=True)]\n"
     ]
    },
    {
     "name": "stderr",
     "output_type": "stream",
     "text": [
      " 12%|█▏        | 6/50 [00:03<00:26,  1.69it/s]\n"
     ]
    },
    {
     "ename": "KeyboardInterrupt",
     "evalue": "",
     "output_type": "error",
     "traceback": [
      "\u001B[1;31m---------------------------------------------------------------------------\u001B[0m",
      "\u001B[1;31mKeyboardInterrupt\u001B[0m                         Traceback (most recent call last)",
      "Input \u001B[1;32mIn [7]\u001B[0m, in \u001B[0;36m<cell line: 23>\u001B[1;34m()\u001B[0m\n\u001B[0;32m     24\u001B[0m loss_sum,n,t \u001B[38;5;241m=\u001B[39m \u001B[38;5;241m0\u001B[39m,\u001B[38;5;241m0\u001B[39m,\u001B[38;5;241m0.0\u001B[39m\n\u001B[0;32m     25\u001B[0m counter \u001B[38;5;241m=\u001B[39m \u001B[38;5;241m0\u001B[39m\n\u001B[1;32m---> 26\u001B[0m \u001B[38;5;28;01mfor\u001B[39;00m \u001B[38;5;28minput\u001B[39m \u001B[38;5;129;01min\u001B[39;00m tqdm(train_loader):\n\u001B[0;32m     27\u001B[0m     counter\u001B[38;5;241m+\u001B[39m\u001B[38;5;241m=\u001B[39m\u001B[38;5;241m1\u001B[39m\n\u001B[0;32m     28\u001B[0m     \u001B[38;5;66;03m# if counter>10:\u001B[39;00m\n\u001B[0;32m     29\u001B[0m     \u001B[38;5;66;03m#     sys.exit(0)\u001B[39;00m\n",
      "File \u001B[1;32mD:\\Anaconda\\envs\\hdmm\\lib\\site-packages\\tqdm\\std.py:1195\u001B[0m, in \u001B[0;36mtqdm.__iter__\u001B[1;34m(self)\u001B[0m\n\u001B[0;32m   1192\u001B[0m time \u001B[38;5;241m=\u001B[39m \u001B[38;5;28mself\u001B[39m\u001B[38;5;241m.\u001B[39m_time\n\u001B[0;32m   1194\u001B[0m \u001B[38;5;28;01mtry\u001B[39;00m:\n\u001B[1;32m-> 1195\u001B[0m     \u001B[38;5;28;01mfor\u001B[39;00m obj \u001B[38;5;129;01min\u001B[39;00m iterable:\n\u001B[0;32m   1196\u001B[0m         \u001B[38;5;28;01myield\u001B[39;00m obj\n\u001B[0;32m   1197\u001B[0m         \u001B[38;5;66;03m# Update and possibly print the progressbar.\u001B[39;00m\n\u001B[0;32m   1198\u001B[0m         \u001B[38;5;66;03m# Note: does not call self.update(1) for speed optimisation.\u001B[39;00m\n",
      "File \u001B[1;32mD:\\Anaconda\\envs\\hdmm\\lib\\site-packages\\torch\\utils\\data\\dataloader.py:681\u001B[0m, in \u001B[0;36m_BaseDataLoaderIter.__next__\u001B[1;34m(self)\u001B[0m\n\u001B[0;32m    678\u001B[0m \u001B[38;5;28;01mif\u001B[39;00m \u001B[38;5;28mself\u001B[39m\u001B[38;5;241m.\u001B[39m_sampler_iter \u001B[38;5;129;01mis\u001B[39;00m \u001B[38;5;28;01mNone\u001B[39;00m:\n\u001B[0;32m    679\u001B[0m     \u001B[38;5;66;03m# TODO(https://github.com/pytorch/pytorch/issues/76750)\u001B[39;00m\n\u001B[0;32m    680\u001B[0m     \u001B[38;5;28mself\u001B[39m\u001B[38;5;241m.\u001B[39m_reset()  \u001B[38;5;66;03m# type: ignore[call-arg]\u001B[39;00m\n\u001B[1;32m--> 681\u001B[0m data \u001B[38;5;241m=\u001B[39m \u001B[38;5;28;43mself\u001B[39;49m\u001B[38;5;241;43m.\u001B[39;49m\u001B[43m_next_data\u001B[49m\u001B[43m(\u001B[49m\u001B[43m)\u001B[49m\n\u001B[0;32m    682\u001B[0m \u001B[38;5;28mself\u001B[39m\u001B[38;5;241m.\u001B[39m_num_yielded \u001B[38;5;241m+\u001B[39m\u001B[38;5;241m=\u001B[39m \u001B[38;5;241m1\u001B[39m\n\u001B[0;32m    683\u001B[0m \u001B[38;5;28;01mif\u001B[39;00m \u001B[38;5;28mself\u001B[39m\u001B[38;5;241m.\u001B[39m_dataset_kind \u001B[38;5;241m==\u001B[39m _DatasetKind\u001B[38;5;241m.\u001B[39mIterable \u001B[38;5;129;01mand\u001B[39;00m \\\n\u001B[0;32m    684\u001B[0m         \u001B[38;5;28mself\u001B[39m\u001B[38;5;241m.\u001B[39m_IterableDataset_len_called \u001B[38;5;129;01mis\u001B[39;00m \u001B[38;5;129;01mnot\u001B[39;00m \u001B[38;5;28;01mNone\u001B[39;00m \u001B[38;5;129;01mand\u001B[39;00m \\\n\u001B[0;32m    685\u001B[0m         \u001B[38;5;28mself\u001B[39m\u001B[38;5;241m.\u001B[39m_num_yielded \u001B[38;5;241m>\u001B[39m \u001B[38;5;28mself\u001B[39m\u001B[38;5;241m.\u001B[39m_IterableDataset_len_called:\n",
      "File \u001B[1;32mD:\\Anaconda\\envs\\hdmm\\lib\\site-packages\\torch\\utils\\data\\dataloader.py:721\u001B[0m, in \u001B[0;36m_SingleProcessDataLoaderIter._next_data\u001B[1;34m(self)\u001B[0m\n\u001B[0;32m    719\u001B[0m \u001B[38;5;28;01mdef\u001B[39;00m \u001B[38;5;21m_next_data\u001B[39m(\u001B[38;5;28mself\u001B[39m):\n\u001B[0;32m    720\u001B[0m     index \u001B[38;5;241m=\u001B[39m \u001B[38;5;28mself\u001B[39m\u001B[38;5;241m.\u001B[39m_next_index()  \u001B[38;5;66;03m# may raise StopIteration\u001B[39;00m\n\u001B[1;32m--> 721\u001B[0m     data \u001B[38;5;241m=\u001B[39m \u001B[38;5;28;43mself\u001B[39;49m\u001B[38;5;241;43m.\u001B[39;49m\u001B[43m_dataset_fetcher\u001B[49m\u001B[38;5;241;43m.\u001B[39;49m\u001B[43mfetch\u001B[49m\u001B[43m(\u001B[49m\u001B[43mindex\u001B[49m\u001B[43m)\u001B[49m  \u001B[38;5;66;03m# may raise StopIteration\u001B[39;00m\n\u001B[0;32m    722\u001B[0m     \u001B[38;5;28;01mif\u001B[39;00m \u001B[38;5;28mself\u001B[39m\u001B[38;5;241m.\u001B[39m_pin_memory:\n\u001B[0;32m    723\u001B[0m         data \u001B[38;5;241m=\u001B[39m _utils\u001B[38;5;241m.\u001B[39mpin_memory\u001B[38;5;241m.\u001B[39mpin_memory(data, \u001B[38;5;28mself\u001B[39m\u001B[38;5;241m.\u001B[39m_pin_memory_device)\n",
      "File \u001B[1;32mD:\\Anaconda\\envs\\hdmm\\lib\\site-packages\\torch\\utils\\data\\_utils\\fetch.py:49\u001B[0m, in \u001B[0;36m_MapDatasetFetcher.fetch\u001B[1;34m(self, possibly_batched_index)\u001B[0m\n\u001B[0;32m     47\u001B[0m \u001B[38;5;28;01mdef\u001B[39;00m \u001B[38;5;21mfetch\u001B[39m(\u001B[38;5;28mself\u001B[39m, possibly_batched_index):\n\u001B[0;32m     48\u001B[0m     \u001B[38;5;28;01mif\u001B[39;00m \u001B[38;5;28mself\u001B[39m\u001B[38;5;241m.\u001B[39mauto_collation:\n\u001B[1;32m---> 49\u001B[0m         data \u001B[38;5;241m=\u001B[39m [\u001B[38;5;28mself\u001B[39m\u001B[38;5;241m.\u001B[39mdataset[idx] \u001B[38;5;28;01mfor\u001B[39;00m idx \u001B[38;5;129;01min\u001B[39;00m possibly_batched_index]\n\u001B[0;32m     50\u001B[0m     \u001B[38;5;28;01melse\u001B[39;00m:\n\u001B[0;32m     51\u001B[0m         data \u001B[38;5;241m=\u001B[39m \u001B[38;5;28mself\u001B[39m\u001B[38;5;241m.\u001B[39mdataset[possibly_batched_index]\n",
      "File \u001B[1;32mD:\\Anaconda\\envs\\hdmm\\lib\\site-packages\\torch\\utils\\data\\_utils\\fetch.py:49\u001B[0m, in \u001B[0;36m<listcomp>\u001B[1;34m(.0)\u001B[0m\n\u001B[0;32m     47\u001B[0m \u001B[38;5;28;01mdef\u001B[39;00m \u001B[38;5;21mfetch\u001B[39m(\u001B[38;5;28mself\u001B[39m, possibly_batched_index):\n\u001B[0;32m     48\u001B[0m     \u001B[38;5;28;01mif\u001B[39;00m \u001B[38;5;28mself\u001B[39m\u001B[38;5;241m.\u001B[39mauto_collation:\n\u001B[1;32m---> 49\u001B[0m         data \u001B[38;5;241m=\u001B[39m [\u001B[38;5;28;43mself\u001B[39;49m\u001B[38;5;241;43m.\u001B[39;49m\u001B[43mdataset\u001B[49m\u001B[43m[\u001B[49m\u001B[43midx\u001B[49m\u001B[43m]\u001B[49m \u001B[38;5;28;01mfor\u001B[39;00m idx \u001B[38;5;129;01min\u001B[39;00m possibly_batched_index]\n\u001B[0;32m     50\u001B[0m     \u001B[38;5;28;01melse\u001B[39;00m:\n\u001B[0;32m     51\u001B[0m         data \u001B[38;5;241m=\u001B[39m \u001B[38;5;28mself\u001B[39m\u001B[38;5;241m.\u001B[39mdataset[possibly_batched_index]\n",
      "File \u001B[1;32mD:\\Anaconda\\envs\\hdmm\\lib\\site-packages\\schnetpack\\data\\atoms.py:634\u001B[0m, in \u001B[0;36mAtomsDataSubset.__getitem__\u001B[1;34m(self, idx)\u001B[0m\n\u001B[0;32m    633\u001B[0m \u001B[38;5;28;01mdef\u001B[39;00m \u001B[38;5;21m__getitem__\u001B[39m(\u001B[38;5;28mself\u001B[39m, idx):\n\u001B[1;32m--> 634\u001B[0m     _, properties \u001B[38;5;241m=\u001B[39m \u001B[38;5;28;43mself\u001B[39;49m\u001B[38;5;241;43m.\u001B[39;49m\u001B[43mget_properties\u001B[49m\u001B[43m(\u001B[49m\u001B[38;5;28;43mself\u001B[39;49m\u001B[38;5;241;43m.\u001B[39;49m\u001B[43mindices\u001B[49m\u001B[43m[\u001B[49m\u001B[43midx\u001B[49m\u001B[43m]\u001B[49m\u001B[43m,\u001B[49m\u001B[43m \u001B[49m\u001B[38;5;28;43mself\u001B[39;49m\u001B[38;5;241;43m.\u001B[39;49m\u001B[43mload_only\u001B[49m\u001B[43m)\u001B[49m\n\u001B[0;32m    635\u001B[0m     properties[\u001B[38;5;124m\"\u001B[39m\u001B[38;5;124m_idx\u001B[39m\u001B[38;5;124m\"\u001B[39m] \u001B[38;5;241m=\u001B[39m np\u001B[38;5;241m.\u001B[39marray([idx], dtype\u001B[38;5;241m=\u001B[39mnp\u001B[38;5;241m.\u001B[39mint)\n\u001B[0;32m    637\u001B[0m     \u001B[38;5;28;01mreturn\u001B[39;00m torchify_dict(properties)\n",
      "File \u001B[1;32mD:\\Anaconda\\envs\\hdmm\\lib\\site-packages\\schnetpack\\data\\atoms.py:608\u001B[0m, in \u001B[0;36mAtomsDataSubset.get_properties\u001B[1;34m(self, idx, load_only)\u001B[0m\n\u001B[0;32m    607\u001B[0m \u001B[38;5;28;01mdef\u001B[39;00m \u001B[38;5;21mget_properties\u001B[39m(\u001B[38;5;28mself\u001B[39m, idx, load_only\u001B[38;5;241m=\u001B[39m\u001B[38;5;28;01mNone\u001B[39;00m):\n\u001B[1;32m--> 608\u001B[0m     \u001B[38;5;28;01mreturn\u001B[39;00m \u001B[38;5;28;43mself\u001B[39;49m\u001B[38;5;241;43m.\u001B[39;49m\u001B[43mdataset\u001B[49m\u001B[38;5;241;43m.\u001B[39;49m\u001B[43mget_properties\u001B[49m\u001B[43m(\u001B[49m\u001B[43midx\u001B[49m\u001B[43m,\u001B[49m\u001B[43m \u001B[49m\u001B[43mload_only\u001B[49m\u001B[43m)\u001B[49m\n",
      "File \u001B[1;32mD:\\Anaconda\\envs\\hdmm\\lib\\site-packages\\schnetpack\\data\\atoms.py:239\u001B[0m, in \u001B[0;36mAtomsData.get_properties\u001B[1;34m(self, idx, load_only)\u001B[0m\n\u001B[0;32m    237\u001B[0m \u001B[38;5;66;03m# read from ase-database\u001B[39;00m\n\u001B[0;32m    238\u001B[0m \u001B[38;5;28;01mwith\u001B[39;00m connect(\u001B[38;5;28mself\u001B[39m\u001B[38;5;241m.\u001B[39mdbpath) \u001B[38;5;28;01mas\u001B[39;00m conn:\n\u001B[1;32m--> 239\u001B[0m     row \u001B[38;5;241m=\u001B[39m \u001B[43mconn\u001B[49m\u001B[38;5;241;43m.\u001B[39;49m\u001B[43mget\u001B[49m\u001B[43m(\u001B[49m\u001B[43midx\u001B[49m\u001B[43m \u001B[49m\u001B[38;5;241;43m+\u001B[39;49m\u001B[43m \u001B[49m\u001B[38;5;241;43m1\u001B[39;49m\u001B[43m)\u001B[49m\n\u001B[0;32m    240\u001B[0m at \u001B[38;5;241m=\u001B[39m row\u001B[38;5;241m.\u001B[39mtoatoms()\n\u001B[0;32m    242\u001B[0m \u001B[38;5;66;03m# extract properties\u001B[39;00m\n",
      "File \u001B[1;32mD:\\Anaconda\\envs\\hdmm\\lib\\site-packages\\ase\\db\\core.py:430\u001B[0m, in \u001B[0;36mDatabase.get\u001B[1;34m(self, selection, **kwargs)\u001B[0m\n\u001B[0;32m    424\u001B[0m \u001B[38;5;28;01mdef\u001B[39;00m \u001B[38;5;21mget\u001B[39m(\u001B[38;5;28mself\u001B[39m, selection\u001B[38;5;241m=\u001B[39m\u001B[38;5;28;01mNone\u001B[39;00m, \u001B[38;5;241m*\u001B[39m\u001B[38;5;241m*\u001B[39mkwargs):\n\u001B[0;32m    425\u001B[0m     \u001B[38;5;124;03m\"\"\"Select a single row and return it as a dictionary.\u001B[39;00m\n\u001B[0;32m    426\u001B[0m \n\u001B[0;32m    427\u001B[0m \u001B[38;5;124;03m    selection: int, str or list\u001B[39;00m\n\u001B[0;32m    428\u001B[0m \u001B[38;5;124;03m        See the select() method.\u001B[39;00m\n\u001B[0;32m    429\u001B[0m \u001B[38;5;124;03m    \"\"\"\u001B[39;00m\n\u001B[1;32m--> 430\u001B[0m     rows \u001B[38;5;241m=\u001B[39m \u001B[38;5;28;43mlist\u001B[39;49m\u001B[43m(\u001B[49m\u001B[38;5;28;43mself\u001B[39;49m\u001B[38;5;241;43m.\u001B[39;49m\u001B[43mselect\u001B[49m\u001B[43m(\u001B[49m\u001B[43mselection\u001B[49m\u001B[43m,\u001B[49m\u001B[43m \u001B[49m\u001B[43mlimit\u001B[49m\u001B[38;5;241;43m=\u001B[39;49m\u001B[38;5;241;43m2\u001B[39;49m\u001B[43m,\u001B[49m\u001B[43m \u001B[49m\u001B[38;5;241;43m*\u001B[39;49m\u001B[38;5;241;43m*\u001B[39;49m\u001B[43mkwargs\u001B[49m\u001B[43m)\u001B[49m\u001B[43m)\u001B[49m\n\u001B[0;32m    431\u001B[0m     \u001B[38;5;28;01mif\u001B[39;00m \u001B[38;5;129;01mnot\u001B[39;00m rows:\n\u001B[0;32m    432\u001B[0m         \u001B[38;5;28;01mraise\u001B[39;00m \u001B[38;5;167;01mKeyError\u001B[39;00m(\u001B[38;5;124m'\u001B[39m\u001B[38;5;124mno match\u001B[39m\u001B[38;5;124m'\u001B[39m)\n",
      "File \u001B[1;32mD:\\Anaconda\\envs\\hdmm\\lib\\site-packages\\ase\\parallel.py:275\u001B[0m, in \u001B[0;36mparallel_generator.<locals>.new_generator\u001B[1;34m(*args, **kwargs)\u001B[0m\n\u001B[0;32m    269\u001B[0m \u001B[38;5;129m@functools\u001B[39m\u001B[38;5;241m.\u001B[39mwraps(generator)\n\u001B[0;32m    270\u001B[0m \u001B[38;5;28;01mdef\u001B[39;00m \u001B[38;5;21mnew_generator\u001B[39m(\u001B[38;5;241m*\u001B[39margs, \u001B[38;5;241m*\u001B[39m\u001B[38;5;241m*\u001B[39mkwargs):\n\u001B[0;32m    271\u001B[0m     \u001B[38;5;28;01mif\u001B[39;00m (world\u001B[38;5;241m.\u001B[39msize \u001B[38;5;241m==\u001B[39m \u001B[38;5;241m1\u001B[39m \u001B[38;5;129;01mor\u001B[39;00m\n\u001B[0;32m    272\u001B[0m         args \u001B[38;5;129;01mand\u001B[39;00m \u001B[38;5;28mgetattr\u001B[39m(args[\u001B[38;5;241m0\u001B[39m], \u001B[38;5;124m'\u001B[39m\u001B[38;5;124mserial\u001B[39m\u001B[38;5;124m'\u001B[39m, \u001B[38;5;28;01mFalse\u001B[39;00m) \u001B[38;5;129;01mor\u001B[39;00m\n\u001B[0;32m    273\u001B[0m         \u001B[38;5;129;01mnot\u001B[39;00m kwargs\u001B[38;5;241m.\u001B[39mpop(\u001B[38;5;124m'\u001B[39m\u001B[38;5;124mparallel\u001B[39m\u001B[38;5;124m'\u001B[39m, \u001B[38;5;28;01mTrue\u001B[39;00m)):\n\u001B[0;32m    274\u001B[0m         \u001B[38;5;66;03m# Disable:\u001B[39;00m\n\u001B[1;32m--> 275\u001B[0m         \u001B[38;5;28;01mfor\u001B[39;00m result \u001B[38;5;129;01min\u001B[39;00m generator(\u001B[38;5;241m*\u001B[39margs, \u001B[38;5;241m*\u001B[39m\u001B[38;5;241m*\u001B[39mkwargs):\n\u001B[0;32m    276\u001B[0m             \u001B[38;5;28;01myield\u001B[39;00m result\n\u001B[0;32m    277\u001B[0m         \u001B[38;5;28;01mreturn\u001B[39;00m\n",
      "File \u001B[1;32mD:\\Anaconda\\envs\\hdmm\\lib\\site-packages\\ase\\db\\core.py:486\u001B[0m, in \u001B[0;36mDatabase.select\u001B[1;34m(self, selection, filter, explain, verbosity, limit, offset, sort, include_data, columns, **kwargs)\u001B[0m\n\u001B[0;32m    483\u001B[0m         sort \u001B[38;5;241m+\u001B[39m\u001B[38;5;241m=\u001B[39m \u001B[38;5;124m'\u001B[39m\u001B[38;5;124mname\u001B[39m\u001B[38;5;124m'\u001B[39m\n\u001B[0;32m    485\u001B[0m keys, cmps \u001B[38;5;241m=\u001B[39m parse_selection(selection, \u001B[38;5;241m*\u001B[39m\u001B[38;5;241m*\u001B[39mkwargs)\n\u001B[1;32m--> 486\u001B[0m \u001B[38;5;28;01mfor\u001B[39;00m row \u001B[38;5;129;01min\u001B[39;00m \u001B[38;5;28mself\u001B[39m\u001B[38;5;241m.\u001B[39m_select(keys, cmps, explain\u001B[38;5;241m=\u001B[39mexplain,\n\u001B[0;32m    487\u001B[0m                         verbosity\u001B[38;5;241m=\u001B[39mverbosity,\n\u001B[0;32m    488\u001B[0m                         limit\u001B[38;5;241m=\u001B[39mlimit, offset\u001B[38;5;241m=\u001B[39moffset, sort\u001B[38;5;241m=\u001B[39msort,\n\u001B[0;32m    489\u001B[0m                         include_data\u001B[38;5;241m=\u001B[39minclude_data,\n\u001B[0;32m    490\u001B[0m                         columns\u001B[38;5;241m=\u001B[39mcolumns):\n\u001B[0;32m    491\u001B[0m     \u001B[38;5;28;01mif\u001B[39;00m \u001B[38;5;28mfilter\u001B[39m \u001B[38;5;129;01mis\u001B[39;00m \u001B[38;5;28;01mNone\u001B[39;00m \u001B[38;5;129;01mor\u001B[39;00m \u001B[38;5;28mfilter\u001B[39m(row):\n\u001B[0;32m    492\u001B[0m         \u001B[38;5;28;01myield\u001B[39;00m row\n",
      "File \u001B[1;32mD:\\Anaconda\\envs\\hdmm\\lib\\site-packages\\ase\\db\\sqlite.py:688\u001B[0m, in \u001B[0;36mSQLite3Database._select\u001B[1;34m(self, keys, cmps, explain, verbosity, limit, offset, sort, include_data, columns)\u001B[0m\n\u001B[0;32m    685\u001B[0m \u001B[38;5;28;01mif\u001B[39;00m verbosity \u001B[38;5;241m==\u001B[39m \u001B[38;5;241m2\u001B[39m:\n\u001B[0;32m    686\u001B[0m     \u001B[38;5;28mprint\u001B[39m(sql, args)\n\u001B[1;32m--> 688\u001B[0m \u001B[38;5;28;01mwith\u001B[39;00m \u001B[38;5;28mself\u001B[39m\u001B[38;5;241m.\u001B[39mmanaged_connection() \u001B[38;5;28;01mas\u001B[39;00m con:\n\u001B[0;32m    689\u001B[0m     cur \u001B[38;5;241m=\u001B[39m con\u001B[38;5;241m.\u001B[39mcursor()\n\u001B[0;32m    690\u001B[0m     cur\u001B[38;5;241m.\u001B[39mexecute(sql, args)\n",
      "File \u001B[1;32mD:\\Anaconda\\envs\\hdmm\\lib\\contextlib.py:119\u001B[0m, in \u001B[0;36m_GeneratorContextManager.__enter__\u001B[1;34m(self)\u001B[0m\n\u001B[0;32m    117\u001B[0m \u001B[38;5;28;01mdel\u001B[39;00m \u001B[38;5;28mself\u001B[39m\u001B[38;5;241m.\u001B[39margs, \u001B[38;5;28mself\u001B[39m\u001B[38;5;241m.\u001B[39mkwds, \u001B[38;5;28mself\u001B[39m\u001B[38;5;241m.\u001B[39mfunc\n\u001B[0;32m    118\u001B[0m \u001B[38;5;28;01mtry\u001B[39;00m:\n\u001B[1;32m--> 119\u001B[0m     \u001B[38;5;28;01mreturn\u001B[39;00m \u001B[38;5;28;43mnext\u001B[39;49m\u001B[43m(\u001B[49m\u001B[38;5;28;43mself\u001B[39;49m\u001B[38;5;241;43m.\u001B[39;49m\u001B[43mgen\u001B[49m\u001B[43m)\u001B[49m\n\u001B[0;32m    120\u001B[0m \u001B[38;5;28;01mexcept\u001B[39;00m \u001B[38;5;167;01mStopIteration\u001B[39;00m:\n\u001B[0;32m    121\u001B[0m     \u001B[38;5;28;01mraise\u001B[39;00m \u001B[38;5;167;01mRuntimeError\u001B[39;00m(\u001B[38;5;124m\"\u001B[39m\u001B[38;5;124mgenerator didn\u001B[39m\u001B[38;5;124m'\u001B[39m\u001B[38;5;124mt yield\u001B[39m\u001B[38;5;124m\"\u001B[39m) \u001B[38;5;28;01mfrom\u001B[39;00m \u001B[38;5;28mNone\u001B[39m\n",
      "File \u001B[1;32mD:\\Anaconda\\envs\\hdmm\\lib\\site-packages\\ase\\db\\sqlite.py:193\u001B[0m, in \u001B[0;36mSQLite3Database.managed_connection\u001B[1;34m(self, commit_frequency)\u001B[0m\n\u001B[0;32m    191\u001B[0m \u001B[38;5;28;01mtry\u001B[39;00m:\n\u001B[0;32m    192\u001B[0m     con \u001B[38;5;241m=\u001B[39m \u001B[38;5;28mself\u001B[39m\u001B[38;5;241m.\u001B[39mconnection \u001B[38;5;129;01mor\u001B[39;00m \u001B[38;5;28mself\u001B[39m\u001B[38;5;241m.\u001B[39m_connect()\n\u001B[1;32m--> 193\u001B[0m     \u001B[38;5;28;43mself\u001B[39;49m\u001B[38;5;241;43m.\u001B[39;49m\u001B[43m_initialize\u001B[49m\u001B[43m(\u001B[49m\u001B[43mcon\u001B[49m\u001B[43m)\u001B[49m\n\u001B[0;32m    194\u001B[0m     \u001B[38;5;28;01myield\u001B[39;00m con\n\u001B[0;32m    195\u001B[0m \u001B[38;5;28;01mexcept\u001B[39;00m \u001B[38;5;167;01mValueError\u001B[39;00m \u001B[38;5;28;01mas\u001B[39;00m exc:\n",
      "File \u001B[1;32mD:\\Anaconda\\envs\\hdmm\\lib\\site-packages\\ase\\db\\sqlite.py:214\u001B[0m, in \u001B[0;36mSQLite3Database._initialize\u001B[1;34m(self, con)\u001B[0m\n\u001B[0;32m    210\u001B[0m     \u001B[38;5;28;01mreturn\u001B[39;00m\n\u001B[0;32m    212\u001B[0m \u001B[38;5;28mself\u001B[39m\u001B[38;5;241m.\u001B[39m_metadata \u001B[38;5;241m=\u001B[39m {}\n\u001B[1;32m--> 214\u001B[0m cur \u001B[38;5;241m=\u001B[39m \u001B[43mcon\u001B[49m\u001B[38;5;241;43m.\u001B[39;49m\u001B[43mexecute\u001B[49m\u001B[43m(\u001B[49m\n\u001B[0;32m    215\u001B[0m \u001B[43m    \u001B[49m\u001B[38;5;124;43m'\u001B[39;49m\u001B[38;5;124;43mSELECT COUNT(*) FROM sqlite_master WHERE name=\u001B[39;49m\u001B[38;5;124;43m\"\u001B[39;49m\u001B[38;5;124;43msystems\u001B[39;49m\u001B[38;5;124;43m\"\u001B[39;49m\u001B[38;5;124;43m'\u001B[39;49m\u001B[43m)\u001B[49m\n\u001B[0;32m    217\u001B[0m \u001B[38;5;28;01mif\u001B[39;00m cur\u001B[38;5;241m.\u001B[39mfetchone()[\u001B[38;5;241m0\u001B[39m] \u001B[38;5;241m==\u001B[39m \u001B[38;5;241m0\u001B[39m:\n\u001B[0;32m    218\u001B[0m     \u001B[38;5;28;01mfor\u001B[39;00m statement \u001B[38;5;129;01min\u001B[39;00m init_statements:\n",
      "\u001B[1;31mKeyboardInterrupt\u001B[0m: "
     ]
    }
   ],
   "source": [
    "import sys\n",
    "import json\n",
    "class obj(object):\n",
    "    def __init__(self, dict_):\n",
    "        self.__dict__.update(dict_)\n",
    "args = json.loads(json.dumps(config_args), object_hook=obj)\n",
    "\n",
    "model = RegModel(args)\n",
    "optimizer = getattr(optimizers, args.optimizer)(params=model.parameters(), lr=args.lr,\n",
    "                                                    weight_decay=args.weight_decay)\n",
    "lr_scheduler = torch.optim.lr_scheduler.StepLR(\n",
    "    optimizer,\n",
    "    step_size=args.lr_reduce_freq,\n",
    "    gamma=float(args.gamma)\n",
    ")\n",
    "tot_params = sum([np.prod(p.size()) for p in model.parameters()])\n",
    "logging.info(f\"Total number of parameters: {tot_params}\")\n",
    "device = torch.device('cuda')\n",
    "# Train model\n",
    "t_total = time.time()\n",
    "model = model.to(device)\n",
    "loss_fun = torch.nn.MSELoss()\n",
    "for epoch in range(args.epochs):\n",
    "    loss_sum,n,t = 0,0,0.0\n",
    "    counter = 0\n",
    "    for input in tqdm(train_loader):\n",
    "        counter+=1\n",
    "        # if counter>10:\n",
    "        #     sys.exit(0)\n",
    "        for key in input:\n",
    "            input[key] = input[key].to(torch.device('cuda'))\n",
    "        t = time.time()\n",
    "        model.train()\n",
    "        optimizer.zero_grad()\n",
    "        y_hat = model(input)\n",
    "        # print('y_hat',y_hat[:2])\n",
    "        # print('input[QM9.U0]',input[QM9.U0][:2])\n",
    "        loss = loss_fun(y_hat,input[QM9.U0])\n",
    "\n",
    "\n",
    "        # print(loss)\n",
    "        loss.backward()\n",
    "        loss_sum += loss\n",
    "        n += 1\n",
    "        if args.grad_clip is not None:\n",
    "            max_norm = float(args.grad_clip)\n",
    "            all_params = list(model.parameters())\n",
    "            for param in all_params:\n",
    "                torch.nn.utils.clip_grad_norm_(param, max_norm)\n",
    "        optimizer.step()\n",
    "    lr_scheduler.step()\n",
    "    if (epoch + 1) % args.log_freq == 0:\n",
    "        str = \" \".join(['Epoch: {:04d}'.format(epoch + 1),\n",
    "                               'lr: {}'.format(lr_scheduler.get_last_lr()[0]),\n",
    "                               'loss: {:.4f}'.format(loss_sum/n),\n",
    "                               'time: {:.4f}s'.format(time.time() - t)\n",
    "                               ])\n",
    "        print(str)\n",
    "        logging.info(str)\n",
    "        curvatures = list(model.get_submodule('curvatures'))\n",
    "        print(curvatures)\n",
    "\n",
    "\n",
    "\n",
    "    # if (epoch + 1) % args.eval_freq == 0:\n",
    "    #     model.eval()\n",
    "    #     embeddings = model.encode(data['features'], data['adj_train_norm'])\n",
    "    #     val_metrics = model.compute_metrics(embeddings, data, 'val')\n",
    "    #     if (epoch + 1) % args.log_freq == 0:\n",
    "    #         logging.info(\" \".join(['Epoch: {:04d}'.format(epoch + 1), format_metrics(val_metrics, 'val')]))\n",
    "    #     if model.has_improved(best_val_metrics, val_metrics):\n",
    "    #         best_test_metrics = model.compute_metrics(embeddings, data, 'test')\n",
    "    #         best_emb = embeddings.cpu()\n",
    "    #         if args.save:\n",
    "    #             np.save(os.path.join(save_dir, 'embeddings.npy'), best_emb.detach().numpy())\n",
    "    #         best_val_metrics = val_metrics\n",
    "    #         counter = 0\n",
    "    #     else:\n",
    "    #         counter += 1\n",
    "    #         if counter == args.patience and epoch > args.min_epochs:\n",
    "    #             logging.info(\"Early stopping\")\n",
    "    #             break\n",
    "\n",
    "    \"\"\"\n",
    "    Epoch: 0027 lr: 0.01 loss: 1459.0519 time: 0.0866s\n",
    "\n",
    "    \"\"\""
   ],
   "metadata": {
    "collapsed": false,
    "pycharm": {
     "name": "#%%\n"
    }
   }
  },
  {
   "cell_type": "code",
   "execution_count": null,
   "outputs": [],
   "source": [],
   "metadata": {
    "collapsed": false,
    "pycharm": {
     "name": "#%%\n"
    }
   }
  },
  {
   "cell_type": "code",
   "execution_count": null,
   "outputs": [],
   "source": [
    "# from manifolds.hyperboloid import Hyperboloid\n",
    "# import torch\n",
    "# size = (2,5,10)\n",
    "# a = 2*torch.ones(size)\n",
    "# a = torch.concat([torch.zeros((2,5,1)),a],dim=2)\n",
    "# print(a)\n",
    "# hyper = Hyperboloid()\n",
    "# c = 1\n",
    "# a_H = hyper.expmap0(a,c)  #\n",
    "# print(a_H)\n",
    "# a_H_p = hyper.proj(a_H,c)  #对双曲空间的向量没有影响\n",
    "# print(a_H_p)\n",
    "\n",
    "# a_tan = hyper.logmap0(a_H,c)\n",
    "# print(a_tan)\n",
    "#\n",
    "# a_tan_p = hyper.proj_tan0(a_tan,c)  #  对已经在o点切空间的向量没有影响\n",
    "# print(a_tan_p)\n",
    "\n",
    "# a_tan_a = hyper.logmap(a_H,a_H,c)  # 向量在其切空间是0\n",
    "# print(a_tan_a)\n",
    "\n",
    "\n",
    "\n"
   ],
   "metadata": {
    "collapsed": false,
    "pycharm": {
     "name": "#%%\n"
    }
   }
  },
  {
   "cell_type": "code",
   "execution_count": null,
   "outputs": [],
   "source": [],
   "metadata": {
    "collapsed": false,
    "pycharm": {
     "name": "#%%\n"
    }
   }
  }
 ],
 "metadata": {
  "kernelspec": {
   "display_name": "Python 3",
   "language": "python",
   "name": "python3"
  },
  "language_info": {
   "codemirror_mode": {
    "name": "ipython",
    "version": 2
   },
   "file_extension": ".py",
   "mimetype": "text/x-python",
   "name": "python",
   "nbconvert_exporter": "python",
   "pygments_lexer": "ipython2",
   "version": "2.7.6"
  }
 },
 "nbformat": 4,
 "nbformat_minor": 0
}